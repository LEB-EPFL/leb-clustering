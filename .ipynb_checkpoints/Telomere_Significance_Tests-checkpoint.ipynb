{
 "metadata": {
  "name": "",
  "signature": "sha256:3879578f3747b486d558e36e7d1dbd2c166481d66afac6cf27571a207e7237c3"
 },
 "nbformat": 3,
 "nbformat_minor": 0,
 "worksheets": [
  {
   "cells": [
    {
     "cell_type": "heading",
     "level": 1,
     "metadata": {},
     "source": [
      "Tests for Significantly Different Distributions\n",
      "in the STORM/Telomere Project"
     ]
    },
    {
     "cell_type": "markdown",
     "metadata": {},
     "source": [
      "The major results of the telomere project are probability distributions for measuring a given radius of gyration of a telomere. After knockdown of any particular shelterin protein, we would like to know if the size distribution has changed relative to the control. This means we would like to answer the following question: **do two sets of samples have different probability distributions?**"
     ]
    },
    {
     "cell_type": "heading",
     "level": 2,
     "metadata": {},
     "source": [
      "Two sample t-test"
     ]
    },
    {
     "cell_type": "raw",
     "metadata": {},
     "source": [
      "Traditionally, a two sample t-test (or one of its variations) is used to determine whether two sample means are significantly different. To perform the two sample t-test, the following requirements should be satisifed:\n",
      "\n",
      "    1. Both populations from which the samples were drawn should be normally distributed.\n",
      "    2. The samples should be independent.\n",
      "\n",
      "Let's look at the box plots that I've already generated for the wild type distributions."
     ]
    }
   ],
   "metadata": {}
  }
 ]
}