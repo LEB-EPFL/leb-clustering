{
 "metadata": {
  "name": "",
  "signature": "sha256:3d85e2560f5842cc7a0e4859f71f7de9eb017faf55b8a04177121eeff5cbc769"
 },
 "nbformat": 3,
 "nbformat_minor": 0,
 "worksheets": [
  {
   "cells": [
    {
     "cell_type": "heading",
     "level": 1,
     "metadata": {},
     "source": [
      "Testing for differences in size distributions - Telomere/STORM project"
     ]
    },
    {
     "cell_type": "markdown",
     "metadata": {},
     "source": [
      "This document contains the results of the significance tests performed on the distributions of the radius of gyration from the clustered telomere STORM data. The analysis includes the wild type Hela L and S distributions, as well as the data from the TRF1, TRF2, TRF1/2 knockdown experiments.\n",
      "\n",
      "All datasets will be compared to the pSuper control transfection. This includes the wild type measurements."
     ]
    },
    {
     "cell_type": "heading",
     "level": 2,
     "metadata": {},
     "source": [
      "Setup the environment"
     ]
    },
    {
     "cell_type": "code",
     "collapsed": false,
     "input": [
      "import numpy as np\n",
      "import matplotlib.pyplot as plt\n",
      "import pandas as pd\n",
      "from scipy import stats\n",
      "from sigTestHelpers import * # Custom routines specific to this analysis and for table formatting\n",
      "global numBootstraps; numBootstraps = 100000 # How many times will a bootstrap be repeated?\n",
      "\n",
      "# Enable inline plotting\n",
      "%matplotlib inline"
     ],
     "language": "python",
     "metadata": {},
     "outputs": [
      {
       "ename": "NameError",
       "evalue": "name 'results' is not defined",
       "output_type": "pyerr",
       "traceback": [
        "\u001b[1;31m---------------------------------------------------------------------------\u001b[0m\n\u001b[1;31mNameError\u001b[0m                                 Traceback (most recent call last)",
        "\u001b[1;32m<ipython-input-1-9fb42de40ec5>\u001b[0m in \u001b[0;36m<module>\u001b[1;34m()\u001b[0m\n\u001b[0;32m      3\u001b[0m \u001b[1;32mimport\u001b[0m \u001b[0mpandas\u001b[0m \u001b[1;32mas\u001b[0m \u001b[0mpd\u001b[0m\u001b[1;33m\u001b[0m\u001b[0m\n\u001b[0;32m      4\u001b[0m \u001b[1;32mfrom\u001b[0m \u001b[0mscipy\u001b[0m \u001b[1;32mimport\u001b[0m \u001b[0mstats\u001b[0m\u001b[1;33m\u001b[0m\u001b[0m\n\u001b[1;32m----> 5\u001b[1;33m \u001b[1;32mfrom\u001b[0m \u001b[0msigTestHelpers\u001b[0m \u001b[1;32mimport\u001b[0m \u001b[1;33m*\u001b[0m \u001b[1;31m# Custom routines specific to this analysis and for table formatting\u001b[0m\u001b[1;33m\u001b[0m\u001b[0m\n\u001b[0m\u001b[0;32m      6\u001b[0m \u001b[1;32mglobal\u001b[0m \u001b[0mnumBootstraps\u001b[0m\u001b[1;33m;\u001b[0m \u001b[0mnumBootstraps\u001b[0m \u001b[1;33m=\u001b[0m \u001b[1;36m100000\u001b[0m \u001b[1;31m# How many times will a bootstrap be repeated?\u001b[0m\u001b[1;33m\u001b[0m\u001b[0m\n\u001b[0;32m      7\u001b[0m \u001b[1;33m\u001b[0m\u001b[0m\n",
        "\u001b[1;32m/mnt/LEBZ/Users/Kyle-Michael-Douglass/Projects/Telomeres/analyses/Significance_Tests/sigTestHelpers.py\u001b[0m in \u001b[0;36m<module>\u001b[1;34m()\u001b[0m\n\u001b[0;32m    178\u001b[0m   \u001b[1;33m<\u001b[0m\u001b[0mtd\u001b[0m\u001b[1;33m>\u001b[0m\u001b[1;33m<\u001b[0m\u001b[0mdiv\u001b[0m \u001b[0malign\u001b[0m \u001b[1;33m=\u001b[0m \u001b[1;34m\"right\"\u001b[0m\u001b[1;33m>\u001b[0m\u001b[1;33m%\u001b[0m\u001b[1;36m0.5\u001b[0m\u001b[0mf\u001b[0m\u001b[1;33m<\u001b[0m\u001b[1;33m/\u001b[0m\u001b[0mdiv\u001b[0m\u001b[1;33m>\u001b[0m\u001b[1;33m<\u001b[0m\u001b[1;33m/\u001b[0m\u001b[0mtd\u001b[0m\u001b[1;33m>\u001b[0m\u001b[1;33m\u001b[0m\u001b[0m\n\u001b[0;32m    179\u001b[0m \u001b[1;33m<\u001b[0m\u001b[1;33m/\u001b[0m\u001b[0mtr\u001b[0m\u001b[1;33m>\u001b[0m\u001b[1;33m\u001b[0m\u001b[0m\n\u001b[1;32m--> 180\u001b[1;33m </table>\"\"\" % (results['LWilcoxon p-value']['WT'], results['LWilcoxon p-value']['TRF1'],\n\u001b[0m\u001b[0;32m    181\u001b[0m                \u001b[0mresults\u001b[0m\u001b[1;33m[\u001b[0m\u001b[1;34m'LWilcoxon p-value'\u001b[0m\u001b[1;33m]\u001b[0m\u001b[1;33m[\u001b[0m\u001b[1;34m'TRF2'\u001b[0m\u001b[1;33m]\u001b[0m\u001b[1;33m,\u001b[0m \u001b[0mresults\u001b[0m\u001b[1;33m[\u001b[0m\u001b[1;34m'LWilcoxon p-value'\u001b[0m\u001b[1;33m]\u001b[0m\u001b[1;33m[\u001b[0m\u001b[1;34m'TRF1/2'\u001b[0m\u001b[1;33m]\u001b[0m\u001b[1;33m,\u001b[0m\u001b[1;33m\u001b[0m\u001b[0m\n\u001b[0;32m    182\u001b[0m                \u001b[0mresults\u001b[0m\u001b[1;33m[\u001b[0m\u001b[1;34m'SWilcoxon p-value'\u001b[0m\u001b[1;33m]\u001b[0m\u001b[1;33m[\u001b[0m\u001b[1;34m'WT'\u001b[0m\u001b[1;33m]\u001b[0m\u001b[1;33m,\u001b[0m \u001b[0mresults\u001b[0m\u001b[1;33m[\u001b[0m\u001b[1;34m'SWilcoxon p-value'\u001b[0m\u001b[1;33m]\u001b[0m\u001b[1;33m[\u001b[0m\u001b[1;34m'TRF1'\u001b[0m\u001b[1;33m]\u001b[0m\u001b[1;33m,\u001b[0m\u001b[1;33m\u001b[0m\u001b[0m\n",
        "\u001b[1;31mNameError\u001b[0m: name 'results' is not defined"
       ]
      }
     ],
     "prompt_number": 1
    },
    {
     "cell_type": "heading",
     "level": 2,
     "metadata": {},
     "source": [
      "Import the distributions for analysis"
     ]
    },
    {
     "cell_type": "code",
     "collapsed": false,
     "input": [
      "LData = pd.read_csv('data/HelaLData.csv')\n",
      "SData = pd.read_csv('data/HelaSData.csv')\n",
      "print('Previewing Hela L data...\\n')\n",
      "LData.head()"
     ],
     "language": "python",
     "metadata": {},
     "outputs": []
    },
    {
     "cell_type": "code",
     "collapsed": false,
     "input": [
      "print('\\nPreviewing Hela S data...\\n')\n",
      "SData.head()"
     ],
     "language": "python",
     "metadata": {},
     "outputs": []
    },
    {
     "cell_type": "heading",
     "level": 2,
     "metadata": {},
     "source": [
      "Basic statistics from the datasets"
     ]
    },
    {
     "cell_type": "code",
     "collapsed": false,
     "input": [
      "LData.describe()"
     ],
     "language": "python",
     "metadata": {},
     "outputs": []
    },
    {
     "cell_type": "code",
     "collapsed": false,
     "input": [
      "SData.describe()"
     ],
     "language": "python",
     "metadata": {},
     "outputs": []
    },
    {
     "cell_type": "heading",
     "level": 2,
     "metadata": {},
     "source": [
      "Prepare the results data structure"
     ]
    },
    {
     "cell_type": "code",
     "collapsed": false,
     "input": [
      "# Initialize the data structures for storing the results. This is a dictionary-based tree structure.\n",
      "\n",
      "# Filter pSuper out from the list of column titles.\n",
      "colTitlesL = list(filter(lambda name: name != 'pSuper', iter(LData.columns)))\n",
      "colTitlesS = list(filter(lambda name: name != 'pSuper', iter(SData.columns)))\n",
      "\n",
      "# This copies the column headings from the dataframes into the results dict, except for pSuper.\n",
      "results = {'LMeans' : {key:None for key in colTitlesL},\n",
      "           'LMedians' : {key:None for key in colTitlesL},\n",
      "           'LWilcoxon p-value' : {key:None for key in colTitlesL},\n",
      "           'SMeans' : {key:None for key in colTitlesS},\n",
      "           'SMedians' : {key:None for key in colTitlesS},\n",
      "           'SWilcoxon p-value' : {key:None for key in colTitlesS}}\n",
      "\n",
      "# The final nodes for the Mean and Median branches.\n",
      "bsStats = {'Bootstrap 95% p-value' : None,\n",
      "           'Bootstrap 99% p-value' : None,\n",
      "           'Bootstrap 95% CI' : None,\n",
      "           'Bootstrap 99% CI' : None}\n",
      "\n",
      "for key in results:\n",
      "    if key not in ['LWilcoxon p-value', 'SWilcoxon p-value']:\n",
      "        for dataset in results[key]:\n",
      "            results[key][dataset] = bsStats.copy() # Create multiple bsStats dicts in memory."
     ],
     "language": "python",
     "metadata": {},
     "outputs": []
    },
    {
     "cell_type": "heading",
     "level": 2,
     "metadata": {},
     "source": [
      "Visual comparison of wild type Hela L and Hela S"
     ]
    },
    {
     "cell_type": "code",
     "collapsed": false,
     "input": [
      "options = {'myBins' : np.arange(10, 200, 5), # bins from 10 nm to 200 nm in steps of 5 nm\n",
      "           'label1' : 'Hela L',\n",
      "           'label2' : 'Hela S',\n",
      "           'title' : 'Wild type',\n",
      "           'xlabel' : 'Radius of gyration, nm',\n",
      "           'ylabel' : 'Normalized frequency'}\n",
      "fig, ax = cmpHistograms(LData['WT'], SData['WT'], options)"
     ],
     "language": "python",
     "metadata": {},
     "outputs": []
    },
    {
     "cell_type": "heading",
     "level": 2,
     "metadata": {},
     "source": [
      "Comparison of wild type to pSuper"
     ]
    },
    {
     "cell_type": "heading",
     "level": 3,
     "metadata": {},
     "source": [
      "Hela L"
     ]
    },
    {
     "cell_type": "code",
     "collapsed": false,
     "input": [
      "options = {'myBins' : np.arange(10, 200, 5), # 10 nm to 200 nm in steps of 5 nm\n",
      "           'label1' : 'pSuper',\n",
      "           'label2' : 'Wild type',\n",
      "           'title' : 'Hela L / pSuper compared to wild type',\n",
      "           'xlabel' : 'Radius of gyration, nm',\n",
      "           'ylabel' : 'Normalized frequency'}\n",
      "fig, ax = cmpHistograms(LData['pSuper'], LData['WT'], options)"
     ],
     "language": "python",
     "metadata": {},
     "outputs": []
    },
    {
     "cell_type": "code",
     "collapsed": false,
     "input": [
      "# Wilcoxon rank-sum tests of significance for the difference of distributions\n",
      "_, results['LWilcoxon p-value']['WT'] = stats.ranksums(LData['pSuper'].dropna(), LData['WT'].dropna())"
     ],
     "language": "python",
     "metadata": {},
     "outputs": []
    },
    {
     "cell_type": "code",
     "collapsed": false,
     "input": [
      "# Bootstrap tests\n",
      "results['LMeans']['WT']['Bootstrap 95% CI'], results['LMeans']['WT']['Bootstrap 95% p-value'] = bootstrapDiff(LData['pSuper'].dropna(), LData['WT'].dropna(), alpha = 0.05, statistic = 'mean')\n",
      "results['LMeans']['WT']['Bootstrap 99% CI'], results['LMeans']['WT']['Bootstrap 99% p-value'] = bootstrapDiff(LData['pSuper'].dropna(), LData['WT'].dropna(), alpha = 0.01, statistic = 'mean')\n",
      "results['LMedians']['WT']['Bootstrap 95% CI'], results['LMedians']['WT']['Bootstrap 95% p-value'] = bootstrapDiff(LData['pSuper'].dropna(), LData['WT'].dropna(), alpha = 0.05, statistic = 'median')\n",
      "results['LMedians']['WT']['Bootstrap 99% CI'], results['LMedians']['WT']['Bootstrap 99% p-value'] = bootstrapDiff(LData['pSuper'].dropna(), LData['WT'].dropna(), alpha = 0.01, statistic = 'median')"
     ],
     "language": "python",
     "metadata": {},
     "outputs": []
    },
    {
     "cell_type": "heading",
     "level": 3,
     "metadata": {},
     "source": [
      "Hela S"
     ]
    },
    {
     "cell_type": "code",
     "collapsed": false,
     "input": [
      "options = {'myBins' : np.arange(10, 200, 5), # 10 nm to 200 nm in steps of 5 nm\n",
      "           'label1' : 'pSuper',\n",
      "           'label2' : 'Wild type',\n",
      "           'title' : 'Hela S / pSuper compared to wild type',\n",
      "           'xlabel' : 'Radius of gyration, nm',\n",
      "           'ylabel' : 'Normalized frequency'}\n",
      "fig, ax = cmpHistograms(SData['pSuper'], SData['WT'], options)"
     ],
     "language": "python",
     "metadata": {},
     "outputs": []
    },
    {
     "cell_type": "code",
     "collapsed": false,
     "input": [
      "# Wilcoxon rank-sum tests of significance for the difference of distributions\n",
      "_, results['SWilcoxon p-value']['WT'] = stats.ranksums(SData['pSuper'].dropna(), SData['WT'].dropna())"
     ],
     "language": "python",
     "metadata": {},
     "outputs": []
    },
    {
     "cell_type": "code",
     "collapsed": false,
     "input": [
      "# Bootstrap tests\n",
      "results['SMeans']['WT']['Bootstrap 95% CI'], results['SMeans']['WT']['Bootstrap 95% p-value'] = bootstrapDiff(SData['pSuper'].dropna(), SData['WT'].dropna(), alpha = 0.05, statistic = 'mean')\n",
      "results['SMeans']['WT']['Bootstrap 99% CI'], results['SMeans']['WT']['Bootstrap 99% p-value'] = bootstrapDiff(SData['pSuper'].dropna(), SData['WT'].dropna(), alpha = 0.01, statistic = 'mean')\n",
      "results['SMedians']['WT']['Bootstrap 95% CI'], results['SMedians']['WT']['Bootstrap 95% p-value'] = bootstrapDiff(SData['pSuper'].dropna(), SData['WT'].dropna(), alpha = 0.05, statistic = 'median')\n",
      "results['SMedians']['WT']['Bootstrap 99% CI'], results['SMedians']['WT']['Bootstrap 99% p-value'] = bootstrapDiff(SData['pSuper'].dropna(), SData['WT'].dropna(), alpha = 0.01, statistic = 'median')"
     ],
     "language": "python",
     "metadata": {},
     "outputs": []
    },
    {
     "cell_type": "heading",
     "level": 2,
     "metadata": {},
     "source": [
      "TRF1 knockdowns"
     ]
    },
    {
     "cell_type": "heading",
     "level": 3,
     "metadata": {},
     "source": [
      "Hela L"
     ]
    },
    {
     "cell_type": "code",
     "collapsed": false,
     "input": [
      "options = {'myBins' : np.arange(10, 200, 5), # 10 nm to 200 nm in steps of 5 nm\n",
      "           'label1' : 'pSuper',\n",
      "           'label2' : 'TRF1',\n",
      "           'title' : 'Hela L / TRF1 knockdown',\n",
      "           'xlabel' : 'Radius of gyration, nm',\n",
      "           'ylabel' : 'Normalized frequency'}\n",
      "fig, ax = cmpHistograms(LData['pSuper'], LData['TRF1'], options)"
     ],
     "language": "python",
     "metadata": {},
     "outputs": []
    },
    {
     "cell_type": "code",
     "collapsed": false,
     "input": [
      "# Wilcoxon rank-sum tests of significance for the difference of distributions\n",
      "_, results['LWilcoxon p-value']['TRF1'] = stats.ranksums(LData['pSuper'].dropna(), LData['TRF1'].dropna())"
     ],
     "language": "python",
     "metadata": {},
     "outputs": []
    },
    {
     "cell_type": "code",
     "collapsed": false,
     "input": [
      "# Bootstrap tests\n",
      "results['LMeans']['TRF1']['Bootstrap 95% CI'], results['LMeans']['TRF1']['Bootstrap 95% p-value'] = bootstrapDiff(LData['pSuper'].dropna(), LData['TRF1'].dropna(), alpha = 0.05, statistic = 'mean')\n",
      "results['LMeans']['TRF1']['Bootstrap 99% CI'], results['LMeans']['TRF1']['Bootstrap 99% p-value'] = bootstrapDiff(LData['pSuper'].dropna(), LData['TRF1'].dropna(), alpha = 0.01, statistic = 'mean')\n",
      "results['LMedians']['TRF1']['Bootstrap 95% CI'], results['LMedians']['TRF1']['Bootstrap 95% p-value'] = bootstrapDiff(LData['pSuper'].dropna(), LData['TRF1'].dropna(), alpha = 0.05, statistic = 'median')\n",
      "results['LMedians']['TRF1']['Bootstrap 99% CI'], results['LMedians']['TRF1']['Bootstrap 99% p-value'] = bootstrapDiff(LData['pSuper'].dropna(), LData['TRF1'].dropna(), alpha = 0.01, statistic = 'median')"
     ],
     "language": "python",
     "metadata": {},
     "outputs": []
    },
    {
     "cell_type": "heading",
     "level": 3,
     "metadata": {},
     "source": [
      "Hela S"
     ]
    },
    {
     "cell_type": "code",
     "collapsed": false,
     "input": [
      "options = {'myBins' : np.arange(10, 200, 5), # 10 nm to 200 nm in steps of 5 nm\n",
      "           'label1' : 'pSuper',\n",
      "           'label2' : 'TRF1',\n",
      "           'title' : 'Hela S / TRF1 knockdown',\n",
      "           'xlabel' : 'Radius of gyration, nm',\n",
      "           'ylabel' : 'Normalized frequency'}\n",
      "fig, ax = cmpHistograms(SData['pSuper'], SData['TRF1'], options)"
     ],
     "language": "python",
     "metadata": {},
     "outputs": []
    },
    {
     "cell_type": "code",
     "collapsed": false,
     "input": [
      "# Wilcoxon rank-sum tests of significance for the difference of distributions\n",
      "_, results['SWilcoxon p-value']['TRF1'] = stats.ranksums(SData['pSuper'].dropna(), SData['TRF1'].dropna())"
     ],
     "language": "python",
     "metadata": {},
     "outputs": []
    },
    {
     "cell_type": "code",
     "collapsed": false,
     "input": [
      "# Bootstrap tests\n",
      "results['SMeans']['TRF1']['Bootstrap 95% CI'], results['SMeans']['TRF1']['Bootstrap 95% p-value'] = bootstrapDiff(SData['pSuper'].dropna(), SData['TRF1'].dropna(), alpha = 0.05, statistic = 'mean')\n",
      "results['SMeans']['TRF1']['Bootstrap 99% CI'], results['SMeans']['TRF1']['Bootstrap 99% p-value'] = bootstrapDiff(SData['pSuper'].dropna(), SData['TRF1'].dropna(), alpha = 0.01, statistic = 'mean')\n",
      "results['SMedians']['TRF1']['Bootstrap 95% CI'], results['SMedians']['TRF1']['Bootstrap 95% p-value'] = bootstrapDiff(SData['pSuper'].dropna(), SData['TRF1'].dropna(), alpha = 0.05, statistic = 'median')\n",
      "results['SMedians']['TRF1']['Bootstrap 99% CI'], results['SMedians']['TRF1']['Bootstrap 99% p-value'] = bootstrapDiff(SData['pSuper'].dropna(), SData['TRF1'].dropna(), alpha = 0.01, statistic = 'median')"
     ],
     "language": "python",
     "metadata": {},
     "outputs": []
    },
    {
     "cell_type": "heading",
     "level": 2,
     "metadata": {},
     "source": [
      "TRF2 knockdowns"
     ]
    },
    {
     "cell_type": "heading",
     "level": 3,
     "metadata": {},
     "source": [
      "Hela L"
     ]
    },
    {
     "cell_type": "code",
     "collapsed": false,
     "input": [
      "options = {'myBins' : np.arange(10, 200, 5), # 10 nm to 200 nm in steps of 5 nm\n",
      "           'label1' : 'pSuper',\n",
      "           'label2' : 'TRF2',\n",
      "           'title' : 'Hela L / TRF2 knockdown',\n",
      "           'xlabel' : 'Radius of gyration, nm',\n",
      "           'ylabel' : 'Normalized frequency'}\n",
      "fig, ax = cmpHistograms(LData['pSuper'], LData['TRF2'], options)"
     ],
     "language": "python",
     "metadata": {},
     "outputs": []
    },
    {
     "cell_type": "code",
     "collapsed": false,
     "input": [
      "# Wilcoxon rank-sum tests of significance for the difference of distributions\n",
      "_, results['LWilcoxon p-value']['TRF2'] = stats.ranksums(LData['pSuper'].dropna(), LData['TRF2'].dropna())"
     ],
     "language": "python",
     "metadata": {},
     "outputs": []
    },
    {
     "cell_type": "code",
     "collapsed": false,
     "input": [
      "# Bootstrap tests\n",
      "results['LMeans']['TRF2']['Bootstrap 95% CI'], results['LMeans']['TRF2']['Bootstrap 95% p-value'] = bootstrapDiff(LData['pSuper'].dropna(), LData['TRF2'].dropna(), alpha = 0.05, statistic = 'mean')\n",
      "results['LMeans']['TRF2']['Bootstrap 99% CI'], results['LMeans']['TRF2']['Bootstrap 99% p-value'] = bootstrapDiff(LData['pSuper'].dropna(), LData['TRF2'].dropna(), alpha = 0.01, statistic = 'mean')\n",
      "results['LMedians']['TRF2']['Bootstrap 95% CI'], results['LMedians']['TRF2']['Bootstrap 95% p-value'] = bootstrapDiff(LData['pSuper'].dropna(), LData['TRF2'].dropna(), alpha = 0.05, statistic = 'median')\n",
      "results['LMedians']['TRF2']['Bootstrap 99% CI'], results['LMedians']['TRF2']['Bootstrap 99% p-value'] = bootstrapDiff(LData['pSuper'].dropna(), LData['TRF2'].dropna(), alpha = 0.01, statistic = 'median')"
     ],
     "language": "python",
     "metadata": {},
     "outputs": []
    },
    {
     "cell_type": "heading",
     "level": 3,
     "metadata": {},
     "source": [
      "Hela S"
     ]
    },
    {
     "cell_type": "code",
     "collapsed": false,
     "input": [
      "options = {'myBins' : np.arange(10, 200, 5), # 10 nm to 200 nm in steps of 5 nm\n",
      "           'label1' : 'pSuper',\n",
      "           'label2' : 'TRF2',\n",
      "           'title' : 'Hela S / TRF2 knockdown',\n",
      "           'xlabel' : 'Radius of gyration, nm',\n",
      "           'ylabel' : 'Normalized frequency'}\n",
      "fig, ax = cmpHistograms(SData['pSuper'], SData['TRF2'], options)"
     ],
     "language": "python",
     "metadata": {},
     "outputs": []
    },
    {
     "cell_type": "code",
     "collapsed": false,
     "input": [
      "# Wilcoxon rank-sum tests of significance for the difference of distributions\n",
      "_, results['SWilcoxon p-value']['TRF2'] = stats.ranksums(SData['pSuper'].dropna(), SData['TRF2'].dropna())"
     ],
     "language": "python",
     "metadata": {},
     "outputs": []
    },
    {
     "cell_type": "code",
     "collapsed": false,
     "input": [
      "# Bootstrap tests\n",
      "results['SMeans']['TRF2']['Bootstrap 95% CI'], results['SMeans']['TRF2']['Bootstrap 95% p-value'] = bootstrapDiff(SData['pSuper'].dropna(), SData['TRF2'].dropna(), alpha = 0.05, statistic = 'mean')\n",
      "results['SMeans']['TRF2']['Bootstrap 99% CI'], results['SMeans']['TRF2']['Bootstrap 99% p-value'] = bootstrapDiff(SData['pSuper'].dropna(), SData['TRF2'].dropna(), alpha = 0.01, statistic = 'mean')\n",
      "results['SMedians']['TRF2']['Bootstrap 95% CI'], results['SMedians']['TRF2']['Bootstrap 95% p-value'] = bootstrapDiff(SData['pSuper'].dropna(), SData['TRF2'].dropna(), alpha = 0.05, statistic = 'median')\n",
      "results['SMedians']['TRF2']['Bootstrap 99% CI'], results['SMedians']['TRF2']['Bootstrap 99% p-value'] = bootstrapDiff(SData['pSuper'].dropna(), SData['TRF2'].dropna(), alpha = 0.01, statistic = 'median')"
     ],
     "language": "python",
     "metadata": {},
     "outputs": []
    },
    {
     "cell_type": "heading",
     "level": 2,
     "metadata": {},
     "source": [
      "TRF1/2 double knockdowns"
     ]
    },
    {
     "cell_type": "heading",
     "level": 3,
     "metadata": {},
     "source": [
      "Hela L"
     ]
    },
    {
     "cell_type": "code",
     "collapsed": false,
     "input": [
      "options = {'myBins' : np.arange(10, 200, 5), # 10 nm to 200 nm in steps of 5 nm\n",
      "           'label1' : 'pSuper',\n",
      "           'label2' : 'TRF1/2',\n",
      "           'title' : 'Hela L / TRF1/2 double knockdown',\n",
      "           'xlabel' : 'Radius of gyration, nm',\n",
      "           'ylabel' : 'Normalized frequency'}\n",
      "fig, ax = cmpHistograms(LData['pSuper'], LData['TRF1/2'], options)"
     ],
     "language": "python",
     "metadata": {},
     "outputs": []
    },
    {
     "cell_type": "code",
     "collapsed": false,
     "input": [
      "# Wilcoxon rank-sum tests of significance for the difference of distributions\n",
      "_, results['LWilcoxon p-value']['TRF1/2'] = stats.ranksums(LData['pSuper'].dropna(), LData['TRF1/2'].dropna())"
     ],
     "language": "python",
     "metadata": {},
     "outputs": []
    },
    {
     "cell_type": "code",
     "collapsed": false,
     "input": [
      "# Bootstrap tests\n",
      "results['LMeans']['TRF1/2']['Bootstrap 95% CI'], results['LMeans']['TRF1/2']['Bootstrap 95% p-value'] = bootstrapDiff(LData['pSuper'].dropna(), LData['TRF1/2'].dropna(), alpha = 0.05, statistic = 'mean')\n",
      "results['LMeans']['TRF1/2']['Bootstrap 99% CI'], results['LMeans']['TRF1/2']['Bootstrap 99% p-value'] = bootstrapDiff(LData['pSuper'].dropna(), LData['TRF1/2'].dropna(), alpha = 0.01, statistic = 'mean')\n",
      "results['LMedians']['TRF1/2']['Bootstrap 95% CI'], results['LMedians']['TRF1/2']['Bootstrap 95% p-value'] = bootstrapDiff(LData['pSuper'].dropna(), LData['TRF1/2'].dropna(), alpha = 0.05, statistic = 'median')\n",
      "results['LMedians']['TRF1/2']['Bootstrap 99% CI'], results['LMedians']['TRF1/2']['Bootstrap 99% p-value'] = bootstrapDiff(LData['pSuper'].dropna(), LData['TRF1/2'].dropna(), alpha = 0.01, statistic = 'median')"
     ],
     "language": "python",
     "metadata": {},
     "outputs": []
    },
    {
     "cell_type": "heading",
     "level": 3,
     "metadata": {},
     "source": [
      "Hela S"
     ]
    },
    {
     "cell_type": "code",
     "collapsed": false,
     "input": [
      "options = {'myBins' : np.arange(10, 200, 5), # 10 nm to 200 nm in steps of 5 nm\n",
      "           'label1' : 'pSuper',\n",
      "           'label2' : 'TRF1/2',\n",
      "           'title' : 'Hela S / TRF1/2 double knockdown',\n",
      "           'xlabel' : 'Radius of gyration, nm',\n",
      "           'ylabel' : 'Normalized frequency'}\n",
      "fig, ax = cmpHistograms(SData['pSuper'], SData['TRF1/2'], options)"
     ],
     "language": "python",
     "metadata": {},
     "outputs": []
    },
    {
     "cell_type": "code",
     "collapsed": false,
     "input": [
      "# Wilcoxon rank-sum tests of significance for the difference of distributions\n",
      "_, results['SWilcoxon p-value']['TRF1/2'] = stats.ranksums(SData['pSuper'].dropna(), SData['TRF1/2'].dropna())"
     ],
     "language": "python",
     "metadata": {},
     "outputs": []
    },
    {
     "cell_type": "code",
     "collapsed": false,
     "input": [
      "# Bootstrap tests\n",
      "results['SMeans']['TRF1/2']['Bootstrap 95% CI'], results['SMeans']['TRF1/2']['Bootstrap 95% p-value'] = bootstrapDiff(SData['pSuper'].dropna(), SData['TRF1/2'].dropna(), alpha = 0.05, statistic = 'mean')\n",
      "results['SMeans']['TRF1/2']['Bootstrap 99% CI'], results['SMeans']['TRF1/2']['Bootstrap 99% p-value'] = bootstrapDiff(SData['pSuper'].dropna(), SData['TRF1/2'].dropna(), alpha = 0.01, statistic = 'mean')\n",
      "results['SMedians']['TRF1/2']['Bootstrap 95% CI'], results['SMedians']['TRF1/2']['Bootstrap 95% p-value'] = bootstrapDiff(SData['pSuper'].dropna(), SData['TRF1/2'].dropna(), alpha = 0.05, statistic = 'median')\n",
      "results['SMedians']['TRF1/2']['Bootstrap 99% CI'], results['SMedians']['TRF1/2']['Bootstrap 99% p-value'] = bootstrapDiff(SData['pSuper'].dropna(), SData['TRF1/2'].dropna(), alpha = 0.01, statistic = 'median')"
     ],
     "language": "python",
     "metadata": {},
     "outputs": []
    },
    {
     "cell_type": "code",
     "collapsed": false,
     "input": [
      "# Save the results in the same folder as this notebook.\n",
      "import pickle\n",
      "pickle.dump(results, open('TRF12KD_Results.dat', 'wb'))"
     ],
     "language": "python",
     "metadata": {},
     "outputs": []
    },
    {
     "cell_type": "heading",
     "level": 2,
     "metadata": {},
     "source": [
      "Format the results for display"
     ]
    },
    {
     "cell_type": "code",
     "collapsed": false,
     "input": [
      "wilcoxonResults = results['LWilcoxon p-value']['WT'], results['LWilcoxon p-value']['TRF1'],\n",
      "                  results['LWilcoxon p-value']['TRF2'], results['LWilcoxon p-value']['TRF1/2'],\n",
      "                  results['SWilcoxon p-value']['WT'], results['SWilcoxon p-value']['TRF1'],\n",
      "                  results['SWilcoxon p-value']['TRF2'], results['SWilcoxon p-value']['TRF1/2'])\n",
      "\n",
      "LMeansResults = (results['LMeans']['WT']['Bootstrap 95% CI'][0],        results['LMeans']['WT']['Bootstrap 95% CI'][1],       results['LMeans']['TRF1']['Bootstrap 95% CI'][0],   results['LMeans']['TRF1']['Bootstrap 95% CI'][1],\n",
      "                 results['LMeans']['TRF2']['Bootstrap 95% CI'][0],      results['LMeans']['TRF2']['Bootstrap 95% CI'][1],     results['LMeans']['TRF1/2']['Bootstrap 95% CI'][0], results['LMeans']['TRF1/2']['Bootstrap 95% CI'][1],\n",
      "                 results['LMeans']['WT']['Bootstrap 95% p-value'],      results['LMeans']['TRF1']['Bootstrap 95% p-value'],\n",
      "                 results['LMeans']['TRF2']['Bootstrap 95% p-value'],    results['LMeans']['TRF1/2']['Bootstrap 95% p-value'],\n",
      "                 results['LMeans']['WT']['Bootstrap 99% CI'][0],        results['LMeans']['WT']['Bootstrap 99% CI'][1],       results['LMeans']['TRF1']['Bootstrap 99% CI'][0],   results['LMeans']['TRF1']['Bootstrap 99% CI'][1],\n",
      "                 results['LMeans']['TRF2']['Bootstrap 99% CI'][0],      results['LMeans']['TRF2']['Bootstrap 99% CI'][1],     results['LMeans']['TRF1/2']['Bootstrap 99% CI'][0], results['LMeans']['TRF1/2']['Bootstrap 99% CI'][1],\n",
      "                 results['LMeans']['WT']['Bootstrap 99% p-value'],      results['LMeans']['TRF1']['Bootstrap 99% p-value'],\n",
      "                 results['LMeans']['TRF2']['Bootstrap 99% p-value'],    results['LMeans']['TRF1/2']['Bootstrap 99% p-value'])\n",
      "LMediansResults = (results['LMedians']['WT']['Bootstrap 95% CI'][0],        results['LMedians']['WT']['Bootstrap 95% CI'][1],       results['LMedians']['TRF1']['Bootstrap 95% CI'][0],   results['LMedians']['TRF1']['Bootstrap 95% CI'][1],\n",
      "                   results['LMedians']['TRF2']['Bootstrap 95% CI'][0],      results['LMedians']['TRF2']['Bootstrap 95% CI'][1],     results['LMedians']['TRF1/2']['Bootstrap 95% CI'][0], results['LMedians']['TRF1/2']['Bootstrap 95% CI'][1],\n",
      "                   results['LMedians']['WT']['Bootstrap 95% p-value'],      results['LMedians']['TRF1']['Bootstrap 95% p-value'],\n",
      "                   results['LMedians']['TRF2']['Bootstrap 95% p-value'],    results['LMedians']['TRF1/2']['Bootstrap 95% p-value'],\n",
      "                   results['LMedians']['WT']['Bootstrap 99% CI'][0],        results['LMedians']['WT']['Bootstrap 99% CI'][1],       results['LMedians']['TRF1']['Bootstrap 99% CI'][0],   results['LMedians']['TRF1']['Bootstrap 99% CI'][1],\n",
      "                   results['LMedians']['TRF2']['Bootstrap 99% CI'][0],      results['LMedians']['TRF2']['Bootstrap 99% CI'][1],     results['LMedians']['TRF1/2']['Bootstrap 99% CI'][0], results['LMedians']['TRF1/2']['Bootstrap 99% CI'][1],\n",
      "                   results['LMedians']['WT']['Bootstrap 99% p-value'],      results['LMedians']['TRF1']['Bootstrap 99% p-value'],\n",
      "                   results['LMedians']['TRF2']['Bootstrap 99% p-value'],    results['LMedians']['TRF1/2']['Bootstrap 99% p-value'])\n",
      "SMeansResults = (results['SMeans']['WT']['Bootstrap 95% CI'][0],        results['SMeans']['WT']['Bootstrap 95% CI'][1],       results['SMeans']['TRF1']['Bootstrap 95% CI'][0],   results['SMeans']['TRF1']['Bootstrap 95% CI'][1],\n",
      "                 results['SMeans']['TRF2']['Bootstrap 95% CI'][0],      results['SMeans']['TRF2']['Bootstrap 95% CI'][1],     results['SMeans']['TRF1/2']['Bootstrap 95% CI'][0], results['SMeans']['TRF1/2']['Bootstrap 95% CI'][1],\n",
      "                 results['SMeans']['WT']['Bootstrap 95% p-value'],      results['SMeans']['TRF1']['Bootstrap 95% p-value'],\n",
      "                 results['SMeans']['TRF2']['Bootstrap 95% p-value'],    results['SMeans']['TRF1/2']['Bootstrap 95% p-value'],\n",
      "                 results['SMeans']['WT']['Bootstrap 99% CI'][0],        results['SMeans']['WT']['Bootstrap 99% CI'][1],       results['SMeans']['TRF1']['Bootstrap 99% CI'][0],   results['SMeans']['TRF1']['Bootstrap 99% CI'][1],\n",
      "                 results['SMeans']['TRF2']['Bootstrap 99% CI'][0],      results['SMeans']['TRF2']['Bootstrap 99% CI'][1],     results['SMeans']['TRF1/2']['Bootstrap 99% CI'][0], results['SMeans']['TRF1/2']['Bootstrap 99% CI'][1],\n",
      "                 results['SMeans']['WT']['Bootstrap 99% p-value'],      results['SMeans']['TRF1']['Bootstrap 99% p-value'],\n",
      "                 results['SMeans']['TRF2']['Bootstrap 99% p-value'],    results['SMeans']['TRF1/2']['Bootstrap 99% p-value'])\n",
      "SMediansResults = (results['SMedians']['WT']['Bootstrap 95% CI'][0],        results['SMedians']['WT']['Bootstrap 95% CI'][1],       results['SMedians']['TRF1']['Bootstrap 95% CI'][0],   results['SMedians']['TRF1']['Bootstrap 95% CI'][1],\n",
      "                   results['SMedians']['TRF2']['Bootstrap 95% CI'][0],      results['SMedians']['TRF2']['Bootstrap 95% CI'][1],     results['SMedians']['TRF1/2']['Bootstrap 95% CI'][0], results['SMedians']['TRF1/2']['Bootstrap 95% CI'][1],\n",
      "                   results['SMedians']['WT']['Bootstrap 95% p-value'],      results['SMedians']['TRF1']['Bootstrap 95% p-value'],\n",
      "                   results['SMedians']['TRF2']['Bootstrap 95% p-value'],    results['SMedians']['TRF1/2']['Bootstrap 95% p-value'],\n",
      "                   results['SMedians']['WT']['Bootstrap 99% CI'][0],        results['SMedians']['WT']['Bootstrap 99% CI'][1],       results['SMedians']['TRF1']['Bootstrap 99% CI'][0],   results['SMedians']['TRF1']['Bootstrap 99% CI'][1],\n",
      "                   results['SMedians']['TRF2']['Bootstrap 99% CI'][0],      results['SMedians']['TRF2']['Bootstrap 99% CI'][1],     results['SMedians']['TRF1/2']['Bootstrap 99% CI'][0], results['SMedians']['TRF1/2']['Bootstrap 99% CI'][1],\n",
      "                   results['SMedians']['WT']['Bootstrap 99% p-value'],      results['SMedians']['TRF1']['Bootstrap 99% p-value'],\n",
      "                   results['SMedians']['TRF2']['Bootstrap 99% p-value'],    results['SMedians']['TRF1/2']['Bootstrap 99% p-value'])\n"
     ],
     "language": "python",
     "metadata": {},
     "outputs": []
    },
    {
     "cell_type": "heading",
     "level": 2,
     "metadata": {},
     "source": [
      "Results"
     ]
    },
    {
     "cell_type": "heading",
     "level": 3,
     "metadata": {},
     "source": [
      "Wilcoxon rank-sum test for significantly different distributions"
     ]
    },
    {
     "cell_type": "code",
     "collapsed": false,
     "input": [
      "from IPython.display import HTML"
     ],
     "language": "python",
     "metadata": {},
     "outputs": []
    },
    {
     "cell_type": "code",
     "collapsed": false,
     "input": [
      "dispWilcoxonTable = HTML(wilcoxonTable); dispWilcoxonTable"
     ],
     "language": "python",
     "metadata": {},
     "outputs": []
    },
    {
     "cell_type": "heading",
     "level": 3,
     "metadata": {},
     "source": [
      "Bootstrap Results"
     ]
    },
    {
     "cell_type": "code",
     "collapsed": false,
     "input": [
      "LMeansTable = \"<h1>Hela L / Difference of Means</h1>\" + formattedTable % LMeansResults\n",
      "dispLMeansTable = HTML(LMeansTable); dispLMeansTable"
     ],
     "language": "python",
     "metadata": {},
     "outputs": []
    },
    {
     "cell_type": "code",
     "collapsed": false,
     "input": [
      "LMediansTable = \"<h1>Hela L / Difference of Medians</h1>\" + formattedTable % LMediansResults\n",
      "dispLMediansTable = HTML(LMediansTable); dispLMediansTable"
     ],
     "language": "python",
     "metadata": {},
     "outputs": []
    },
    {
     "cell_type": "code",
     "collapsed": false,
     "input": [
      "SMeansTable = \"<h1>Hela S / Difference of Means</h1>\" + formattedTable % SMeansResults\n",
      "dispSMeansTable = HTML(SMeansTable); dispSMeansTable"
     ],
     "language": "python",
     "metadata": {},
     "outputs": []
    },
    {
     "cell_type": "code",
     "collapsed": false,
     "input": [
      "SMediansTable = \"<h1>Hela S / Difference of Medians</h1>\" + formattedTable % SMediansResults\n",
      "dispSMediansTable = HTML(SMediansTable); dispSMediansTable"
     ],
     "language": "python",
     "metadata": {},
     "outputs": []
    },
    {
     "cell_type": "code",
     "collapsed": false,
     "input": [],
     "language": "python",
     "metadata": {},
     "outputs": []
    }
   ],
   "metadata": {}
  }
 ]
}