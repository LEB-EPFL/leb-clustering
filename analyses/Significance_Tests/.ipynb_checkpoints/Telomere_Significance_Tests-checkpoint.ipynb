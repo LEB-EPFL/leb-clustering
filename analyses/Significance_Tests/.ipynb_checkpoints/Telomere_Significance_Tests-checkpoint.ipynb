{
 "metadata": {
  "name": "",
  "signature": "sha256:10d82eaf08c0acec11ecebe05fc02b77a275bd693344e16203d4f5e1b082bdda"
 },
 "nbformat": 3,
 "nbformat_minor": 0,
 "worksheets": [
  {
   "cells": [
    {
     "cell_type": "heading",
     "level": 1,
     "metadata": {},
     "source": [
      "Testing for differences in size distributions - Telomere/STORM project"
     ]
    },
    {
     "cell_type": "markdown",
     "metadata": {},
     "source": [
      "This document contains the results of the significance tests performed on the distributions of the radius of gyration from the clustered telomere STORM data. The analysis includes the wild type Hela L and S distributions, as well as the data from the TRF1, TRF2, TRF1/2 knockdown experiments.\n",
      "\n",
      "All datasets will be compared to the pSuper control transfection. This includes the wild type measurements."
     ]
    },
    {
     "cell_type": "heading",
     "level": 2,
     "metadata": {},
     "source": [
      "Setup the environment"
     ]
    },
    {
     "cell_type": "code",
     "collapsed": false,
     "input": [
      "import numpy as np\n",
      "import matplotlib.pyplot as plt\n",
      "import pandas as pd\n",
      "from scipy import stats\n",
      "from sigTestHelpers import * # Custom routines specific to this analysis and for table formatting\n",
      "global numBootstraps; numBootstraps = 100000 # How many times will a bootstrap be repeated?\n",
      "\n",
      "# Enable inline plotting\n",
      "%matplotlib inline"
     ],
     "language": "python",
     "metadata": {},
     "outputs": [],
     "prompt_number": 2
    },
    {
     "cell_type": "heading",
     "level": 2,
     "metadata": {},
     "source": [
      "Import the distributions for analysis"
     ]
    },
    {
     "cell_type": "code",
     "collapsed": false,
     "input": [
      "LData = pd.read_csv('data/HelaLData.csv')\n",
      "SData = pd.read_csv('data/HelaSData.csv')\n",
      "print('Previewing Hela L data...\\n')\n",
      "LData.head()"
     ],
     "language": "python",
     "metadata": {},
     "outputs": [
      {
       "output_type": "stream",
       "stream": "stdout",
       "text": [
        "Previewing Hela L data...\n",
        "\n"
       ]
      },
      {
       "html": [
        "<div style=\"max-height:1000px;max-width:1500px;overflow:auto;\">\n",
        "<table border=\"1\" class=\"dataframe\">\n",
        "  <thead>\n",
        "    <tr style=\"text-align: right;\">\n",
        "      <th></th>\n",
        "      <th>WT</th>\n",
        "      <th>pSuper</th>\n",
        "      <th>TRF1</th>\n",
        "      <th>TRF2</th>\n",
        "      <th>TRF1/2</th>\n",
        "    </tr>\n",
        "  </thead>\n",
        "  <tbody>\n",
        "    <tr>\n",
        "      <th>0</th>\n",
        "      <td> 151.5044</td>\n",
        "      <td>  88.1034</td>\n",
        "      <td>  49.5941</td>\n",
        "      <td> 96.7738</td>\n",
        "      <td> 139.4182</td>\n",
        "    </tr>\n",
        "    <tr>\n",
        "      <th>1</th>\n",
        "      <td> 149.4162</td>\n",
        "      <td> 112.3191</td>\n",
        "      <td>  63.4186</td>\n",
        "      <td> 88.5562</td>\n",
        "      <td>  54.5581</td>\n",
        "    </tr>\n",
        "    <tr>\n",
        "      <th>2</th>\n",
        "      <td>  82.5340</td>\n",
        "      <td> 120.1634</td>\n",
        "      <td>  89.1106</td>\n",
        "      <td> 95.1506</td>\n",
        "      <td>  64.8621</td>\n",
        "    </tr>\n",
        "    <tr>\n",
        "      <th>3</th>\n",
        "      <td> 170.9058</td>\n",
        "      <td> 193.3782</td>\n",
        "      <td> 113.1609</td>\n",
        "      <td> 81.8694</td>\n",
        "      <td>  97.2880</td>\n",
        "    </tr>\n",
        "    <tr>\n",
        "      <th>4</th>\n",
        "      <td> 215.2124</td>\n",
        "      <td>  97.6395</td>\n",
        "      <td>  86.4746</td>\n",
        "      <td> 99.6559</td>\n",
        "      <td>  60.3848</td>\n",
        "    </tr>\n",
        "  </tbody>\n",
        "</table>\n",
        "</div>"
       ],
       "metadata": {},
       "output_type": "pyout",
       "prompt_number": 3,
       "text": [
        "         WT    pSuper      TRF1     TRF2    TRF1/2\n",
        "0  151.5044   88.1034   49.5941  96.7738  139.4182\n",
        "1  149.4162  112.3191   63.4186  88.5562   54.5581\n",
        "2   82.5340  120.1634   89.1106  95.1506   64.8621\n",
        "3  170.9058  193.3782  113.1609  81.8694   97.2880\n",
        "4  215.2124   97.6395   86.4746  99.6559   60.3848"
       ]
      }
     ],
     "prompt_number": 3
    },
    {
     "cell_type": "code",
     "collapsed": false,
     "input": [
      "print('\\nPreviewing Hela S data...\\n')\n",
      "SData.head()"
     ],
     "language": "python",
     "metadata": {},
     "outputs": [
      {
       "output_type": "stream",
       "stream": "stdout",
       "text": [
        "\n",
        "Previewing Hela S data...\n",
        "\n"
       ]
      },
      {
       "html": [
        "<div style=\"max-height:1000px;max-width:1500px;overflow:auto;\">\n",
        "<table border=\"1\" class=\"dataframe\">\n",
        "  <thead>\n",
        "    <tr style=\"text-align: right;\">\n",
        "      <th></th>\n",
        "      <th>WT</th>\n",
        "      <th>pSuper</th>\n",
        "      <th>TRF1</th>\n",
        "      <th>TRF2</th>\n",
        "      <th>TRF1/2</th>\n",
        "    </tr>\n",
        "  </thead>\n",
        "  <tbody>\n",
        "    <tr>\n",
        "      <th>0</th>\n",
        "      <td> 79.8679</td>\n",
        "      <td>  59.5341</td>\n",
        "      <td>  69.2095</td>\n",
        "      <td>  63.0845</td>\n",
        "      <td>  96.0817</td>\n",
        "    </tr>\n",
        "    <tr>\n",
        "      <th>1</th>\n",
        "      <td> 68.1668</td>\n",
        "      <td>  90.8830</td>\n",
        "      <td>  54.9117</td>\n",
        "      <td> 114.2164</td>\n",
        "      <td>  98.3980</td>\n",
        "    </tr>\n",
        "    <tr>\n",
        "      <th>2</th>\n",
        "      <td> 55.5293</td>\n",
        "      <td>  91.0627</td>\n",
        "      <td> 158.1934</td>\n",
        "      <td>  62.2108</td>\n",
        "      <td> 113.6377</td>\n",
        "    </tr>\n",
        "    <tr>\n",
        "      <th>3</th>\n",
        "      <td> 84.1121</td>\n",
        "      <td>  79.4196</td>\n",
        "      <td>  64.4787</td>\n",
        "      <td>  75.4030</td>\n",
        "      <td>  99.9711</td>\n",
        "    </tr>\n",
        "    <tr>\n",
        "      <th>4</th>\n",
        "      <td> 77.9501</td>\n",
        "      <td> 216.9304</td>\n",
        "      <td>  52.2909</td>\n",
        "      <td>  78.9046</td>\n",
        "      <td> 121.6001</td>\n",
        "    </tr>\n",
        "  </tbody>\n",
        "</table>\n",
        "</div>"
       ],
       "metadata": {},
       "output_type": "pyout",
       "prompt_number": 4,
       "text": [
        "        WT    pSuper      TRF1      TRF2    TRF1/2\n",
        "0  79.8679   59.5341   69.2095   63.0845   96.0817\n",
        "1  68.1668   90.8830   54.9117  114.2164   98.3980\n",
        "2  55.5293   91.0627  158.1934   62.2108  113.6377\n",
        "3  84.1121   79.4196   64.4787   75.4030   99.9711\n",
        "4  77.9501  216.9304   52.2909   78.9046  121.6001"
       ]
      }
     ],
     "prompt_number": 4
    },
    {
     "cell_type": "heading",
     "level": 2,
     "metadata": {},
     "source": [
      "Basic statistics from the datasets"
     ]
    },
    {
     "cell_type": "code",
     "collapsed": false,
     "input": [
      "LData.describe()"
     ],
     "language": "python",
     "metadata": {},
     "outputs": [
      {
       "html": [
        "<div style=\"max-height:1000px;max-width:1500px;overflow:auto;\">\n",
        "<table border=\"1\" class=\"dataframe\">\n",
        "  <thead>\n",
        "    <tr style=\"text-align: right;\">\n",
        "      <th></th>\n",
        "      <th>WT</th>\n",
        "      <th>pSuper</th>\n",
        "      <th>TRF1</th>\n",
        "      <th>TRF2</th>\n",
        "      <th>TRF1/2</th>\n",
        "    </tr>\n",
        "  </thead>\n",
        "  <tbody>\n",
        "    <tr>\n",
        "      <th>count</th>\n",
        "      <td> 2424.000000</td>\n",
        "      <td> 1369.000000</td>\n",
        "      <td> 1069.000000</td>\n",
        "      <td> 1520.000000</td>\n",
        "      <td> 1190.000000</td>\n",
        "    </tr>\n",
        "    <tr>\n",
        "      <th>mean</th>\n",
        "      <td>  100.185577</td>\n",
        "      <td>   96.716622</td>\n",
        "      <td>  102.181077</td>\n",
        "      <td>   92.864994</td>\n",
        "      <td>   96.340780</td>\n",
        "    </tr>\n",
        "    <tr>\n",
        "      <th>std</th>\n",
        "      <td>   29.297435</td>\n",
        "      <td>   27.252829</td>\n",
        "      <td>   35.344627</td>\n",
        "      <td>   27.490193</td>\n",
        "      <td>   32.276800</td>\n",
        "    </tr>\n",
        "    <tr>\n",
        "      <th>min</th>\n",
        "      <td>   14.735900</td>\n",
        "      <td>   15.121100</td>\n",
        "      <td>   14.716200</td>\n",
        "      <td>   13.334600</td>\n",
        "      <td>   14.449200</td>\n",
        "    </tr>\n",
        "    <tr>\n",
        "      <th>25%</th>\n",
        "      <td>   80.064325</td>\n",
        "      <td>   80.004000</td>\n",
        "      <td>   80.086600</td>\n",
        "      <td>   76.501975</td>\n",
        "      <td>   75.539450</td>\n",
        "    </tr>\n",
        "    <tr>\n",
        "      <th>50%</th>\n",
        "      <td>   97.363550</td>\n",
        "      <td>   96.565200</td>\n",
        "      <td>   97.912200</td>\n",
        "      <td>   91.717950</td>\n",
        "      <td>   92.552450</td>\n",
        "    </tr>\n",
        "    <tr>\n",
        "      <th>75%</th>\n",
        "      <td>  117.643325</td>\n",
        "      <td>  112.843600</td>\n",
        "      <td>  121.760400</td>\n",
        "      <td>  108.589875</td>\n",
        "      <td>  114.141175</td>\n",
        "    </tr>\n",
        "    <tr>\n",
        "      <th>max</th>\n",
        "      <td>  300.903200</td>\n",
        "      <td>  255.164300</td>\n",
        "      <td>  275.544400</td>\n",
        "      <td>  253.169500</td>\n",
        "      <td>  280.341200</td>\n",
        "    </tr>\n",
        "  </tbody>\n",
        "</table>\n",
        "</div>"
       ],
       "metadata": {},
       "output_type": "pyout",
       "prompt_number": 5,
       "text": [
        "                WT       pSuper         TRF1         TRF2       TRF1/2\n",
        "count  2424.000000  1369.000000  1069.000000  1520.000000  1190.000000\n",
        "mean    100.185577    96.716622   102.181077    92.864994    96.340780\n",
        "std      29.297435    27.252829    35.344627    27.490193    32.276800\n",
        "min      14.735900    15.121100    14.716200    13.334600    14.449200\n",
        "25%      80.064325    80.004000    80.086600    76.501975    75.539450\n",
        "50%      97.363550    96.565200    97.912200    91.717950    92.552450\n",
        "75%     117.643325   112.843600   121.760400   108.589875   114.141175\n",
        "max     300.903200   255.164300   275.544400   253.169500   280.341200"
       ]
      }
     ],
     "prompt_number": 5
    },
    {
     "cell_type": "code",
     "collapsed": false,
     "input": [
      "SData.describe()"
     ],
     "language": "python",
     "metadata": {},
     "outputs": [
      {
       "html": [
        "<div style=\"max-height:1000px;max-width:1500px;overflow:auto;\">\n",
        "<table border=\"1\" class=\"dataframe\">\n",
        "  <thead>\n",
        "    <tr style=\"text-align: right;\">\n",
        "      <th></th>\n",
        "      <th>WT</th>\n",
        "      <th>pSuper</th>\n",
        "      <th>TRF1</th>\n",
        "      <th>TRF2</th>\n",
        "      <th>TRF1/2</th>\n",
        "    </tr>\n",
        "  </thead>\n",
        "  <tbody>\n",
        "    <tr>\n",
        "      <th>count</th>\n",
        "      <td> 1441.000000</td>\n",
        "      <td> 982.000000</td>\n",
        "      <td> 958.000000</td>\n",
        "      <td> 735.000000</td>\n",
        "      <td> 1041.000000</td>\n",
        "    </tr>\n",
        "    <tr>\n",
        "      <th>mean</th>\n",
        "      <td>   77.194052</td>\n",
        "      <td>  80.956521</td>\n",
        "      <td>  85.692977</td>\n",
        "      <td>  74.132482</td>\n",
        "      <td>   88.584565</td>\n",
        "    </tr>\n",
        "    <tr>\n",
        "      <th>std</th>\n",
        "      <td>   20.193140</td>\n",
        "      <td>  26.391578</td>\n",
        "      <td>  30.070310</td>\n",
        "      <td>  23.922405</td>\n",
        "      <td>   28.931461</td>\n",
        "    </tr>\n",
        "    <tr>\n",
        "      <th>min</th>\n",
        "      <td>   13.250300</td>\n",
        "      <td>  13.226200</td>\n",
        "      <td>  15.553300</td>\n",
        "      <td>  16.589300</td>\n",
        "      <td>   13.226900</td>\n",
        "    </tr>\n",
        "    <tr>\n",
        "      <th>25%</th>\n",
        "      <td>   63.435200</td>\n",
        "      <td>  64.659350</td>\n",
        "      <td>  66.120675</td>\n",
        "      <td>  61.252100</td>\n",
        "      <td>   70.564700</td>\n",
        "    </tr>\n",
        "    <tr>\n",
        "      <th>50%</th>\n",
        "      <td>   75.858800</td>\n",
        "      <td>  79.237900</td>\n",
        "      <td>  82.416150</td>\n",
        "      <td>  75.403000</td>\n",
        "      <td>   85.493600</td>\n",
        "    </tr>\n",
        "    <tr>\n",
        "      <th>75%</th>\n",
        "      <td>   90.027200</td>\n",
        "      <td>  94.934100</td>\n",
        "      <td> 103.034800</td>\n",
        "      <td>  87.018050</td>\n",
        "      <td>  103.486000</td>\n",
        "    </tr>\n",
        "    <tr>\n",
        "      <th>max</th>\n",
        "      <td>  154.996000</td>\n",
        "      <td> 244.104200</td>\n",
        "      <td> 218.878700</td>\n",
        "      <td> 163.588400</td>\n",
        "      <td>  293.623700</td>\n",
        "    </tr>\n",
        "  </tbody>\n",
        "</table>\n",
        "</div>"
       ],
       "metadata": {},
       "output_type": "pyout",
       "prompt_number": 6,
       "text": [
        "                WT      pSuper        TRF1        TRF2       TRF1/2\n",
        "count  1441.000000  982.000000  958.000000  735.000000  1041.000000\n",
        "mean     77.194052   80.956521   85.692977   74.132482    88.584565\n",
        "std      20.193140   26.391578   30.070310   23.922405    28.931461\n",
        "min      13.250300   13.226200   15.553300   16.589300    13.226900\n",
        "25%      63.435200   64.659350   66.120675   61.252100    70.564700\n",
        "50%      75.858800   79.237900   82.416150   75.403000    85.493600\n",
        "75%      90.027200   94.934100  103.034800   87.018050   103.486000\n",
        "max     154.996000  244.104200  218.878700  163.588400   293.623700"
       ]
      }
     ],
     "prompt_number": 6
    },
    {
     "cell_type": "heading",
     "level": 2,
     "metadata": {},
     "source": [
      "Prepare the results data structure"
     ]
    },
    {
     "cell_type": "code",
     "collapsed": false,
     "input": [
      "# Initialize the data structures for storing the results. This is a dictionary-based tree structure.\n",
      "\n",
      "# Filter pSuper out from the list of column titles.\n",
      "colTitlesL = list(filter(lambda name: name != 'pSuper', iter(LData.columns)))\n",
      "colTitlesS = list(filter(lambda name: name != 'pSuper', iter(SData.columns)))\n",
      "\n",
      "# This copies the column headings from the dataframes into the results dict, except for pSuper.\n",
      "results = {'LMeans' : {key:None for key in colTitlesL},\n",
      "           'LMedians' : {key:None for key in colTitlesL},\n",
      "           'LWilcoxon p-value' : {key:None for key in colTitlesL},\n",
      "           'SMeans' : {key:None for key in colTitlesS},\n",
      "           'SMedians' : {key:None for key in colTitlesS},\n",
      "           'SWilcoxon p-value' : {key:None for key in colTitlesS}}\n",
      "\n",
      "# The final nodes for the Mean and Median branches.\n",
      "bsStats = {'Bootstrap 95% p-value' : None,\n",
      "           'Bootstrap 99% p-value' : None,\n",
      "           'Bootstrap 95% CI' : None,\n",
      "           'Bootstrap 99% CI' : None}\n",
      "\n",
      "for key in results:\n",
      "    if key not in ['LWilcoxon p-value', 'SWilcoxon p-value']:\n",
      "        for dataset in results[key]:\n",
      "            results[key][dataset] = bsStats.copy() # Create multiple bsStats dicts in memory."
     ],
     "language": "python",
     "metadata": {},
     "outputs": [],
     "prompt_number": 7
    },
    {
     "cell_type": "heading",
     "level": 2,
     "metadata": {},
     "source": [
      "Visual comparison of wild type Hela L and Hela S"
     ]
    },
    {
     "cell_type": "code",
     "collapsed": false,
     "input": [
      "options = {'myBins' : np.arange(10, 200, 5), # bins from 10 nm to 200 nm in steps of 5 nm\n",
      "           'label1' : 'Hela L',\n",
      "           'label2' : 'Hela S',\n",
      "           'title' : 'Wild type',\n",
      "           'xlabel' : 'Radius of gyration, nm',\n",
      "           'ylabel' : 'Normalized frequency'}\n",
      "fig, ax = cmpHistograms(LData['WT'], SData['WT'], options)"
     ],
     "language": "python",
     "metadata": {},
     "outputs": [
      {
       "metadata": {},
       "output_type": "display_data",
       "png": "[encoded data removed]",
       "text": [
        "<matplotlib.figure.Figure at 0x7f6325e26240>"
       ]
      }
     ],
     "prompt_number": 8
    },
    {
     "cell_type": "heading",
     "level": 2,
     "metadata": {},
     "source": [
      "Comparison of wild type to pSuper"
     ]
    },
    {
     "cell_type": "heading",
     "level": 3,
     "metadata": {},
     "source": [
      "Hela L"
     ]
    },
    {
     "cell_type": "code",
     "collapsed": false,
     "input": [
      "options = {'myBins' : np.arange(10, 200, 5), # 10 nm to 200 nm in steps of 5 nm\n",
      "           'label1' : 'pSuper',\n",
      "           'label2' : 'Wild type',\n",
      "           'title' : 'Hela L / pSuper compared to wild type',\n",
      "           'xlabel' : 'Radius of gyration, nm',\n",
      "           'ylabel' : 'Normalized frequency'}\n",
      "fig, ax = cmpHistograms(LData['pSuper'], LData['WT'], options)"
     ],
     "language": "python",
     "metadata": {},
     "outputs": [
      {
       "metadata": {},
       "output_type": "display_data",
       "png": "[encoded data removed]",
       "text": [
        "<matplotlib.figure.Figure at 0x7f6325da6e80>"
       ]
      }
     ],
     "prompt_number": 9
    },
    {
     "cell_type": "code",
     "collapsed": false,
     "input": [
      "# Wilcoxon rank-sum tests of significance for the difference of distributions\n",
      "_, results['LWilcoxon p-value']['WT'] = stats.ranksums(LData['pSuper'].dropna(), LData['WT'].dropna())"
     ],
     "language": "python",
     "metadata": {},
     "outputs": [],
     "prompt_number": 10
    },
    {
     "cell_type": "code",
     "collapsed": false,
     "input": [
      "# Bootstrap tests\n",
      "results['LMeans']['WT']['Bootstrap 95% CI'], results['LMeans']['WT']['Bootstrap 95% p-value'] = bootstrapDiff(LData['pSuper'].dropna(), LData['WT'].dropna(), alpha = 0.05, statistic = 'mean')\n",
      "results['LMeans']['WT']['Bootstrap 99% CI'], results['LMeans']['WT']['Bootstrap 99% p-value'] = bootstrapDiff(LData['pSuper'].dropna(), LData['WT'].dropna(), alpha = 0.01, statistic = 'mean')\n",
      "results['LMedians']['WT']['Bootstrap 95% CI'], results['LMedians']['WT']['Bootstrap 95% p-value'] = bootstrapDiff(LData['pSuper'].dropna(), LData['WT'].dropna(), alpha = 0.05, statistic = 'median')\n",
      "results['LMedians']['WT']['Bootstrap 99% CI'], results['LMedians']['WT']['Bootstrap 99% p-value'] = bootstrapDiff(LData['pSuper'].dropna(), LData['WT'].dropna(), alpha = 0.01, statistic = 'median')"
     ],
     "language": "python",
     "metadata": {},
     "outputs": [],
     "prompt_number": 11
    },
    {
     "cell_type": "heading",
     "level": 3,
     "metadata": {},
     "source": [
      "Hela S"
     ]
    },
    {
     "cell_type": "code",
     "collapsed": false,
     "input": [
      "options = {'myBins' : np.arange(10, 200, 5), # 10 nm to 200 nm in steps of 5 nm\n",
      "           'label1' : 'pSuper',\n",
      "           'label2' : 'Wild type',\n",
      "           'title' : 'Hela S / pSuper compared to wild type',\n",
      "           'xlabel' : 'Radius of gyration, nm',\n",
      "           'ylabel' : 'Normalized frequency'}\n",
      "fig, ax = cmpHistograms(SData['pSuper'], SData['WT'], options)"
     ],
     "language": "python",
     "metadata": {},
     "outputs": [
      {
       "metadata": {},
       "output_type": "display_data",
       "png": "[encoded data removed]",
       "text": [
        "<matplotlib.figure.Figure at 0x7f6325d76b38>"
       ]
      }
     ],
     "prompt_number": 12
    },
    {
     "cell_type": "code",
     "collapsed": false,
     "input": [
      "# Wilcoxon rank-sum tests of significance for the difference of distributions\n",
      "_, results['SWilcoxon p-value']['WT'] = stats.ranksums(SData['pSuper'].dropna(), SData['WT'].dropna())"
     ],
     "language": "python",
     "metadata": {},
     "outputs": [],
     "prompt_number": 13
    },
    {
     "cell_type": "code",
     "collapsed": false,
     "input": [
      "# Bootstrap tests\n",
      "results['SMeans']['WT']['Bootstrap 95% CI'], results['SMeans']['WT']['Bootstrap 95% p-value'] = bootstrapDiff(SData['pSuper'].dropna(), SData['WT'].dropna(), alpha = 0.05, statistic = 'mean')\n",
      "results['SMeans']['WT']['Bootstrap 99% CI'], results['SMeans']['WT']['Bootstrap 99% p-value'] = bootstrapDiff(SData['pSuper'].dropna(), SData['WT'].dropna(), alpha = 0.01, statistic = 'mean')\n",
      "results['SMedians']['WT']['Bootstrap 95% CI'], results['SMedians']['WT']['Bootstrap 95% p-value'] = bootstrapDiff(SData['pSuper'].dropna(), SData['WT'].dropna(), alpha = 0.05, statistic = 'median')\n",
      "results['SMedians']['WT']['Bootstrap 99% CI'], results['SMedians']['WT']['Bootstrap 99% p-value'] = bootstrapDiff(SData['pSuper'].dropna(), SData['WT'].dropna(), alpha = 0.01, statistic = 'median')"
     ],
     "language": "python",
     "metadata": {},
     "outputs": [],
     "prompt_number": 14
    },
    {
     "cell_type": "heading",
     "level": 2,
     "metadata": {},
     "source": [
      "TRF1 knockdowns"
     ]
    },
    {
     "cell_type": "heading",
     "level": 3,
     "metadata": {},
     "source": [
      "Hela L"
     ]
    },
    {
     "cell_type": "code",
     "collapsed": false,
     "input": [
      "options = {'myBins' : np.arange(10, 200, 5), # 10 nm to 200 nm in steps of 5 nm\n",
      "           'label1' : 'pSuper',\n",
      "           'label2' : 'TRF1',\n",
      "           'title' : 'Hela L / TRF1 knockdown',\n",
      "           'xlabel' : 'Radius of gyration, nm',\n",
      "           'ylabel' : 'Normalized frequency'}\n",
      "fig, ax = cmpHistograms(LData['pSuper'], LData['TRF1'], options)"
     ],
     "language": "python",
     "metadata": {},
     "outputs": [
      {
       "metadata": {},
       "output_type": "display_data",
       "png": "[encoded data removed]",
       "text": [
        "<matplotlib.figure.Figure at 0x7f6325d13470>"
       ]
      }
     ],
     "prompt_number": 15
    },
    {
     "cell_type": "code",
     "collapsed": false,
     "input": [
      "# Wilcoxon rank-sum tests of significance for the difference of distributions\n",
      "_, results['LWilcoxon p-value']['TRF1'] = stats.ranksums(LData['pSuper'].dropna(), LData['TRF1'].dropna())"
     ],
     "language": "python",
     "metadata": {},
     "outputs": [],
     "prompt_number": 16
    },
    {
     "cell_type": "code",
     "collapsed": false,
     "input": [
      "# Bootstrap tests\n",
      "results['LMeans']['TRF1']['Bootstrap 95% CI'], results['LMeans']['TRF1']['Bootstrap 95% p-value'] = bootstrapDiff(LData['pSuper'].dropna(), LData['TRF1'].dropna(), alpha = 0.05, statistic = 'mean')\n",
      "results['LMeans']['TRF1']['Bootstrap 99% CI'], results['LMeans']['TRF1']['Bootstrap 99% p-value'] = bootstrapDiff(LData['pSuper'].dropna(), LData['TRF1'].dropna(), alpha = 0.01, statistic = 'mean')\n",
      "results['LMedians']['TRF1']['Bootstrap 95% CI'], results['LMedians']['TRF1']['Bootstrap 95% p-value'] = bootstrapDiff(LData['pSuper'].dropna(), LData['TRF1'].dropna(), alpha = 0.05, statistic = 'median')\n",
      "results['LMedians']['TRF1']['Bootstrap 99% CI'], results['LMedians']['TRF1']['Bootstrap 99% p-value'] = bootstrapDiff(LData['pSuper'].dropna(), LData['TRF1'].dropna(), alpha = 0.01, statistic = 'median')"
     ],
     "language": "python",
     "metadata": {},
     "outputs": [],
     "prompt_number": 17
    },
    {
     "cell_type": "heading",
     "level": 3,
     "metadata": {},
     "source": [
      "Hela S"
     ]
    },
    {
     "cell_type": "code",
     "collapsed": false,
     "input": [
      "options = {'myBins' : np.arange(10, 200, 5), # 10 nm to 200 nm in steps of 5 nm\n",
      "           'label1' : 'pSuper',\n",
      "           'label2' : 'TRF1',\n",
      "           'title' : 'Hela S / TRF1 knockdown',\n",
      "           'xlabel' : 'Radius of gyration, nm',\n",
      "           'ylabel' : 'Normalized frequency'}\n",
      "fig, ax = cmpHistograms(SData['pSuper'], SData['TRF1'], options)"
     ],
     "language": "python",
     "metadata": {},
     "outputs": [
      {
       "metadata": {},
       "output_type": "display_data",
       "png": "[encoded data removed]",
       "text": [
        "<matplotlib.figure.Figure at 0x7f6325c7be48>"
       ]
      }
     ],
     "prompt_number": 18
    },
    {
     "cell_type": "code",
     "collapsed": false,
     "input": [
      "# Wilcoxon rank-sum tests of significance for the difference of distributions\n",
      "_, results['SWilcoxon p-value']['TRF1'] = stats.ranksums(SData['pSuper'].dropna(), SData['TRF1'].dropna())"
     ],
     "language": "python",
     "metadata": {},
     "outputs": [],
     "prompt_number": 19
    },
    {
     "cell_type": "code",
     "collapsed": false,
     "input": [
      "# Bootstrap tests\n",
      "results['SMeans']['TRF1']['Bootstrap 95% CI'], results['SMeans']['TRF1']['Bootstrap 95% p-value'] = bootstrapDiff(SData['pSuper'].dropna(), SData['TRF1'].dropna(), alpha = 0.05, statistic = 'mean')\n",
      "results['SMeans']['TRF1']['Bootstrap 99% CI'], results['SMeans']['TRF1']['Bootstrap 99% p-value'] = bootstrapDiff(SData['pSuper'].dropna(), SData['TRF1'].dropna(), alpha = 0.01, statistic = 'mean')\n",
      "results['SMedians']['TRF1']['Bootstrap 95% CI'], results['SMedians']['TRF1']['Bootstrap 95% p-value'] = bootstrapDiff(SData['pSuper'].dropna(), SData['TRF1'].dropna(), alpha = 0.05, statistic = 'median')\n",
      "results['SMedians']['TRF1']['Bootstrap 99% CI'], results['SMedians']['TRF1']['Bootstrap 99% p-value'] = bootstrapDiff(SData['pSuper'].dropna(), SData['TRF1'].dropna(), alpha = 0.01, statistic = 'median')"
     ],
     "language": "python",
     "metadata": {},
     "outputs": [],
     "prompt_number": 20
    },
    {
     "cell_type": "heading",
     "level": 2,
     "metadata": {},
     "source": [
      "TRF2 knockdowns"
     ]
    },
    {
     "cell_type": "heading",
     "level": 3,
     "metadata": {},
     "source": [
      "Hela L"
     ]
    },
    {
     "cell_type": "code",
     "collapsed": false,
     "input": [
      "options = {'myBins' : np.arange(10, 200, 5), # 10 nm to 200 nm in steps of 5 nm\n",
      "           'label1' : 'pSuper',\n",
      "           'label2' : 'TRF2',\n",
      "           'title' : 'Hela L / TRF2 knockdown',\n",
      "           'xlabel' : 'Radius of gyration, nm',\n",
      "           'ylabel' : 'Normalized frequency'}\n",
      "fig, ax = cmpHistograms(LData['pSuper'], LData['TRF2'], options)"
     ],
     "language": "python",
     "metadata": {},
     "outputs": [
      {
       "metadata": {},
       "output_type": "display_data",
       "png": "[encoded data removed]",
       "text": [
        "<matplotlib.figure.Figure at 0x7f6325bee0b8>"
       ]
      }
     ],
     "prompt_number": 21
    },
    {
     "cell_type": "code",
     "collapsed": false,
     "input": [
      "# Wilcoxon rank-sum tests of significance for the difference of distributions\n",
      "_, results['LWilcoxon p-value']['TRF2'] = stats.ranksums(LData['pSuper'].dropna(), LData['TRF2'].dropna())"
     ],
     "language": "python",
     "metadata": {},
     "outputs": [],
     "prompt_number": 22
    },
    {
     "cell_type": "code",
     "collapsed": false,
     "input": [
      "# Bootstrap tests\n",
      "results['LMeans']['TRF2']['Bootstrap 95% CI'], results['LMeans']['TRF2']['Bootstrap 95% p-value'] = bootstrapDiff(LData['pSuper'].dropna(), LData['TRF2'].dropna(), alpha = 0.05, statistic = 'mean')\n",
      "results['LMeans']['TRF2']['Bootstrap 99% CI'], results['LMeans']['TRF2']['Bootstrap 99% p-value'] = bootstrapDiff(LData['pSuper'].dropna(), LData['TRF2'].dropna(), alpha = 0.01, statistic = 'mean')\n",
      "results['LMedians']['TRF2']['Bootstrap 95% CI'], results['LMedians']['TRF2']['Bootstrap 95% p-value'] = bootstrapDiff(LData['pSuper'].dropna(), LData['TRF2'].dropna(), alpha = 0.05, statistic = 'median')\n",
      "results['LMedians']['TRF2']['Bootstrap 99% CI'], results['LMedians']['TRF2']['Bootstrap 99% p-value'] = bootstrapDiff(LData['pSuper'].dropna(), LData['TRF2'].dropna(), alpha = 0.01, statistic = 'median')"
     ],
     "language": "python",
     "metadata": {},
     "outputs": [],
     "prompt_number": 23
    },
    {
     "cell_type": "heading",
     "level": 3,
     "metadata": {},
     "source": [
      "Hela S"
     ]
    },
    {
     "cell_type": "code",
     "collapsed": false,
     "input": [
      "options = {'myBins' : np.arange(10, 200, 5), # 10 nm to 200 nm in steps of 5 nm\n",
      "           'label1' : 'pSuper',\n",
      "           'label2' : 'TRF2',\n",
      "           'title' : 'Hela S / TRF2 knockdown',\n",
      "           'xlabel' : 'Radius of gyration, nm',\n",
      "           'ylabel' : 'Normalized frequency'}\n",
      "fig, ax = cmpHistograms(SData['pSuper'], SData['TRF2'], options)"
     ],
     "language": "python",
     "metadata": {},
     "outputs": [
      {
       "metadata": {},
       "output_type": "display_data",
       "png": "[encoded data removed]",
       "text": [
        "<matplotlib.figure.Figure at 0x7f6325d09198>"
       ]
      }
     ],
     "prompt_number": 24
    },
    {
     "cell_type": "code",
     "collapsed": false,
     "input": [
      "# Wilcoxon rank-sum tests of significance for the difference of distributions\n",
      "_, results['SWilcoxon p-value']['TRF2'] = stats.ranksums(SData['pSuper'].dropna(), SData['TRF2'].dropna())"
     ],
     "language": "python",
     "metadata": {},
     "outputs": [],
     "prompt_number": 25
    },
    {
     "cell_type": "code",
     "collapsed": false,
     "input": [
      "# Bootstrap tests\n",
      "results['SMeans']['TRF2']['Bootstrap 95% CI'], results['SMeans']['TRF2']['Bootstrap 95% p-value'] = bootstrapDiff(SData['pSuper'].dropna(), SData['TRF2'].dropna(), alpha = 0.05, statistic = 'mean')\n",
      "results['SMeans']['TRF2']['Bootstrap 99% CI'], results['SMeans']['TRF2']['Bootstrap 99% p-value'] = bootstrapDiff(SData['pSuper'].dropna(), SData['TRF2'].dropna(), alpha = 0.01, statistic = 'mean')\n",
      "results['SMedians']['TRF2']['Bootstrap 95% CI'], results['SMedians']['TRF2']['Bootstrap 95% p-value'] = bootstrapDiff(SData['pSuper'].dropna(), SData['TRF2'].dropna(), alpha = 0.05, statistic = 'median')\n",
      "results['SMedians']['TRF2']['Bootstrap 99% CI'], results['SMedians']['TRF2']['Bootstrap 99% p-value'] = bootstrapDiff(SData['pSuper'].dropna(), SData['TRF2'].dropna(), alpha = 0.01, statistic = 'median')"
     ],
     "language": "python",
     "metadata": {},
     "outputs": [],
     "prompt_number": 26
    },
    {
     "cell_type": "heading",
     "level": 2,
     "metadata": {},
     "source": [
      "TRF1/2 double knockdowns"
     ]
    },
    {
     "cell_type": "heading",
     "level": 3,
     "metadata": {},
     "source": [
      "Hela L"
     ]
    },
    {
     "cell_type": "code",
     "collapsed": false,
     "input": [
      "options = {'myBins' : np.arange(10, 200, 5), # 10 nm to 200 nm in steps of 5 nm\n",
      "           'label1' : 'pSuper',\n",
      "           'label2' : 'TRF1/2',\n",
      "           'title' : 'Hela L / TRF1/2 double knockdown',\n",
      "           'xlabel' : 'Radius of gyration, nm',\n",
      "           'ylabel' : 'Normalized frequency'}\n",
      "fig, ax = cmpHistograms(LData['pSuper'], LData['TRF1/2'], options)"
     ],
     "language": "python",
     "metadata": {},
     "outputs": [
      {
       "metadata": {},
       "output_type": "display_data",
       "png": "[encoded data removed]",
       "text": [
        "<matplotlib.figure.Figure at 0x7f6325dbd6d8>"
       ]
      }
     ],
     "prompt_number": 27
    },
    {
     "cell_type": "code",
     "collapsed": false,
     "input": [
      "# Wilcoxon rank-sum tests of significance for the difference of distributions\n",
      "_, results['LWilcoxon p-value']['TRF1/2'] = stats.ranksums(LData['pSuper'].dropna(), LData['TRF1/2'].dropna())"
     ],
     "language": "python",
     "metadata": {},
     "outputs": [],
     "prompt_number": 28
    },
    {
     "cell_type": "code",
     "collapsed": false,
     "input": [
      "# Bootstrap tests\n",
      "results['LMeans']['TRF1/2']['Bootstrap 95% CI'], results['LMeans']['TRF1/2']['Bootstrap 95% p-value'] = bootstrapDiff(LData['pSuper'].dropna(), LData['TRF1/2'].dropna(), alpha = 0.05, statistic = 'mean')\n",
      "results['LMeans']['TRF1/2']['Bootstrap 99% CI'], results['LMeans']['TRF1/2']['Bootstrap 99% p-value'] = bootstrapDiff(LData['pSuper'].dropna(), LData['TRF1/2'].dropna(), alpha = 0.01, statistic = 'mean')\n",
      "results['LMedians']['TRF1/2']['Bootstrap 95% CI'], results['LMedians']['TRF1/2']['Bootstrap 95% p-value'] = bootstrapDiff(LData['pSuper'].dropna(), LData['TRF1/2'].dropna(), alpha = 0.05, statistic = 'median')\n",
      "results['LMedians']['TRF1/2']['Bootstrap 99% CI'], results['LMedians']['TRF1/2']['Bootstrap 99% p-value'] = bootstrapDiff(LData['pSuper'].dropna(), LData['TRF1/2'].dropna(), alpha = 0.01, statistic = 'median')"
     ],
     "language": "python",
     "metadata": {},
     "outputs": [],
     "prompt_number": 29
    },
    {
     "cell_type": "heading",
     "level": 3,
     "metadata": {},
     "source": [
      "Hela S"
     ]
    },
    {
     "cell_type": "code",
     "collapsed": false,
     "input": [
      "options = {'myBins' : np.arange(10, 200, 5), # 10 nm to 200 nm in steps of 5 nm\n",
      "           'label1' : 'pSuper',\n",
      "           'label2' : 'TRF1/2',\n",
      "           'title' : 'Hela S / TRF1/2 double knockdown',\n",
      "           'xlabel' : 'Radius of gyration, nm',\n",
      "           'ylabel' : 'Normalized frequency'}\n",
      "fig, ax = cmpHistograms(SData['pSuper'], SData['TRF1/2'], options)"
     ],
     "language": "python",
     "metadata": {},
     "outputs": [
      {
       "metadata": {},
       "output_type": "display_data",
       "png": "[encoded data removed]",
       "text": [
        "<matplotlib.figure.Figure at 0x7f6325c97668>"
       ]
      }
     ],
     "prompt_number": 30
    },
    {
     "cell_type": "code",
     "collapsed": false,
     "input": [
      "# Wilcoxon rank-sum tests of significance for the difference of distributions\n",
      "_, results['SWilcoxon p-value']['TRF1/2'] = stats.ranksums(SData['pSuper'].dropna(), SData['TRF1/2'].dropna())"
     ],
     "language": "python",
     "metadata": {},
     "outputs": [],
     "prompt_number": 31
    },
    {
     "cell_type": "code",
     "collapsed": false,
     "input": [
      "# Bootstrap tests\n",
      "results['SMeans']['TRF1/2']['Bootstrap 95% CI'], results['SMeans']['TRF1/2']['Bootstrap 95% p-value'] = bootstrapDiff(SData['pSuper'].dropna(), SData['TRF1/2'].dropna(), alpha = 0.05, statistic = 'mean')\n",
      "results['SMeans']['TRF1/2']['Bootstrap 99% CI'], results['SMeans']['TRF1/2']['Bootstrap 99% p-value'] = bootstrapDiff(SData['pSuper'].dropna(), SData['TRF1/2'].dropna(), alpha = 0.01, statistic = 'mean')\n",
      "results['SMedians']['TRF1/2']['Bootstrap 95% CI'], results['SMedians']['TRF1/2']['Bootstrap 95% p-value'] = bootstrapDiff(SData['pSuper'].dropna(), SData['TRF1/2'].dropna(), alpha = 0.05, statistic = 'median')\n",
      "results['SMedians']['TRF1/2']['Bootstrap 99% CI'], results['SMedians']['TRF1/2']['Bootstrap 99% p-value'] = bootstrapDiff(SData['pSuper'].dropna(), SData['TRF1/2'].dropna(), alpha = 0.01, statistic = 'median')"
     ],
     "language": "python",
     "metadata": {},
     "outputs": [],
     "prompt_number": 32
    },
    {
     "cell_type": "code",
     "collapsed": false,
     "input": [
      "# Save the results in the same folder as this notebook.\n",
      "import pickle\n",
      "pickle.dump(results, open('TRF12KD_Results.dat', 'wb'))"
     ],
     "language": "python",
     "metadata": {},
     "outputs": [],
     "prompt_number": 33
    },
    {
     "cell_type": "heading",
     "level": 2,
     "metadata": {},
     "source": [
      "Format the results for display"
     ]
    },
    {
     "cell_type": "code",
     "collapsed": false,
     "input": [
      "wilcoxonResults = (results['LWilcoxon p-value']['WT'], results['LWilcoxon p-value']['TRF1'],\n",
      "                  results['LWilcoxon p-value']['TRF2'], results['LWilcoxon p-value']['TRF1/2'],\n",
      "                  results['SWilcoxon p-value']['WT'], results['SWilcoxon p-value']['TRF1'],\n",
      "                  results['SWilcoxon p-value']['TRF2'], results['SWilcoxon p-value']['TRF1/2'])\n",
      "\n",
      "LMeansResults = (results['LMeans']['WT']['Bootstrap 95% CI'][0],        results['LMeans']['WT']['Bootstrap 95% CI'][1],       results['LMeans']['TRF1']['Bootstrap 95% CI'][0],   results['LMeans']['TRF1']['Bootstrap 95% CI'][1],\n",
      "                 results['LMeans']['TRF2']['Bootstrap 95% CI'][0],      results['LMeans']['TRF2']['Bootstrap 95% CI'][1],     results['LMeans']['TRF1/2']['Bootstrap 95% CI'][0], results['LMeans']['TRF1/2']['Bootstrap 95% CI'][1],\n",
      "                 results['LMeans']['WT']['Bootstrap 95% p-value'],      results['LMeans']['TRF1']['Bootstrap 95% p-value'],\n",
      "                 results['LMeans']['TRF2']['Bootstrap 95% p-value'],    results['LMeans']['TRF1/2']['Bootstrap 95% p-value'],\n",
      "                 results['LMeans']['WT']['Bootstrap 99% CI'][0],        results['LMeans']['WT']['Bootstrap 99% CI'][1],       results['LMeans']['TRF1']['Bootstrap 99% CI'][0],   results['LMeans']['TRF1']['Bootstrap 99% CI'][1],\n",
      "                 results['LMeans']['TRF2']['Bootstrap 99% CI'][0],      results['LMeans']['TRF2']['Bootstrap 99% CI'][1],     results['LMeans']['TRF1/2']['Bootstrap 99% CI'][0], results['LMeans']['TRF1/2']['Bootstrap 99% CI'][1],\n",
      "                 results['LMeans']['WT']['Bootstrap 99% p-value'],      results['LMeans']['TRF1']['Bootstrap 99% p-value'],\n",
      "                 results['LMeans']['TRF2']['Bootstrap 99% p-value'],    results['LMeans']['TRF1/2']['Bootstrap 99% p-value'])\n",
      "LMediansResults = (results['LMedians']['WT']['Bootstrap 95% CI'][0],        results['LMedians']['WT']['Bootstrap 95% CI'][1],       results['LMedians']['TRF1']['Bootstrap 95% CI'][0],   results['LMedians']['TRF1']['Bootstrap 95% CI'][1],\n",
      "                   results['LMedians']['TRF2']['Bootstrap 95% CI'][0],      results['LMedians']['TRF2']['Bootstrap 95% CI'][1],     results['LMedians']['TRF1/2']['Bootstrap 95% CI'][0], results['LMedians']['TRF1/2']['Bootstrap 95% CI'][1],\n",
      "                   results['LMedians']['WT']['Bootstrap 95% p-value'],      results['LMedians']['TRF1']['Bootstrap 95% p-value'],\n",
      "                   results['LMedians']['TRF2']['Bootstrap 95% p-value'],    results['LMedians']['TRF1/2']['Bootstrap 95% p-value'],\n",
      "                   results['LMedians']['WT']['Bootstrap 99% CI'][0],        results['LMedians']['WT']['Bootstrap 99% CI'][1],       results['LMedians']['TRF1']['Bootstrap 99% CI'][0],   results['LMedians']['TRF1']['Bootstrap 99% CI'][1],\n",
      "                   results['LMedians']['TRF2']['Bootstrap 99% CI'][0],      results['LMedians']['TRF2']['Bootstrap 99% CI'][1],     results['LMedians']['TRF1/2']['Bootstrap 99% CI'][0], results['LMedians']['TRF1/2']['Bootstrap 99% CI'][1],\n",
      "                   results['LMedians']['WT']['Bootstrap 99% p-value'],      results['LMedians']['TRF1']['Bootstrap 99% p-value'],\n",
      "                   results['LMedians']['TRF2']['Bootstrap 99% p-value'],    results['LMedians']['TRF1/2']['Bootstrap 99% p-value'])\n",
      "SMeansResults = (results['SMeans']['WT']['Bootstrap 95% CI'][0],        results['SMeans']['WT']['Bootstrap 95% CI'][1],       results['SMeans']['TRF1']['Bootstrap 95% CI'][0],   results['SMeans']['TRF1']['Bootstrap 95% CI'][1],\n",
      "                 results['SMeans']['TRF2']['Bootstrap 95% CI'][0],      results['SMeans']['TRF2']['Bootstrap 95% CI'][1],     results['SMeans']['TRF1/2']['Bootstrap 95% CI'][0], results['SMeans']['TRF1/2']['Bootstrap 95% CI'][1],\n",
      "                 results['SMeans']['WT']['Bootstrap 95% p-value'],      results['SMeans']['TRF1']['Bootstrap 95% p-value'],\n",
      "                 results['SMeans']['TRF2']['Bootstrap 95% p-value'],    results['SMeans']['TRF1/2']['Bootstrap 95% p-value'],\n",
      "                 results['SMeans']['WT']['Bootstrap 99% CI'][0],        results['SMeans']['WT']['Bootstrap 99% CI'][1],       results['SMeans']['TRF1']['Bootstrap 99% CI'][0],   results['SMeans']['TRF1']['Bootstrap 99% CI'][1],\n",
      "                 results['SMeans']['TRF2']['Bootstrap 99% CI'][0],      results['SMeans']['TRF2']['Bootstrap 99% CI'][1],     results['SMeans']['TRF1/2']['Bootstrap 99% CI'][0], results['SMeans']['TRF1/2']['Bootstrap 99% CI'][1],\n",
      "                 results['SMeans']['WT']['Bootstrap 99% p-value'],      results['SMeans']['TRF1']['Bootstrap 99% p-value'],\n",
      "                 results['SMeans']['TRF2']['Bootstrap 99% p-value'],    results['SMeans']['TRF1/2']['Bootstrap 99% p-value'])\n",
      "SMediansResults = (results['SMedians']['WT']['Bootstrap 95% CI'][0],        results['SMedians']['WT']['Bootstrap 95% CI'][1],       results['SMedians']['TRF1']['Bootstrap 95% CI'][0],   results['SMedians']['TRF1']['Bootstrap 95% CI'][1],\n",
      "                   results['SMedians']['TRF2']['Bootstrap 95% CI'][0],      results['SMedians']['TRF2']['Bootstrap 95% CI'][1],     results['SMedians']['TRF1/2']['Bootstrap 95% CI'][0], results['SMedians']['TRF1/2']['Bootstrap 95% CI'][1],\n",
      "                   results['SMedians']['WT']['Bootstrap 95% p-value'],      results['SMedians']['TRF1']['Bootstrap 95% p-value'],\n",
      "                   results['SMedians']['TRF2']['Bootstrap 95% p-value'],    results['SMedians']['TRF1/2']['Bootstrap 95% p-value'],\n",
      "                   results['SMedians']['WT']['Bootstrap 99% CI'][0],        results['SMedians']['WT']['Bootstrap 99% CI'][1],       results['SMedians']['TRF1']['Bootstrap 99% CI'][0],   results['SMedians']['TRF1']['Bootstrap 99% CI'][1],\n",
      "                   results['SMedians']['TRF2']['Bootstrap 99% CI'][0],      results['SMedians']['TRF2']['Bootstrap 99% CI'][1],     results['SMedians']['TRF1/2']['Bootstrap 99% CI'][0], results['SMedians']['TRF1/2']['Bootstrap 99% CI'][1],\n",
      "                   results['SMedians']['WT']['Bootstrap 99% p-value'],      results['SMedians']['TRF1']['Bootstrap 99% p-value'],\n",
      "                   results['SMedians']['TRF2']['Bootstrap 99% p-value'],    results['SMedians']['TRF1/2']['Bootstrap 99% p-value'])\n"
     ],
     "language": "python",
     "metadata": {},
     "outputs": [],
     "prompt_number": 35
    },
    {
     "cell_type": "heading",
     "level": 2,
     "metadata": {},
     "source": [
      "Results"
     ]
    },
    {
     "cell_type": "heading",
     "level": 3,
     "metadata": {},
     "source": [
      "Wilcoxon rank-sum test for significantly different distributions"
     ]
    },
    {
     "cell_type": "code",
     "collapsed": false,
     "input": [
      "from IPython.display import HTML"
     ],
     "language": "python",
     "metadata": {},
     "outputs": [],
     "prompt_number": 36
    },
    {
     "cell_type": "code",
     "collapsed": false,
     "input": [
      "dispWilcoxonTable = HTML(wilcoxonTable % wilcoxonResults); dispWilcoxonTable"
     ],
     "language": "python",
     "metadata": {},
     "outputs": [
      {
       "html": [
        "<h1>Wilcoxon rank-sum test p-values</h1>\n",
        "<table>\n",
        "<tr>\n",
        "  <th>Cell type</th>\n",
        "  <th>Wild type</th>\n",
        "  <th>TRF1</th>\n",
        "  <th>TRF2</th>\n",
        "  <th>TRF1/2</th>\n",
        "</tr>\n",
        "<tr>\n",
        "  <td><b>Hela L</b></td>\n",
        "  <td><div align = \"right\">0.03610</div></td>\n",
        "  <td><div align = \"right\">0.00471</div></td>\n",
        "  <td><div align = \"right\">0.00001</div></td>\n",
        "  <td><div align = \"right\">0.01462</div></td>\n",
        "</tr>\n",
        "<tr>\n",
        "  <td><b>Hela S</b></td>\n",
        "  <td><div align = \"right\">0.00060</div></td>\n",
        "  <td><div align = \"right\">0.00129</div></td>\n",
        "  <td><div align = \"right\">0.00000</div></td>\n",
        "  <td><div align = \"right\">0.00000</div></td>\n",
        "</tr>\n",
        "</table>"
       ],
       "metadata": {},
       "output_type": "pyout",
       "prompt_number": 37,
       "text": [
        "<IPython.core.display.HTML at 0x7f6325c46358>"
       ]
      }
     ],
     "prompt_number": 37
    },
    {
     "cell_type": "heading",
     "level": 3,
     "metadata": {},
     "source": [
      "Bootstrap Results"
     ]
    },
    {
     "cell_type": "code",
     "collapsed": false,
     "input": [
      "LMeansTable = \"<h1>Hela L / Difference of Means</h1>\" + formattedTable % LMeansResults\n",
      "dispLMeansTable = HTML(LMeansTable); dispLMeansTable"
     ],
     "language": "python",
     "metadata": {},
     "outputs": [
      {
       "html": [
        "<h1>Hela L / Difference of Means</h1><table>\n",
        "<tr>\n",
        "  <th>--</th>\n",
        "  <th>Wild type</th>\n",
        "  <th>TRF1</th>\n",
        "  <th>TRF2</th>\n",
        "  <th>TRF1/2</th>\n",
        "</tr>\n",
        "<tr>\n",
        "  <td><b>95&#37; confidence interval</b></td>\n",
        "  <td><div align = \"right\">(-5.32061, -1.60127)</div></td>\n",
        "  <td><div align = \"right\">(-8.03388, -2.89316)</div></td>\n",
        "  <td><div align = \"right\">(1.85493, 5.85638)</div></td>\n",
        "  <td><div align = \"right\">(-1.96171, 2.70381)</div></td>\n",
        "</tr>\n",
        "<tr>\n",
        "  <td><b>95&#37; p-value</b></td>\n",
        "  <td><div align = \"right\">0.00008</div></td>\n",
        "  <td><div align = \"right\">0.00001</div></td>\n",
        "  <td><div align = \"right\">0.00008</div></td>\n",
        "  <td><div align = \"right\">0.37673</div></td>\n",
        "</tr>\n",
        "<tr>\n",
        "  <td><b>99&#37; confidence interval</b></td>\n",
        "  <td><div align = \"right\">(-5.91637, -1.03897)</div></td>\n",
        "  <td><div align = \"right\">(-8.82054, -2.13295)</div></td>\n",
        "  <td><div align = \"right\">(1.21939, 6.48157)</div></td>\n",
        "  <td><div align = \"right\">(-2.69704, 3.43495)</div></td>\n",
        "</tr>\n",
        "<tr>\n",
        "  <td><b>99&#37; p-value</b></td>\n",
        "  <td><div align = \"right\">0.00016</div></td>\n",
        "  <td><div align = \"right\">0.00001</div></td>\n",
        "  <td><div align = \"right\">0.00005</div></td>\n",
        "  <td><div align = \"right\">0.37618</div></td>\n",
        "</tr>\n",
        "</table>"
       ],
       "metadata": {},
       "output_type": "pyout",
       "prompt_number": 38,
       "text": [
        "<IPython.core.display.HTML at 0x7f6325c46f60>"
       ]
      }
     ],
     "prompt_number": 38
    },
    {
     "cell_type": "code",
     "collapsed": false,
     "input": [
      "LMediansTable = \"<h1>Hela L / Difference of Medians</h1>\" + formattedTable % LMediansResults\n",
      "dispLMediansTable = HTML(LMediansTable); dispLMediansTable"
     ],
     "language": "python",
     "metadata": {},
     "outputs": [
      {
       "html": [
        "<h1>Hela L / Difference of Medians</h1><table>\n",
        "<tr>\n",
        "  <th>--</th>\n",
        "  <th>Wild type</th>\n",
        "  <th>TRF1</th>\n",
        "  <th>TRF2</th>\n",
        "  <th>TRF1/2</th>\n",
        "</tr>\n",
        "<tr>\n",
        "  <td><b>95&#37; confidence interval</b></td>\n",
        "  <td><div align = \"right\">(-2.75050, 1.20800)</div></td>\n",
        "  <td><div align = \"right\">(-4.03740, 0.94106)</div></td>\n",
        "  <td><div align = \"right\">(2.70235, 6.95150)</div></td>\n",
        "  <td><div align = \"right\">(1.80034, 6.47822)</div></td>\n",
        "</tr>\n",
        "<tr>\n",
        "  <td><b>95&#37; p-value</b></td>\n",
        "  <td><div align = \"right\">0.21226</div></td>\n",
        "  <td><div align = \"right\">0.13840</div></td>\n",
        "  <td><div align = \"right\">0.00002</div></td>\n",
        "  <td><div align = \"right\">0.00049</div></td>\n",
        "</tr>\n",
        "<tr>\n",
        "  <td><b>99&#37; confidence interval</b></td>\n",
        "  <td><div align = \"right\">(-3.41725, 1.89425)</div></td>\n",
        "  <td><div align = \"right\">(-4.95550, 1.69050)</div></td>\n",
        "  <td><div align = \"right\">(2.04620, 7.64690)</div></td>\n",
        "  <td><div align = \"right\">(1.02174, 7.25966)</div></td>\n",
        "</tr>\n",
        "<tr>\n",
        "  <td><b>99&#37; p-value</b></td>\n",
        "  <td><div align = \"right\">0.21160</div></td>\n",
        "  <td><div align = \"right\">0.13715</div></td>\n",
        "  <td><div align = \"right\">0.00000</div></td>\n",
        "  <td><div align = \"right\">0.00050</div></td>\n",
        "</tr>\n",
        "</table>"
       ],
       "metadata": {},
       "output_type": "pyout",
       "prompt_number": 39,
       "text": [
        "<IPython.core.display.HTML at 0x7f6325c46a58>"
       ]
      }
     ],
     "prompt_number": 39
    },
    {
     "cell_type": "code",
     "collapsed": false,
     "input": [
      "SMeansTable = \"<h1>Hela S / Difference of Means</h1>\" + formattedTable % SMeansResults\n",
      "dispSMeansTable = HTML(SMeansTable); dispSMeansTable"
     ],
     "language": "python",
     "metadata": {},
     "outputs": [
      {
       "html": [
        "<h1>Hela S / Difference of Means</h1><table>\n",
        "<tr>\n",
        "  <th>--</th>\n",
        "  <th>Wild type</th>\n",
        "  <th>TRF1</th>\n",
        "  <th>TRF2</th>\n",
        "  <th>TRF1/2</th>\n",
        "</tr>\n",
        "<tr>\n",
        "  <td><b>95&#37; confidence interval</b></td>\n",
        "  <td><div align = \"right\">(1.82957, 5.71124)</div></td>\n",
        "  <td><div align = \"right\">(-7.25084, -2.21410)</div></td>\n",
        "  <td><div align = \"right\">(4.43351, 9.21630)</div></td>\n",
        "  <td><div align = \"right\">(-10.04440, -5.22131)</div></td>\n",
        "</tr>\n",
        "<tr>\n",
        "  <td><b>95&#37; p-value</b></td>\n",
        "  <td><div align = \"right\">0.00008</div></td>\n",
        "  <td><div align = \"right\">0.00013</div></td>\n",
        "  <td><div align = \"right\">0.00000</div></td>\n",
        "  <td><div align = \"right\">0.00000</div></td>\n",
        "</tr>\n",
        "<tr>\n",
        "  <td><b>99&#37; confidence interval</b></td>\n",
        "  <td><div align = \"right\">(1.19146, 6.33908)</div></td>\n",
        "  <td><div align = \"right\">(-8.00664, -1.42260)</div></td>\n",
        "  <td><div align = \"right\">(3.73020, 9.99845)</div></td>\n",
        "  <td><div align = \"right\">(-10.78855, -4.45834)</div></td>\n",
        "</tr>\n",
        "<tr>\n",
        "  <td><b>99&#37; p-value</b></td>\n",
        "  <td><div align = \"right\">0.00003</div></td>\n",
        "  <td><div align = \"right\">0.00010</div></td>\n",
        "  <td><div align = \"right\">0.00000</div></td>\n",
        "  <td><div align = \"right\">0.00000</div></td>\n",
        "</tr>\n",
        "</table>"
       ],
       "metadata": {},
       "output_type": "pyout",
       "prompt_number": 40,
       "text": [
        "<IPython.core.display.HTML at 0x7f6325d06c88>"
       ]
      }
     ],
     "prompt_number": 40
    },
    {
     "cell_type": "code",
     "collapsed": false,
     "input": [
      "SMediansTable = \"<h1>Hela S / Difference of Medians</h1>\" + formattedTable % SMediansResults\n",
      "dispSMediansTable = HTML(SMediansTable); dispSMediansTable"
     ],
     "language": "python",
     "metadata": {},
     "outputs": [
      {
       "html": [
        "<h1>Hela S / Difference of Medians</h1><table>\n",
        "<tr>\n",
        "  <th>--</th>\n",
        "  <th>Wild type</th>\n",
        "  <th>TRF1</th>\n",
        "  <th>TRF2</th>\n",
        "  <th>TRF1/2</th>\n",
        "</tr>\n",
        "<tr>\n",
        "  <td><b>95&#37; confidence interval</b></td>\n",
        "  <td><div align = \"right\">(1.16185, 5.33300)</div></td>\n",
        "  <td><div align = \"right\">(-5.49356, -0.40145)</div></td>\n",
        "  <td><div align = \"right\">(1.61750, 6.49200)</div></td>\n",
        "  <td><div align = \"right\">(-8.38405, -3.98460)</div></td>\n",
        "</tr>\n",
        "<tr>\n",
        "  <td><b>95&#37; p-value</b></td>\n",
        "  <td><div align = \"right\">0.00035</div></td>\n",
        "  <td><div align = \"right\">0.00571</div></td>\n",
        "  <td><div align = \"right\">0.00126</div></td>\n",
        "  <td><div align = \"right\">0.00000</div></td>\n",
        "</tr>\n",
        "<tr>\n",
        "  <td><b>99&#37; confidence interval</b></td>\n",
        "  <td><div align = \"right\">(0.44550, 5.92875)</div></td>\n",
        "  <td><div align = \"right\">(-6.31990, 0.48800)</div></td>\n",
        "  <td><div align = \"right\">(0.91229, 7.26695)</div></td>\n",
        "  <td><div align = \"right\">(-9.09840, -2.97755)</div></td>\n",
        "</tr>\n",
        "<tr>\n",
        "  <td><b>99&#37; p-value</b></td>\n",
        "  <td><div align = \"right\">0.00040</div></td>\n",
        "  <td><div align = \"right\">0.00562</div></td>\n",
        "  <td><div align = \"right\">0.00120</div></td>\n",
        "  <td><div align = \"right\">0.00000</div></td>\n",
        "</tr>\n",
        "</table>"
       ],
       "metadata": {},
       "output_type": "pyout",
       "prompt_number": 41,
       "text": [
        "<IPython.core.display.HTML at 0x7f6325d06f60>"
       ]
      }
     ],
     "prompt_number": 41
    },
    {
     "cell_type": "code",
     "collapsed": false,
     "input": [],
     "language": "python",
     "metadata": {},
     "outputs": []
    }
   ],
   "metadata": {}
  }
 ]
}