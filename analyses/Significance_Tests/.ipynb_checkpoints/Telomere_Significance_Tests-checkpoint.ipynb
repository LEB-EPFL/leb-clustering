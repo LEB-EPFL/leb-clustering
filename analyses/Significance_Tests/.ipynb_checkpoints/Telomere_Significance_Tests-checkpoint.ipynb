{
 "metadata": {
  "name": "",
  "signature": "sha256:5a6990761ffcf80f3ca57c6167deb51732bcdfe428d0782d4cca06c756450350"
 },
 "nbformat": 3,
 "nbformat_minor": 0,
 "worksheets": [
  {
   "cells": [
    {
     "cell_type": "heading",
     "level": 1,
     "metadata": {},
     "source": [
      "Testing for differences in size distributions - Telomere/STORM project"
     ]
    },
    {
     "cell_type": "markdown",
     "metadata": {},
     "source": [
      "This document contains the results of the significance tests performed on the distributions of the radius of gyration from the clustered telomere STORM data. The analysis includes the wild type Hela L and S distributions, as well as the data from the TRF1, TRF2, TRF1/2 knockdown experiments.\n",
      "\n",
      "All datasets will be compared to the pSuper control transfection. This includes the wild type measurements."
     ]
    },
    {
     "cell_type": "heading",
     "level": 2,
     "metadata": {},
     "source": [
      "Setup the environment"
     ]
    },
    {
     "cell_type": "code",
     "collapsed": false,
     "input": [
      "import numpy as np\n",
      "import matplotlib.pyplot as plt\n",
      "import pandas as pd\n",
      "from scipy import stats\n",
      "from sigTestHelpers import * # Custom routines specific to this analysis and for table formatting\n",
      "global numBootstraps; numBootstraps = 100000 # How many times will a bootstrap be repeated?\n",
      "\n",
      "# Enable inline plotting\n",
      "%matplotlib inline"
     ],
     "language": "python",
     "metadata": {},
     "outputs": [],
     "prompt_number": 1
    },
    {
     "cell_type": "heading",
     "level": 2,
     "metadata": {},
     "source": [
      "Import the distributions for analysis"
     ]
    },
    {
     "cell_type": "code",
     "collapsed": false,
     "input": [
      "LData = pd.read_csv('data/HelaLData_zFilter.csv')\n",
      "SData = pd.read_csv('data/HelaSData_zFilter.csv')\n",
      "print('Previewing Hela L data...\\n')\n",
      "LData.head()"
     ],
     "language": "python",
     "metadata": {},
     "outputs": [
      {
       "output_type": "stream",
       "stream": "stdout",
       "text": [
        "Previewing Hela L data...\n",
        "\n"
       ]
      },
      {
       "html": [
        "<div style=\"max-height:1000px;max-width:1500px;overflow:auto;\">\n",
        "<table border=\"1\" class=\"dataframe\">\n",
        "  <thead>\n",
        "    <tr style=\"text-align: right;\">\n",
        "      <th></th>\n",
        "      <th>WT</th>\n",
        "      <th>pSuper</th>\n",
        "      <th>TRF1</th>\n",
        "      <th>TRF2</th>\n",
        "      <th>TRF1/2</th>\n",
        "    </tr>\n",
        "  </thead>\n",
        "  <tbody>\n",
        "    <tr>\n",
        "      <th>0</th>\n",
        "      <td> 149.4162</td>\n",
        "      <td>  81.7679</td>\n",
        "      <td> 137.1358</td>\n",
        "      <td>  77.5638</td>\n",
        "      <td> 133.4674</td>\n",
        "    </tr>\n",
        "    <tr>\n",
        "      <th>1</th>\n",
        "      <td> 170.9058</td>\n",
        "      <td>  85.9741</td>\n",
        "      <td>  62.3527</td>\n",
        "      <td> 102.4764</td>\n",
        "      <td>  60.6317</td>\n",
        "    </tr>\n",
        "    <tr>\n",
        "      <th>2</th>\n",
        "      <td> 215.2124</td>\n",
        "      <td> 108.9082</td>\n",
        "      <td>  58.8340</td>\n",
        "      <td>  82.9127</td>\n",
        "      <td> 116.7470</td>\n",
        "    </tr>\n",
        "    <tr>\n",
        "      <th>3</th>\n",
        "      <td> 173.3841</td>\n",
        "      <td>  61.6829</td>\n",
        "      <td> 100.0421</td>\n",
        "      <td> 113.3241</td>\n",
        "      <td>  79.7927</td>\n",
        "    </tr>\n",
        "    <tr>\n",
        "      <th>4</th>\n",
        "      <td> 126.3479</td>\n",
        "      <td>  80.6876</td>\n",
        "      <td> 148.2830</td>\n",
        "      <td> 112.9849</td>\n",
        "      <td>  73.8926</td>\n",
        "    </tr>\n",
        "  </tbody>\n",
        "</table>\n",
        "</div>"
       ],
       "metadata": {},
       "output_type": "pyout",
       "prompt_number": 5,
       "text": [
        "         WT    pSuper      TRF1      TRF2    TRF1/2\n",
        "0  149.4162   81.7679  137.1358   77.5638  133.4674\n",
        "1  170.9058   85.9741   62.3527  102.4764   60.6317\n",
        "2  215.2124  108.9082   58.8340   82.9127  116.7470\n",
        "3  173.3841   61.6829  100.0421  113.3241   79.7927\n",
        "4  126.3479   80.6876  148.2830  112.9849   73.8926"
       ]
      }
     ],
     "prompt_number": 5
    },
    {
     "cell_type": "code",
     "collapsed": false,
     "input": [
      "print('\\nPreviewing Hela S data...\\n')\n",
      "SData.head()"
     ],
     "language": "python",
     "metadata": {},
     "outputs": [
      {
       "output_type": "stream",
       "stream": "stdout",
       "text": [
        "\n",
        "Previewing Hela S data...\n",
        "\n"
       ]
      },
      {
       "html": [
        "<div style=\"max-height:1000px;max-width:1500px;overflow:auto;\">\n",
        "<table border=\"1\" class=\"dataframe\">\n",
        "  <thead>\n",
        "    <tr style=\"text-align: right;\">\n",
        "      <th></th>\n",
        "      <th>WT</th>\n",
        "      <th>pSuper</th>\n",
        "      <th>TRF1</th>\n",
        "      <th>TRF2</th>\n",
        "      <th>TRF1/2</th>\n",
        "    </tr>\n",
        "  </thead>\n",
        "  <tbody>\n",
        "    <tr>\n",
        "      <th>0</th>\n",
        "      <td> 79.8679</td>\n",
        "      <td>  59.5341</td>\n",
        "      <td>  36.1600</td>\n",
        "      <td>  62.2108</td>\n",
        "      <td> 108.8839</td>\n",
        "    </tr>\n",
        "    <tr>\n",
        "      <th>1</th>\n",
        "      <td> 68.1668</td>\n",
        "      <td>  90.8830</td>\n",
        "      <td> 104.4575</td>\n",
        "      <td>  75.4030</td>\n",
        "      <td>  80.5993</td>\n",
        "    </tr>\n",
        "    <tr>\n",
        "      <th>2</th>\n",
        "      <td> 55.5293</td>\n",
        "      <td>  91.0627</td>\n",
        "      <td>  88.5187</td>\n",
        "      <td>  78.9046</td>\n",
        "      <td>  71.6309</td>\n",
        "    </tr>\n",
        "    <tr>\n",
        "      <th>3</th>\n",
        "      <td> 84.1121</td>\n",
        "      <td>  79.4196</td>\n",
        "      <td>  40.7994</td>\n",
        "      <td> 137.5965</td>\n",
        "      <td> 118.4994</td>\n",
        "    </tr>\n",
        "    <tr>\n",
        "      <th>4</th>\n",
        "      <td> 93.2688</td>\n",
        "      <td> 216.9304</td>\n",
        "      <td>  68.3611</td>\n",
        "      <td>  97.8792</td>\n",
        "      <td>  56.5882</td>\n",
        "    </tr>\n",
        "  </tbody>\n",
        "</table>\n",
        "</div>"
       ],
       "metadata": {},
       "output_type": "pyout",
       "prompt_number": 6,
       "text": [
        "        WT    pSuper      TRF1      TRF2    TRF1/2\n",
        "0  79.8679   59.5341   36.1600   62.2108  108.8839\n",
        "1  68.1668   90.8830  104.4575   75.4030   80.5993\n",
        "2  55.5293   91.0627   88.5187   78.9046   71.6309\n",
        "3  84.1121   79.4196   40.7994  137.5965  118.4994\n",
        "4  93.2688  216.9304   68.3611   97.8792   56.5882"
       ]
      }
     ],
     "prompt_number": 6
    },
    {
     "cell_type": "heading",
     "level": 2,
     "metadata": {},
     "source": [
      "Basic statistics from the datasets"
     ]
    },
    {
     "cell_type": "code",
     "collapsed": false,
     "input": [
      "LData.describe()"
     ],
     "language": "python",
     "metadata": {},
     "outputs": [
      {
       "html": [
        "<div style=\"max-height:1000px;max-width:1500px;overflow:auto;\">\n",
        "<table border=\"1\" class=\"dataframe\">\n",
        "  <thead>\n",
        "    <tr style=\"text-align: right;\">\n",
        "      <th></th>\n",
        "      <th>WT</th>\n",
        "      <th>pSuper</th>\n",
        "      <th>TRF1</th>\n",
        "      <th>TRF2</th>\n",
        "      <th>TRF1/2</th>\n",
        "    </tr>\n",
        "  </thead>\n",
        "  <tbody>\n",
        "    <tr>\n",
        "      <th>count</th>\n",
        "      <td> 1868.000000</td>\n",
        "      <td> 941.000000</td>\n",
        "      <td> 852.000000</td>\n",
        "      <td> 1030.000000</td>\n",
        "      <td> 692.000000</td>\n",
        "    </tr>\n",
        "    <tr>\n",
        "      <th>mean</th>\n",
        "      <td>  100.184981</td>\n",
        "      <td>  95.687803</td>\n",
        "      <td> 103.138848</td>\n",
        "      <td>   94.082406</td>\n",
        "      <td>  94.428311</td>\n",
        "    </tr>\n",
        "    <tr>\n",
        "      <th>std</th>\n",
        "      <td>   29.590871</td>\n",
        "      <td>  27.731562</td>\n",
        "      <td>  35.638010</td>\n",
        "      <td>   27.742473</td>\n",
        "      <td>  30.936125</td>\n",
        "    </tr>\n",
        "    <tr>\n",
        "      <th>min</th>\n",
        "      <td>   14.735900</td>\n",
        "      <td>  15.121100</td>\n",
        "      <td>  16.763600</td>\n",
        "      <td>   13.334600</td>\n",
        "      <td>  15.403500</td>\n",
        "    </tr>\n",
        "    <tr>\n",
        "      <th>25%</th>\n",
        "      <td>   79.905025</td>\n",
        "      <td>  79.020600</td>\n",
        "      <td>  80.404450</td>\n",
        "      <td>   77.429900</td>\n",
        "      <td>  74.990275</td>\n",
        "    </tr>\n",
        "    <tr>\n",
        "      <th>50%</th>\n",
        "      <td>   97.450050</td>\n",
        "      <td>  95.757500</td>\n",
        "      <td>  97.897650</td>\n",
        "      <td>   93.159250</td>\n",
        "      <td>  90.974350</td>\n",
        "    </tr>\n",
        "    <tr>\n",
        "      <th>75%</th>\n",
        "      <td>  118.010425</td>\n",
        "      <td> 111.922900</td>\n",
        "      <td> 123.843950</td>\n",
        "      <td>  109.742050</td>\n",
        "      <td> 111.768650</td>\n",
        "    </tr>\n",
        "    <tr>\n",
        "      <th>max</th>\n",
        "      <td>  259.104800</td>\n",
        "      <td> 255.164300</td>\n",
        "      <td> 275.544400</td>\n",
        "      <td>  220.601900</td>\n",
        "      <td> 234.509900</td>\n",
        "    </tr>\n",
        "  </tbody>\n",
        "</table>\n",
        "</div>"
       ],
       "metadata": {},
       "output_type": "pyout",
       "prompt_number": 7,
       "text": [
        "                WT      pSuper        TRF1         TRF2      TRF1/2\n",
        "count  1868.000000  941.000000  852.000000  1030.000000  692.000000\n",
        "mean    100.184981   95.687803  103.138848    94.082406   94.428311\n",
        "std      29.590871   27.731562   35.638010    27.742473   30.936125\n",
        "min      14.735900   15.121100   16.763600    13.334600   15.403500\n",
        "25%      79.905025   79.020600   80.404450    77.429900   74.990275\n",
        "50%      97.450050   95.757500   97.897650    93.159250   90.974350\n",
        "75%     118.010425  111.922900  123.843950   109.742050  111.768650\n",
        "max     259.104800  255.164300  275.544400   220.601900  234.509900"
       ]
      }
     ],
     "prompt_number": 7
    },
    {
     "cell_type": "code",
     "collapsed": false,
     "input": [
      "SData.describe()"
     ],
     "language": "python",
     "metadata": {},
     "outputs": [
      {
       "html": [
        "<div style=\"max-height:1000px;max-width:1500px;overflow:auto;\">\n",
        "<table border=\"1\" class=\"dataframe\">\n",
        "  <thead>\n",
        "    <tr style=\"text-align: right;\">\n",
        "      <th></th>\n",
        "      <th>WT</th>\n",
        "      <th>pSuper</th>\n",
        "      <th>TRF1</th>\n",
        "      <th>TRF2</th>\n",
        "      <th>TRF1/2</th>\n",
        "    </tr>\n",
        "  </thead>\n",
        "  <tbody>\n",
        "    <tr>\n",
        "      <th>count</th>\n",
        "      <td> 1163.000000</td>\n",
        "      <td> 846.000000</td>\n",
        "      <td> 597.000000</td>\n",
        "      <td> 638.000000</td>\n",
        "      <td> 622.000000</td>\n",
        "    </tr>\n",
        "    <tr>\n",
        "      <th>mean</th>\n",
        "      <td>   76.292146</td>\n",
        "      <td>  81.509573</td>\n",
        "      <td>  89.728436</td>\n",
        "      <td>  74.202958</td>\n",
        "      <td>  89.667522</td>\n",
        "    </tr>\n",
        "    <tr>\n",
        "      <th>std</th>\n",
        "      <td>   20.379313</td>\n",
        "      <td>  26.568857</td>\n",
        "      <td>  30.927089</td>\n",
        "      <td>  23.761367</td>\n",
        "      <td>  30.154574</td>\n",
        "    </tr>\n",
        "    <tr>\n",
        "      <th>min</th>\n",
        "      <td>   13.250300</td>\n",
        "      <td>  13.226200</td>\n",
        "      <td>  15.553300</td>\n",
        "      <td>  16.589300</td>\n",
        "      <td>  15.616200</td>\n",
        "    </tr>\n",
        "    <tr>\n",
        "      <th>25%</th>\n",
        "      <td>   62.679600</td>\n",
        "      <td>  65.253150</td>\n",
        "      <td>  70.821800</td>\n",
        "      <td>  61.578775</td>\n",
        "      <td>  71.678875</td>\n",
        "    </tr>\n",
        "    <tr>\n",
        "      <th>50%</th>\n",
        "      <td>   75.091100</td>\n",
        "      <td>  79.454150</td>\n",
        "      <td>  86.397300</td>\n",
        "      <td>  75.404800</td>\n",
        "      <td>  85.969050</td>\n",
        "    </tr>\n",
        "    <tr>\n",
        "      <th>75%</th>\n",
        "      <td>   89.121150</td>\n",
        "      <td>  95.057750</td>\n",
        "      <td> 107.269000</td>\n",
        "      <td>  86.986925</td>\n",
        "      <td> 105.318700</td>\n",
        "    </tr>\n",
        "    <tr>\n",
        "      <th>max</th>\n",
        "      <td>  154.996000</td>\n",
        "      <td> 244.104200</td>\n",
        "      <td> 218.878700</td>\n",
        "      <td> 163.588400</td>\n",
        "      <td> 293.623700</td>\n",
        "    </tr>\n",
        "  </tbody>\n",
        "</table>\n",
        "</div>"
       ],
       "metadata": {},
       "output_type": "pyout",
       "prompt_number": 8,
       "text": [
        "                WT      pSuper        TRF1        TRF2      TRF1/2\n",
        "count  1163.000000  846.000000  597.000000  638.000000  622.000000\n",
        "mean     76.292146   81.509573   89.728436   74.202958   89.667522\n",
        "std      20.379313   26.568857   30.927089   23.761367   30.154574\n",
        "min      13.250300   13.226200   15.553300   16.589300   15.616200\n",
        "25%      62.679600   65.253150   70.821800   61.578775   71.678875\n",
        "50%      75.091100   79.454150   86.397300   75.404800   85.969050\n",
        "75%      89.121150   95.057750  107.269000   86.986925  105.318700\n",
        "max     154.996000  244.104200  218.878700  163.588400  293.623700"
       ]
      }
     ],
     "prompt_number": 8
    },
    {
     "cell_type": "heading",
     "level": 2,
     "metadata": {},
     "source": [
      "Prepare the results data structure"
     ]
    },
    {
     "cell_type": "code",
     "collapsed": false,
     "input": [
      "# Initialize the data structures for storing the results. This is a dictionary-based tree structure.\n",
      "\n",
      "# Filter pSuper out from the list of column titles.\n",
      "colTitlesL = list(filter(lambda name: name != 'pSuper', iter(LData.columns)))\n",
      "colTitlesS = list(filter(lambda name: name != 'pSuper', iter(SData.columns)))\n",
      "\n",
      "# This copies the column headings from the dataframes into the results dict, except for pSuper.\n",
      "results = {'LMeans' : {key:None for key in colTitlesL},\n",
      "           'LMedians' : {key:None for key in colTitlesL},\n",
      "           'LWilcoxon p-value' : {key:None for key in colTitlesL},\n",
      "           'SMeans' : {key:None for key in colTitlesS},\n",
      "           'SMedians' : {key:None for key in colTitlesS},\n",
      "           'SWilcoxon p-value' : {key:None for key in colTitlesS}}\n",
      "\n",
      "# The final nodes for the Mean and Median branches.\n",
      "bsStats = {'Bootstrap 95% p-value' : None,\n",
      "           'Bootstrap 99% p-value' : None,\n",
      "           'Bootstrap 95% CI' : None,\n",
      "           'Bootstrap 99% CI' : None}\n",
      "\n",
      "for key in results:\n",
      "    if key not in ['LWilcoxon p-value', 'SWilcoxon p-value']:\n",
      "        for dataset in results[key]:\n",
      "            results[key][dataset] = bsStats.copy() # Create multiple bsStats dicts in memory."
     ],
     "language": "python",
     "metadata": {},
     "outputs": [],
     "prompt_number": 9
    },
    {
     "cell_type": "heading",
     "level": 2,
     "metadata": {},
     "source": [
      "Visual comparison of wild type Hela L and Hela S"
     ]
    },
    {
     "cell_type": "code",
     "collapsed": false,
     "input": [
      "options = {'myBins' : np.arange(10, 200, 5), # bins from 10 nm to 200 nm in steps of 5 nm\n",
      "           'label1' : 'Hela L',\n",
      "           'label2' : 'Hela S',\n",
      "           'title' : 'Wild type',\n",
      "           'xlabel' : 'Radius of gyration, nm',\n",
      "           'ylabel' : 'Normalized frequency'}\n",
      "fig, ax = cmpHistograms(LData['WT'], SData['WT'], options)"
     ],
     "language": "python",
     "metadata": {},
     "outputs": [
      {
       "metadata": {},
       "output_type": "display_data",
       "png": "[encoded data removed]",
       "text": [
        "<matplotlib.figure.Figure at 0x7f3f370ef4e0>"
       ]
      }
     ],
     "prompt_number": 10
    },
    {
     "cell_type": "heading",
     "level": 2,
     "metadata": {},
     "source": [
      "Comparison of wild type to pSuper"
     ]
    },
    {
     "cell_type": "heading",
     "level": 3,
     "metadata": {},
     "source": [
      "Hela L"
     ]
    },
    {
     "cell_type": "code",
     "collapsed": false,
     "input": [
      "options = {'myBins' : np.arange(10, 200, 5), # 10 nm to 200 nm in steps of 5 nm\n",
      "           'label1' : 'pSuper',\n",
      "           'label2' : 'Wild type',\n",
      "           'title' : 'Hela L / pSuper compared to wild type',\n",
      "           'xlabel' : 'Radius of gyration, nm',\n",
      "           'ylabel' : 'Normalized frequency'}\n",
      "fig, ax = cmpHistograms(LData['pSuper'], LData['WT'], options)"
     ],
     "language": "python",
     "metadata": {},
     "outputs": [
      {
       "metadata": {},
       "output_type": "display_data",
       "png": "[encoded data removed]",
       "text": [
        "<matplotlib.figure.Figure at 0x7f3f2179f7b8>"
       ]
      }
     ],
     "prompt_number": 11
    },
    {
     "cell_type": "code",
     "collapsed": false,
     "input": [
      "# Wilcoxon rank-sum tests of significance for the difference of distributions\n",
      "_, results['LWilcoxon p-value']['WT'] = stats.ranksums(LData['pSuper'].dropna(), LData['WT'].dropna())"
     ],
     "language": "python",
     "metadata": {},
     "outputs": [],
     "prompt_number": 12
    },
    {
     "cell_type": "code",
     "collapsed": false,
     "input": [
      "# Bootstrap tests\n",
      "results['LMeans']['WT']['Bootstrap 95% CI'], results['LMeans']['WT']['Bootstrap 95% p-value'] = bootstrapDiff(LData['pSuper'].dropna(), LData['WT'].dropna(), alpha = 0.05, statistic = 'mean')\n",
      "results['LMeans']['WT']['Bootstrap 99% CI'], results['LMeans']['WT']['Bootstrap 99% p-value'] = bootstrapDiff(LData['pSuper'].dropna(), LData['WT'].dropna(), alpha = 0.01, statistic = 'mean')\n",
      "results['LMedians']['WT']['Bootstrap 95% CI'], results['LMedians']['WT']['Bootstrap 95% p-value'] = bootstrapDiff(LData['pSuper'].dropna(), LData['WT'].dropna(), alpha = 0.05, statistic = 'median')\n",
      "results['LMedians']['WT']['Bootstrap 99% CI'], results['LMedians']['WT']['Bootstrap 99% p-value'] = bootstrapDiff(LData['pSuper'].dropna(), LData['WT'].dropna(), alpha = 0.01, statistic = 'median')"
     ],
     "language": "python",
     "metadata": {},
     "outputs": [],
     "prompt_number": 14
    },
    {
     "cell_type": "heading",
     "level": 3,
     "metadata": {},
     "source": [
      "Hela S"
     ]
    },
    {
     "cell_type": "code",
     "collapsed": false,
     "input": [
      "options = {'myBins' : np.arange(10, 200, 5), # 10 nm to 200 nm in steps of 5 nm\n",
      "           'label1' : 'pSuper',\n",
      "           'label2' : 'Wild type',\n",
      "           'title' : 'Hela S / pSuper compared to wild type',\n",
      "           'xlabel' : 'Radius of gyration, nm',\n",
      "           'ylabel' : 'Normalized frequency'}\n",
      "fig, ax = cmpHistograms(SData['pSuper'], SData['WT'], options)"
     ],
     "language": "python",
     "metadata": {},
     "outputs": [
      {
       "metadata": {},
       "output_type": "display_data",
       "png": "[encoded data removed]",
       "text": [
        "<matplotlib.figure.Figure at 0x7f3f215371d0>"
       ]
      }
     ],
     "prompt_number": 15
    },
    {
     "cell_type": "code",
     "collapsed": false,
     "input": [
      "# Wilcoxon rank-sum tests of significance for the difference of distributions\n",
      "_, results['SWilcoxon p-value']['WT'] = stats.ranksums(SData['pSuper'].dropna(), SData['WT'].dropna())"
     ],
     "language": "python",
     "metadata": {},
     "outputs": [],
     "prompt_number": 16
    },
    {
     "cell_type": "code",
     "collapsed": false,
     "input": [
      "# Bootstrap tests\n",
      "results['SMeans']['WT']['Bootstrap 95% CI'], results['SMeans']['WT']['Bootstrap 95% p-value'] = bootstrapDiff(SData['pSuper'].dropna(), SData['WT'].dropna(), alpha = 0.05, statistic = 'mean')\n",
      "results['SMeans']['WT']['Bootstrap 99% CI'], results['SMeans']['WT']['Bootstrap 99% p-value'] = bootstrapDiff(SData['pSuper'].dropna(), SData['WT'].dropna(), alpha = 0.01, statistic = 'mean')\n",
      "results['SMedians']['WT']['Bootstrap 95% CI'], results['SMedians']['WT']['Bootstrap 95% p-value'] = bootstrapDiff(SData['pSuper'].dropna(), SData['WT'].dropna(), alpha = 0.05, statistic = 'median')\n",
      "results['SMedians']['WT']['Bootstrap 99% CI'], results['SMedians']['WT']['Bootstrap 99% p-value'] = bootstrapDiff(SData['pSuper'].dropna(), SData['WT'].dropna(), alpha = 0.01, statistic = 'median')"
     ],
     "language": "python",
     "metadata": {},
     "outputs": [],
     "prompt_number": 17
    },
    {
     "cell_type": "heading",
     "level": 2,
     "metadata": {},
     "source": [
      "TRF1 knockdowns"
     ]
    },
    {
     "cell_type": "heading",
     "level": 3,
     "metadata": {},
     "source": [
      "Hela L"
     ]
    },
    {
     "cell_type": "code",
     "collapsed": false,
     "input": [
      "options = {'myBins' : np.arange(10, 200, 5), # 10 nm to 200 nm in steps of 5 nm\n",
      "           'label1' : 'pSuper',\n",
      "           'label2' : 'TRF1',\n",
      "           'title' : 'Hela L / TRF1 knockdown',\n",
      "           'xlabel' : 'Radius of gyration, nm',\n",
      "           'ylabel' : 'Normalized frequency'}\n",
      "fig, ax = cmpHistograms(LData['pSuper'], LData['TRF1'], options)"
     ],
     "language": "python",
     "metadata": {},
     "outputs": [
      {
       "metadata": {},
       "output_type": "display_data",
       "png": "[encoded data removed]",
       "text": [
        "<matplotlib.figure.Figure at 0x7f3f21545320>"
       ]
      }
     ],
     "prompt_number": 18
    },
    {
     "cell_type": "code",
     "collapsed": false,
     "input": [
      "# Wilcoxon rank-sum tests of significance for the difference of distributions\n",
      "_, results['LWilcoxon p-value']['TRF1'] = stats.ranksums(LData['pSuper'].dropna(), LData['TRF1'].dropna())"
     ],
     "language": "python",
     "metadata": {},
     "outputs": [],
     "prompt_number": 19
    },
    {
     "cell_type": "code",
     "collapsed": false,
     "input": [
      "# Bootstrap tests\n",
      "results['LMeans']['TRF1']['Bootstrap 95% CI'], results['LMeans']['TRF1']['Bootstrap 95% p-value'] = bootstrapDiff(LData['pSuper'].dropna(), LData['TRF1'].dropna(), alpha = 0.05, statistic = 'mean')\n",
      "results['LMeans']['TRF1']['Bootstrap 99% CI'], results['LMeans']['TRF1']['Bootstrap 99% p-value'] = bootstrapDiff(LData['pSuper'].dropna(), LData['TRF1'].dropna(), alpha = 0.01, statistic = 'mean')\n",
      "results['LMedians']['TRF1']['Bootstrap 95% CI'], results['LMedians']['TRF1']['Bootstrap 95% p-value'] = bootstrapDiff(LData['pSuper'].dropna(), LData['TRF1'].dropna(), alpha = 0.05, statistic = 'median')\n",
      "results['LMedians']['TRF1']['Bootstrap 99% CI'], results['LMedians']['TRF1']['Bootstrap 99% p-value'] = bootstrapDiff(LData['pSuper'].dropna(), LData['TRF1'].dropna(), alpha = 0.01, statistic = 'median')"
     ],
     "language": "python",
     "metadata": {},
     "outputs": [],
     "prompt_number": 20
    },
    {
     "cell_type": "heading",
     "level": 3,
     "metadata": {},
     "source": [
      "Hela S"
     ]
    },
    {
     "cell_type": "code",
     "collapsed": false,
     "input": [
      "options = {'myBins' : np.arange(10, 200, 5), # 10 nm to 200 nm in steps of 5 nm\n",
      "           'label1' : 'pSuper',\n",
      "           'label2' : 'TRF1',\n",
      "           'title' : 'Hela S / TRF1 knockdown',\n",
      "           'xlabel' : 'Radius of gyration, nm',\n",
      "           'ylabel' : 'Normalized frequency'}\n",
      "fig, ax = cmpHistograms(SData['pSuper'], SData['TRF1'], options)"
     ],
     "language": "python",
     "metadata": {},
     "outputs": [
      {
       "metadata": {},
       "output_type": "display_data",
       "png": "[encoded data removed]",
       "text": [
        "<matplotlib.figure.Figure at 0x7f3f214b8da0>"
       ]
      }
     ],
     "prompt_number": 21
    },
    {
     "cell_type": "code",
     "collapsed": false,
     "input": [
      "# Wilcoxon rank-sum tests of significance for the difference of distributions\n",
      "_, results['SWilcoxon p-value']['TRF1'] = stats.ranksums(SData['pSuper'].dropna(), SData['TRF1'].dropna())"
     ],
     "language": "python",
     "metadata": {},
     "outputs": [],
     "prompt_number": 22
    },
    {
     "cell_type": "code",
     "collapsed": false,
     "input": [
      "# Bootstrap tests\n",
      "results['SMeans']['TRF1']['Bootstrap 95% CI'], results['SMeans']['TRF1']['Bootstrap 95% p-value'] = bootstrapDiff(SData['pSuper'].dropna(), SData['TRF1'].dropna(), alpha = 0.05, statistic = 'mean')\n",
      "results['SMeans']['TRF1']['Bootstrap 99% CI'], results['SMeans']['TRF1']['Bootstrap 99% p-value'] = bootstrapDiff(SData['pSuper'].dropna(), SData['TRF1'].dropna(), alpha = 0.01, statistic = 'mean')\n",
      "results['SMedians']['TRF1']['Bootstrap 95% CI'], results['SMedians']['TRF1']['Bootstrap 95% p-value'] = bootstrapDiff(SData['pSuper'].dropna(), SData['TRF1'].dropna(), alpha = 0.05, statistic = 'median')\n",
      "results['SMedians']['TRF1']['Bootstrap 99% CI'], results['SMedians']['TRF1']['Bootstrap 99% p-value'] = bootstrapDiff(SData['pSuper'].dropna(), SData['TRF1'].dropna(), alpha = 0.01, statistic = 'median')"
     ],
     "language": "python",
     "metadata": {},
     "outputs": [],
     "prompt_number": 23
    },
    {
     "cell_type": "heading",
     "level": 2,
     "metadata": {},
     "source": [
      "TRF2 knockdowns"
     ]
    },
    {
     "cell_type": "heading",
     "level": 3,
     "metadata": {},
     "source": [
      "Hela L"
     ]
    },
    {
     "cell_type": "code",
     "collapsed": false,
     "input": [
      "options = {'myBins' : np.arange(10, 200, 5), # 10 nm to 200 nm in steps of 5 nm\n",
      "           'label1' : 'pSuper',\n",
      "           'label2' : 'TRF2',\n",
      "           'title' : 'Hela L / TRF2 knockdown',\n",
      "           'xlabel' : 'Radius of gyration, nm',\n",
      "           'ylabel' : 'Normalized frequency'}\n",
      "fig, ax = cmpHistograms(LData['pSuper'], LData['TRF2'], options)"
     ],
     "language": "python",
     "metadata": {},
     "outputs": [
      {
       "metadata": {},
       "output_type": "display_data",
       "png": "[encoded data removed]",
       "text": [
        "<matplotlib.figure.Figure at 0x7f3f214a9b38>"
       ]
      }
     ],
     "prompt_number": 24
    },
    {
     "cell_type": "code",
     "collapsed": false,
     "input": [
      "# Wilcoxon rank-sum tests of significance for the difference of distributions\n",
      "_, results['LWilcoxon p-value']['TRF2'] = stats.ranksums(LData['pSuper'].dropna(), LData['TRF2'].dropna())"
     ],
     "language": "python",
     "metadata": {},
     "outputs": [],
     "prompt_number": 25
    },
    {
     "cell_type": "code",
     "collapsed": false,
     "input": [
      "# Bootstrap tests\n",
      "results['LMeans']['TRF2']['Bootstrap 95% CI'], results['LMeans']['TRF2']['Bootstrap 95% p-value'] = bootstrapDiff(LData['pSuper'].dropna(), LData['TRF2'].dropna(), alpha = 0.05, statistic = 'mean')\n",
      "results['LMeans']['TRF2']['Bootstrap 99% CI'], results['LMeans']['TRF2']['Bootstrap 99% p-value'] = bootstrapDiff(LData['pSuper'].dropna(), LData['TRF2'].dropna(), alpha = 0.01, statistic = 'mean')\n",
      "results['LMedians']['TRF2']['Bootstrap 95% CI'], results['LMedians']['TRF2']['Bootstrap 95% p-value'] = bootstrapDiff(LData['pSuper'].dropna(), LData['TRF2'].dropna(), alpha = 0.05, statistic = 'median')\n",
      "results['LMedians']['TRF2']['Bootstrap 99% CI'], results['LMedians']['TRF2']['Bootstrap 99% p-value'] = bootstrapDiff(LData['pSuper'].dropna(), LData['TRF2'].dropna(), alpha = 0.01, statistic = 'median')"
     ],
     "language": "python",
     "metadata": {},
     "outputs": [],
     "prompt_number": 26
    },
    {
     "cell_type": "heading",
     "level": 3,
     "metadata": {},
     "source": [
      "Hela S"
     ]
    },
    {
     "cell_type": "code",
     "collapsed": false,
     "input": [
      "options = {'myBins' : np.arange(10, 200, 5), # 10 nm to 200 nm in steps of 5 nm\n",
      "           'label1' : 'pSuper',\n",
      "           'label2' : 'TRF2',\n",
      "           'title' : 'Hela S / TRF2 knockdown',\n",
      "           'xlabel' : 'Radius of gyration, nm',\n",
      "           'ylabel' : 'Normalized frequency'}\n",
      "fig, ax = cmpHistograms(SData['pSuper'], SData['TRF2'], options)"
     ],
     "language": "python",
     "metadata": {},
     "outputs": [
      {
       "metadata": {},
       "output_type": "display_data",
       "png": "[encoded data removed]",
       "text": [
        "<matplotlib.figure.Figure at 0x7f3f2153e390>"
       ]
      }
     ],
     "prompt_number": 27
    },
    {
     "cell_type": "code",
     "collapsed": false,
     "input": [
      "# Wilcoxon rank-sum tests of significance for the difference of distributions\n",
      "_, results['SWilcoxon p-value']['TRF2'] = stats.ranksums(SData['pSuper'].dropna(), SData['TRF2'].dropna())"
     ],
     "language": "python",
     "metadata": {},
     "outputs": [],
     "prompt_number": 28
    },
    {
     "cell_type": "code",
     "collapsed": false,
     "input": [
      "# Bootstrap tests\n",
      "results['SMeans']['TRF2']['Bootstrap 95% CI'], results['SMeans']['TRF2']['Bootstrap 95% p-value'] = bootstrapDiff(SData['pSuper'].dropna(), SData['TRF2'].dropna(), alpha = 0.05, statistic = 'mean')\n",
      "results['SMeans']['TRF2']['Bootstrap 99% CI'], results['SMeans']['TRF2']['Bootstrap 99% p-value'] = bootstrapDiff(SData['pSuper'].dropna(), SData['TRF2'].dropna(), alpha = 0.01, statistic = 'mean')\n",
      "results['SMedians']['TRF2']['Bootstrap 95% CI'], results['SMedians']['TRF2']['Bootstrap 95% p-value'] = bootstrapDiff(SData['pSuper'].dropna(), SData['TRF2'].dropna(), alpha = 0.05, statistic = 'median')\n",
      "results['SMedians']['TRF2']['Bootstrap 99% CI'], results['SMedians']['TRF2']['Bootstrap 99% p-value'] = bootstrapDiff(SData['pSuper'].dropna(), SData['TRF2'].dropna(), alpha = 0.01, statistic = 'median')"
     ],
     "language": "python",
     "metadata": {},
     "outputs": [],
     "prompt_number": 29
    },
    {
     "cell_type": "heading",
     "level": 2,
     "metadata": {},
     "source": [
      "TRF1/2 double knockdowns"
     ]
    },
    {
     "cell_type": "heading",
     "level": 3,
     "metadata": {},
     "source": [
      "Hela L"
     ]
    },
    {
     "cell_type": "code",
     "collapsed": false,
     "input": [
      "options = {'myBins' : np.arange(10, 200, 5), # 10 nm to 200 nm in steps of 5 nm\n",
      "           'label1' : 'pSuper',\n",
      "           'label2' : 'TRF1/2',\n",
      "           'title' : 'Hela L / TRF1/2 double knockdown',\n",
      "           'xlabel' : 'Radius of gyration, nm',\n",
      "           'ylabel' : 'Normalized frequency'}\n",
      "fig, ax = cmpHistograms(LData['pSuper'], LData['TRF1/2'], options)"
     ],
     "language": "python",
     "metadata": {},
     "outputs": [
      {
       "metadata": {},
       "output_type": "display_data",
       "png": "[encoded data removed]",
       "text": [
        "<matplotlib.figure.Figure at 0x7f3f21522fd0>"
       ]
      }
     ],
     "prompt_number": 30
    },
    {
     "cell_type": "code",
     "collapsed": false,
     "input": [
      "# Wilcoxon rank-sum tests of significance for the difference of distributions\n",
      "_, results['LWilcoxon p-value']['TRF1/2'] = stats.ranksums(LData['pSuper'].dropna(), LData['TRF1/2'].dropna())"
     ],
     "language": "python",
     "metadata": {},
     "outputs": [],
     "prompt_number": 31
    },
    {
     "cell_type": "code",
     "collapsed": false,
     "input": [
      "# Bootstrap tests\n",
      "results['LMeans']['TRF1/2']['Bootstrap 95% CI'], results['LMeans']['TRF1/2']['Bootstrap 95% p-value'] = bootstrapDiff(LData['pSuper'].dropna(), LData['TRF1/2'].dropna(), alpha = 0.05, statistic = 'mean')\n",
      "results['LMeans']['TRF1/2']['Bootstrap 99% CI'], results['LMeans']['TRF1/2']['Bootstrap 99% p-value'] = bootstrapDiff(LData['pSuper'].dropna(), LData['TRF1/2'].dropna(), alpha = 0.01, statistic = 'mean')\n",
      "results['LMedians']['TRF1/2']['Bootstrap 95% CI'], results['LMedians']['TRF1/2']['Bootstrap 95% p-value'] = bootstrapDiff(LData['pSuper'].dropna(), LData['TRF1/2'].dropna(), alpha = 0.05, statistic = 'median')\n",
      "results['LMedians']['TRF1/2']['Bootstrap 99% CI'], results['LMedians']['TRF1/2']['Bootstrap 99% p-value'] = bootstrapDiff(LData['pSuper'].dropna(), LData['TRF1/2'].dropna(), alpha = 0.01, statistic = 'median')"
     ],
     "language": "python",
     "metadata": {},
     "outputs": [],
     "prompt_number": 32
    },
    {
     "cell_type": "heading",
     "level": 3,
     "metadata": {},
     "source": [
      "Hela S"
     ]
    },
    {
     "cell_type": "code",
     "collapsed": false,
     "input": [
      "options = {'myBins' : np.arange(10, 200, 5), # 10 nm to 200 nm in steps of 5 nm\n",
      "           'label1' : 'pSuper',\n",
      "           'label2' : 'TRF1/2',\n",
      "           'title' : 'Hela S / TRF1/2 double knockdown',\n",
      "           'xlabel' : 'Radius of gyration, nm',\n",
      "           'ylabel' : 'Normalized frequency'}\n",
      "fig, ax = cmpHistograms(SData['pSuper'].dropna(), SData['TRF1/2'].dropna(), options)"
     ],
     "language": "python",
     "metadata": {},
     "outputs": [
      {
       "metadata": {},
       "output_type": "display_data",
       "png": "[encoded data removed]",
       "text": [
        "<matplotlib.figure.Figure at 0x7f3f21767198>"
       ]
      }
     ],
     "prompt_number": 48
    },
    {
     "cell_type": "code",
     "collapsed": false,
     "input": [
      "# Wilcoxon rank-sum tests of significance for the difference of distributions\n",
      "_, results['SWilcoxon p-value']['TRF1/2'] = stats.ranksums(SData['pSuper'].dropna(), SData['TRF1/2'].dropna())"
     ],
     "language": "python",
     "metadata": {},
     "outputs": [],
     "prompt_number": 34
    },
    {
     "cell_type": "code",
     "collapsed": false,
     "input": [
      "# Bootstrap tests\n",
      "results['SMeans']['TRF1/2']['Bootstrap 95% CI'], results['SMeans']['TRF1/2']['Bootstrap 95% p-value'] = bootstrapDiff(SData['pSuper'].dropna(), SData['TRF1/2'].dropna(), alpha = 0.05, statistic = 'mean')\n",
      "results['SMeans']['TRF1/2']['Bootstrap 99% CI'], results['SMeans']['TRF1/2']['Bootstrap 99% p-value'] = bootstrapDiff(SData['pSuper'].dropna(), SData['TRF1/2'].dropna(), alpha = 0.01, statistic = 'mean')\n",
      "results['SMedians']['TRF1/2']['Bootstrap 95% CI'], results['SMedians']['TRF1/2']['Bootstrap 95% p-value'] = bootstrapDiff(SData['pSuper'].dropna(), SData['TRF1/2'].dropna(), alpha = 0.05, statistic = 'median')\n",
      "results['SMedians']['TRF1/2']['Bootstrap 99% CI'], results['SMedians']['TRF1/2']['Bootstrap 99% p-value'] = bootstrapDiff(SData['pSuper'].dropna(), SData['TRF1/2'].dropna(), alpha = 0.01, statistic = 'median')"
     ],
     "language": "python",
     "metadata": {},
     "outputs": [],
     "prompt_number": 35
    },
    {
     "cell_type": "code",
     "collapsed": false,
     "input": [
      "# Save the results in the same folder as this notebook.\n",
      "import pickle\n",
      "pickle.dump(results, open('TRF12KD_Results.dat', 'wb'))"
     ],
     "language": "python",
     "metadata": {},
     "outputs": [],
     "prompt_number": 36
    },
    {
     "cell_type": "heading",
     "level": 2,
     "metadata": {},
     "source": [
      "Format the results for display"
     ]
    },
    {
     "cell_type": "code",
     "collapsed": false,
     "input": [
      "wilcoxonResults = (results['LWilcoxon p-value']['WT'], results['LWilcoxon p-value']['TRF1'],\n",
      "                  results['LWilcoxon p-value']['TRF2'], results['LWilcoxon p-value']['TRF1/2'],\n",
      "                  results['SWilcoxon p-value']['WT'], results['SWilcoxon p-value']['TRF1'],\n",
      "                  results['SWilcoxon p-value']['TRF2'], results['SWilcoxon p-value']['TRF1/2'])\n",
      "\n",
      "LMeansResults = (results['LMeans']['WT']['Bootstrap 95% CI'][0],        results['LMeans']['WT']['Bootstrap 95% CI'][1],       results['LMeans']['TRF1']['Bootstrap 95% CI'][0],   results['LMeans']['TRF1']['Bootstrap 95% CI'][1],\n",
      "                 results['LMeans']['TRF2']['Bootstrap 95% CI'][0],      results['LMeans']['TRF2']['Bootstrap 95% CI'][1],     results['LMeans']['TRF1/2']['Bootstrap 95% CI'][0], results['LMeans']['TRF1/2']['Bootstrap 95% CI'][1],\n",
      "                 results['LMeans']['WT']['Bootstrap 95% p-value'],      results['LMeans']['TRF1']['Bootstrap 95% p-value'],\n",
      "                 results['LMeans']['TRF2']['Bootstrap 95% p-value'],    results['LMeans']['TRF1/2']['Bootstrap 95% p-value'],\n",
      "                 results['LMeans']['WT']['Bootstrap 99% CI'][0],        results['LMeans']['WT']['Bootstrap 99% CI'][1],       results['LMeans']['TRF1']['Bootstrap 99% CI'][0],   results['LMeans']['TRF1']['Bootstrap 99% CI'][1],\n",
      "                 results['LMeans']['TRF2']['Bootstrap 99% CI'][0],      results['LMeans']['TRF2']['Bootstrap 99% CI'][1],     results['LMeans']['TRF1/2']['Bootstrap 99% CI'][0], results['LMeans']['TRF1/2']['Bootstrap 99% CI'][1],\n",
      "                 results['LMeans']['WT']['Bootstrap 99% p-value'],      results['LMeans']['TRF1']['Bootstrap 99% p-value'],\n",
      "                 results['LMeans']['TRF2']['Bootstrap 99% p-value'],    results['LMeans']['TRF1/2']['Bootstrap 99% p-value'])\n",
      "LMediansResults = (results['LMedians']['WT']['Bootstrap 95% CI'][0],        results['LMedians']['WT']['Bootstrap 95% CI'][1],       results['LMedians']['TRF1']['Bootstrap 95% CI'][0],   results['LMedians']['TRF1']['Bootstrap 95% CI'][1],\n",
      "                   results['LMedians']['TRF2']['Bootstrap 95% CI'][0],      results['LMedians']['TRF2']['Bootstrap 95% CI'][1],     results['LMedians']['TRF1/2']['Bootstrap 95% CI'][0], results['LMedians']['TRF1/2']['Bootstrap 95% CI'][1],\n",
      "                   results['LMedians']['WT']['Bootstrap 95% p-value'],      results['LMedians']['TRF1']['Bootstrap 95% p-value'],\n",
      "                   results['LMedians']['TRF2']['Bootstrap 95% p-value'],    results['LMedians']['TRF1/2']['Bootstrap 95% p-value'],\n",
      "                   results['LMedians']['WT']['Bootstrap 99% CI'][0],        results['LMedians']['WT']['Bootstrap 99% CI'][1],       results['LMedians']['TRF1']['Bootstrap 99% CI'][0],   results['LMedians']['TRF1']['Bootstrap 99% CI'][1],\n",
      "                   results['LMedians']['TRF2']['Bootstrap 99% CI'][0],      results['LMedians']['TRF2']['Bootstrap 99% CI'][1],     results['LMedians']['TRF1/2']['Bootstrap 99% CI'][0], results['LMedians']['TRF1/2']['Bootstrap 99% CI'][1],\n",
      "                   results['LMedians']['WT']['Bootstrap 99% p-value'],      results['LMedians']['TRF1']['Bootstrap 99% p-value'],\n",
      "                   results['LMedians']['TRF2']['Bootstrap 99% p-value'],    results['LMedians']['TRF1/2']['Bootstrap 99% p-value'])\n",
      "SMeansResults = (results['SMeans']['WT']['Bootstrap 95% CI'][0],        results['SMeans']['WT']['Bootstrap 95% CI'][1],       results['SMeans']['TRF1']['Bootstrap 95% CI'][0],   results['SMeans']['TRF1']['Bootstrap 95% CI'][1],\n",
      "                 results['SMeans']['TRF2']['Bootstrap 95% CI'][0],      results['SMeans']['TRF2']['Bootstrap 95% CI'][1],     results['SMeans']['TRF1/2']['Bootstrap 95% CI'][0], results['SMeans']['TRF1/2']['Bootstrap 95% CI'][1],\n",
      "                 results['SMeans']['WT']['Bootstrap 95% p-value'],      results['SMeans']['TRF1']['Bootstrap 95% p-value'],\n",
      "                 results['SMeans']['TRF2']['Bootstrap 95% p-value'],    results['SMeans']['TRF1/2']['Bootstrap 95% p-value'],\n",
      "                 results['SMeans']['WT']['Bootstrap 99% CI'][0],        results['SMeans']['WT']['Bootstrap 99% CI'][1],       results['SMeans']['TRF1']['Bootstrap 99% CI'][0],   results['SMeans']['TRF1']['Bootstrap 99% CI'][1],\n",
      "                 results['SMeans']['TRF2']['Bootstrap 99% CI'][0],      results['SMeans']['TRF2']['Bootstrap 99% CI'][1],     results['SMeans']['TRF1/2']['Bootstrap 99% CI'][0], results['SMeans']['TRF1/2']['Bootstrap 99% CI'][1],\n",
      "                 results['SMeans']['WT']['Bootstrap 99% p-value'],      results['SMeans']['TRF1']['Bootstrap 99% p-value'],\n",
      "                 results['SMeans']['TRF2']['Bootstrap 99% p-value'],    results['SMeans']['TRF1/2']['Bootstrap 99% p-value'])\n",
      "SMediansResults = (results['SMedians']['WT']['Bootstrap 95% CI'][0],        results['SMedians']['WT']['Bootstrap 95% CI'][1],       results['SMedians']['TRF1']['Bootstrap 95% CI'][0],   results['SMedians']['TRF1']['Bootstrap 95% CI'][1],\n",
      "                   results['SMedians']['TRF2']['Bootstrap 95% CI'][0],      results['SMedians']['TRF2']['Bootstrap 95% CI'][1],     results['SMedians']['TRF1/2']['Bootstrap 95% CI'][0], results['SMedians']['TRF1/2']['Bootstrap 95% CI'][1],\n",
      "                   results['SMedians']['WT']['Bootstrap 95% p-value'],      results['SMedians']['TRF1']['Bootstrap 95% p-value'],\n",
      "                   results['SMedians']['TRF2']['Bootstrap 95% p-value'],    results['SMedians']['TRF1/2']['Bootstrap 95% p-value'],\n",
      "                   results['SMedians']['WT']['Bootstrap 99% CI'][0],        results['SMedians']['WT']['Bootstrap 99% CI'][1],       results['SMedians']['TRF1']['Bootstrap 99% CI'][0],   results['SMedians']['TRF1']['Bootstrap 99% CI'][1],\n",
      "                   results['SMedians']['TRF2']['Bootstrap 99% CI'][0],      results['SMedians']['TRF2']['Bootstrap 99% CI'][1],     results['SMedians']['TRF1/2']['Bootstrap 99% CI'][0], results['SMedians']['TRF1/2']['Bootstrap 99% CI'][1],\n",
      "                   results['SMedians']['WT']['Bootstrap 99% p-value'],      results['SMedians']['TRF1']['Bootstrap 99% p-value'],\n",
      "                   results['SMedians']['TRF2']['Bootstrap 99% p-value'],    results['SMedians']['TRF1/2']['Bootstrap 99% p-value'])\n"
     ],
     "language": "python",
     "metadata": {},
     "outputs": [],
     "prompt_number": 37
    },
    {
     "cell_type": "heading",
     "level": 2,
     "metadata": {},
     "source": [
      "Results"
     ]
    },
    {
     "cell_type": "heading",
     "level": 3,
     "metadata": {},
     "source": [
      "Wilcoxon rank-sum test for significantly different distributions"
     ]
    },
    {
     "cell_type": "code",
     "collapsed": false,
     "input": [
      "from IPython.display import HTML"
     ],
     "language": "python",
     "metadata": {},
     "outputs": [],
     "prompt_number": 38
    },
    {
     "cell_type": "code",
     "collapsed": false,
     "input": [
      "dispWilcoxonTable = HTML(wilcoxonTable % wilcoxonResults); dispWilcoxonTable"
     ],
     "language": "python",
     "metadata": {},
     "outputs": [
      {
       "html": [
        "<h1>Wilcoxon rank-sum test p-values</h1>\n",
        "<table>\n",
        "<tr>\n",
        "  <th>Cell type</th>\n",
        "  <th>Wild type</th>\n",
        "  <th>TRF1</th>\n",
        "  <th>TRF2</th>\n",
        "  <th>TRF1/2</th>\n",
        "</tr>\n",
        "<tr>\n",
        "  <td><b>Hela L</b></td>\n",
        "  <td><div align = \"right\">0.00941</div></td>\n",
        "  <td><div align = \"right\">0.00104</div></td>\n",
        "  <td><div align = \"right\">0.07733</div></td>\n",
        "  <td><div align = \"right\">0.02636</div></td>\n",
        "</tr>\n",
        "<tr>\n",
        "  <td><b>Hela S</b></td>\n",
        "  <td><div align = \"right\">0.00001</div></td>\n",
        "  <td><div align = \"right\">0.00000</div></td>\n",
        "  <td><div align = \"right\">0.00000</div></td>\n",
        "  <td><div align = \"right\">0.00000</div></td>\n",
        "</tr>\n",
        "</table>"
       ],
       "metadata": {},
       "output_type": "pyout",
       "prompt_number": 39,
       "text": [
        "<IPython.core.display.HTML at 0x7f3f216d1978>"
       ]
      }
     ],
     "prompt_number": 39
    },
    {
     "cell_type": "heading",
     "level": 3,
     "metadata": {},
     "source": [
      "Bootstrap Results"
     ]
    },
    {
     "cell_type": "code",
     "collapsed": false,
     "input": [
      "LMeansTable = \"<h1>Hela L / Difference of Means</h1>\" + formattedTable % LMeansResults\n",
      "dispLMeansTable = HTML(LMeansTable); dispLMeansTable"
     ],
     "language": "python",
     "metadata": {},
     "outputs": [
      {
       "html": [
        "<h1>Hela L / Difference of Means</h1><table>\n",
        "<tr>\n",
        "  <th>--</th>\n",
        "  <th>Wild type</th>\n",
        "  <th>TRF1</th>\n",
        "  <th>TRF2</th>\n",
        "  <th>TRF1/2</th>\n",
        "</tr>\n",
        "<tr>\n",
        "  <td><b>95&#37; confidence interval</b></td>\n",
        "  <td><div align = \"right\">(-6.71913, -2.26213)</div></td>\n",
        "  <td><div align = \"right\">(-10.43665, -4.48190)</div></td>\n",
        "  <td><div align = \"right\">(-0.84901, 4.07419)</div></td>\n",
        "  <td><div align = \"right\">(-1.64856, 4.16008)</div></td>\n",
        "</tr>\n",
        "<tr>\n",
        "  <td><b>95&#37; p-value</b></td>\n",
        "  <td><div align = \"right\">0.00004</div></td>\n",
        "  <td><div align = \"right\">0.00001</div></td>\n",
        "  <td><div align = \"right\">0.09999</div></td>\n",
        "  <td><div align = \"right\">0.19665</div></td>\n",
        "</tr>\n",
        "<tr>\n",
        "  <td><b>99&#37; confidence interval</b></td>\n",
        "  <td><div align = \"right\">(-7.41386, -1.53720)</div></td>\n",
        "  <td><div align = \"right\">(-11.38538, -3.57060)</div></td>\n",
        "  <td><div align = \"right\">(-1.62714, 4.84345)</div></td>\n",
        "  <td><div align = \"right\">(-2.57921, 5.06942)</div></td>\n",
        "</tr>\n",
        "<tr>\n",
        "  <td><b>99&#37; p-value</b></td>\n",
        "  <td><div align = \"right\">0.00003</div></td>\n",
        "  <td><div align = \"right\">0.00000</div></td>\n",
        "  <td><div align = \"right\">0.09912</div></td>\n",
        "  <td><div align = \"right\">0.19930</div></td>\n",
        "</tr>\n",
        "</table>"
       ],
       "metadata": {},
       "output_type": "pyout",
       "prompt_number": 40,
       "text": [
        "<IPython.core.display.HTML at 0x7f3f21767a20>"
       ]
      }
     ],
     "prompt_number": 40
    },
    {
     "cell_type": "code",
     "collapsed": false,
     "input": [
      "LMediansTable = \"<h1>Hela L / Difference of Medians</h1>\" + formattedTable % LMediansResults\n",
      "dispLMediansTable = HTML(LMediansTable); dispLMediansTable"
     ],
     "language": "python",
     "metadata": {},
     "outputs": [
      {
       "html": [
        "<h1>Hela L / Difference of Medians</h1><table>\n",
        "<tr>\n",
        "  <th>--</th>\n",
        "  <th>Wild type</th>\n",
        "  <th>TRF1</th>\n",
        "  <th>TRF2</th>\n",
        "  <th>TRF1/2</th>\n",
        "</tr>\n",
        "<tr>\n",
        "  <td><b>95&#37; confidence interval</b></td>\n",
        "  <td><div align = \"right\">(-4.06690, 0.71172)</div></td>\n",
        "  <td><div align = \"right\">(-5.14110, 0.82055)</div></td>\n",
        "  <td><div align = \"right\">(-0.67925, 5.32960)</div></td>\n",
        "  <td><div align = \"right\">(1.45560, 7.67090)</div></td>\n",
        "</tr>\n",
        "<tr>\n",
        "  <td><b>95&#37; p-value</b></td>\n",
        "  <td><div align = \"right\">0.08896</div></td>\n",
        "  <td><div align = \"right\">0.07756</div></td>\n",
        "  <td><div align = \"right\">0.03338</div></td>\n",
        "  <td><div align = \"right\">0.00112</div></td>\n",
        "</tr>\n",
        "<tr>\n",
        "  <td><b>99&#37; confidence interval</b></td>\n",
        "  <td><div align = \"right\">(-4.83691, 1.56096)</div></td>\n",
        "  <td><div align = \"right\">(-6.18190, 1.75071)</div></td>\n",
        "  <td><div align = \"right\">(-1.59235, 6.19300)</div></td>\n",
        "  <td><div align = \"right\">(0.52020, 8.62460)</div></td>\n",
        "</tr>\n",
        "<tr>\n",
        "  <td><b>99&#37; p-value</b></td>\n",
        "  <td><div align = \"right\">0.08920</div></td>\n",
        "  <td><div align = \"right\">0.07732</div></td>\n",
        "  <td><div align = \"right\">0.03435</div></td>\n",
        "  <td><div align = \"right\">0.00095</div></td>\n",
        "</tr>\n",
        "</table>"
       ],
       "metadata": {},
       "output_type": "pyout",
       "prompt_number": 41,
       "text": [
        "<IPython.core.display.HTML at 0x7f3f21767550>"
       ]
      }
     ],
     "prompt_number": 41
    },
    {
     "cell_type": "code",
     "collapsed": false,
     "input": [
      "SMeansTable = \"<h1>Hela S / Difference of Means</h1>\" + formattedTable % SMeansResults\n",
      "dispSMeansTable = HTML(SMeansTable); dispSMeansTable"
     ],
     "language": "python",
     "metadata": {},
     "outputs": [
      {
       "html": [
        "<h1>Hela S / Difference of Means</h1><table>\n",
        "<tr>\n",
        "  <th>--</th>\n",
        "  <th>Wild type</th>\n",
        "  <th>TRF1</th>\n",
        "  <th>TRF2</th>\n",
        "  <th>TRF1/2</th>\n",
        "</tr>\n",
        "<tr>\n",
        "  <td><b>95&#37; confidence interval</b></td>\n",
        "  <td><div align = \"right\">(3.08773, 7.37538)</div></td>\n",
        "  <td><div align = \"right\">(-11.29915, -5.16611)</div></td>\n",
        "  <td><div align = \"right\">(4.74084, 9.87701)</div></td>\n",
        "  <td><div align = \"right\">(-11.12134, -5.20571)</div></td>\n",
        "</tr>\n",
        "<tr>\n",
        "  <td><b>95&#37; p-value</b></td>\n",
        "  <td><div align = \"right\">0.00000</div></td>\n",
        "  <td><div align = \"right\">0.00000</div></td>\n",
        "  <td><div align = \"right\">0.00000</div></td>\n",
        "  <td><div align = \"right\">0.00000</div></td>\n",
        "</tr>\n",
        "<tr>\n",
        "  <td><b>99&#37; confidence interval</b></td>\n",
        "  <td><div align = \"right\">(2.44444, 8.03485)</div></td>\n",
        "  <td><div align = \"right\">(-12.23087, -4.20975)</div></td>\n",
        "  <td><div align = \"right\">(3.96713, 10.71813)</div></td>\n",
        "  <td><div align = \"right\">(-12.09260, -4.32679)</div></td>\n",
        "</tr>\n",
        "<tr>\n",
        "  <td><b>99&#37; p-value</b></td>\n",
        "  <td><div align = \"right\">0.00000</div></td>\n",
        "  <td><div align = \"right\">0.00000</div></td>\n",
        "  <td><div align = \"right\">0.00000</div></td>\n",
        "  <td><div align = \"right\">0.00000</div></td>\n",
        "</tr>\n",
        "</table>"
       ],
       "metadata": {},
       "output_type": "pyout",
       "prompt_number": 42,
       "text": [
        "<IPython.core.display.HTML at 0x7f3f21767be0>"
       ]
      }
     ],
     "prompt_number": 42
    },
    {
     "cell_type": "code",
     "collapsed": false,
     "input": [
      "SMediansTable = \"<h1>Hela S / Difference of Medians</h1>\" + formattedTable % SMediansResults\n",
      "dispSMediansTable = HTML(SMediansTable); dispSMediansTable"
     ],
     "language": "python",
     "metadata": {},
     "outputs": [
      {
       "html": [
        "<h1>Hela S / Difference of Medians</h1><table>\n",
        "<tr>\n",
        "  <th>--</th>\n",
        "  <th>Wild type</th>\n",
        "  <th>TRF1</th>\n",
        "  <th>TRF2</th>\n",
        "  <th>TRF1/2</th>\n",
        "</tr>\n",
        "<tr>\n",
        "  <td><b>95&#37; confidence interval</b></td>\n",
        "  <td><div align = \"right\">(2.47495, 6.59910)</div></td>\n",
        "  <td><div align = \"right\">(-9.75600, -3.95070)</div></td>\n",
        "  <td><div align = \"right\">(1.79780, 6.88020)</div></td>\n",
        "  <td><div align = \"right\">(-9.16085, -4.06260)</div></td>\n",
        "</tr>\n",
        "<tr>\n",
        "  <td><b>95&#37; p-value</b></td>\n",
        "  <td><div align = \"right\">0.00002</div></td>\n",
        "  <td><div align = \"right\">0.00000</div></td>\n",
        "  <td><div align = \"right\">0.00101</div></td>\n",
        "  <td><div align = \"right\">0.00000</div></td>\n",
        "</tr>\n",
        "<tr>\n",
        "  <td><b>99&#37; confidence interval</b></td>\n",
        "  <td><div align = \"right\">(1.68090, 7.17790)</div></td>\n",
        "  <td><div align = \"right\">(-10.74916, -3.18425)</div></td>\n",
        "  <td><div align = \"right\">(1.11569, 7.72660)</div></td>\n",
        "  <td><div align = \"right\">(-9.96131, -2.90049)</div></td>\n",
        "</tr>\n",
        "<tr>\n",
        "  <td><b>99&#37; p-value</b></td>\n",
        "  <td><div align = \"right\">0.00002</div></td>\n",
        "  <td><div align = \"right\">0.00002</div></td>\n",
        "  <td><div align = \"right\">0.00120</div></td>\n",
        "  <td><div align = \"right\">0.00000</div></td>\n",
        "</tr>\n",
        "</table>"
       ],
       "metadata": {},
       "output_type": "pyout",
       "prompt_number": 43,
       "text": [
        "<IPython.core.display.HTML at 0x7f3f21767e48>"
       ]
      }
     ],
     "prompt_number": 43
    },
    {
     "cell_type": "code",
     "collapsed": false,
     "input": [],
     "language": "python",
     "metadata": {},
     "outputs": []
    }
   ],
   "metadata": {}
  }
 ]
}