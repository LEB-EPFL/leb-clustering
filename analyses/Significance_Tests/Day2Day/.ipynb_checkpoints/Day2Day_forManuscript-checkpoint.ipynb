{
 "metadata": {
  "name": "",
  "signature": "sha256:a68b86cac63f1e939f86ace500a6026c44ffd0db4445a7b99b51401e1e100873"
 },
 "nbformat": 3,
 "nbformat_minor": 0,
 "worksheets": [
  {
   "cells": [
    {
     "cell_type": "heading",
     "level": 1,
     "metadata": {},
     "source": [
      "Analyzing Day-to-Day Variation - Part 2"
     ]
    },
    {
     "cell_type": "markdown",
     "metadata": {},
     "source": [
      "We started looking at the day-to-day variation in the mean and median radius of gyration ($R_g$) values because we found that some of the datasets were more strongly influencing the shape of the pooled distributions than others. My first attempts at plotting these variations was to plot the mean (or median) radius of gyration as a function of the day the experiment was run. The two time-series curves for the control (pSuper) and the knockdown were compared like this.\n",
      "\n",
      "This seemed to incur a lot of opposition from my group, partly because they saw large changes in the absolute size as troublesome. Seamus suggested instead plotting their differences; this makes sense because there's a strong correlation in relative differences when plotted day-to-day, even if the absolute values change by a lot.\n",
      "\n",
      "Now, I will try plotting the differences between control and knockdowns to see if this is more informative for assessing the dependence of telomere size on any particular Shelterin component."
     ]
    },
    {
     "cell_type": "heading",
     "level": 2,
     "metadata": {},
     "source": [
      "Setup the data structures and compute the differences"
     ]
    },
    {
     "cell_type": "code",
     "collapsed": false,
     "input": [
      "import scipy.io as sio\n",
      "import day2day as d2d\n",
      "import matplotlib.pyplot as plt\n",
      "from numpy import arange, ones, random, sqrt, linspace\n",
      "\n",
      "# Make plots in this page\n",
      "%matplotlib inline\n",
      "\n",
      "# Read the Matlab data into the Python namespace\n",
      "mlData = sio.loadmat('matlab.mat', variable_names = 'data')\n",
      "\n",
      "# List of experiment names to read\n",
      "# (Note that we're not including the pooled data anymore)\n",
      "expName = {'pSuper' : ['08-09-2014 pSuper',\n",
      "                       '09-09-2014 pSuper',\n",
      "                       '21-10-2014 pSuper',\n",
      "                       '05-11-2014 pSuper',\n",
      "                       '17-11-2014 pSuper'],\n",
      "           'TRF1' :   ['08-09-2014 TRF1',\n",
      "                       '09-09-2014 TRF1',\n",
      "                       '21-10-2014 TRF1',\n",
      "                       '05-11-2014 TRF1',\n",
      "                       '17-11-2014 TRF1'],\n",
      "           'TRF2' :   ['08-09-2014 TRF2',\n",
      "                       '09-09-2014 TRF2',\n",
      "                       '21-10-2014 TRF2',\n",
      "                       '05-11-2014 TRF2',\n",
      "                       '17-11-2014 TRF2'],\n",
      "           'TRF1/2' : ['08-09-2014 TRF1 TRF2',\n",
      "                       '09-09-2014 TRF1 TRF2',\n",
      "                       '21-10-2014 TRF1 TRF2',\n",
      "                       '05-11-2014 TRF1 TRF2',\n",
      "                       '17-11-2014 TRF1 TRF2']}\n",
      "\n",
      "stats = {'Hela L' : {'Mean' : {'Diffs' : {}}, 'Median' : {'Diffs' : {}}, 'Std. Err.' : {'Diffs' : {}}},\n",
      "         'Hela S' : {'Mean' : {'Diffs' : {}}, 'Median' : {'Diffs' : {}}, 'Std. Err.' : {'Diffs' : {}}}}\n",
      "\n",
      "# Remove pSuper from experiment names to make plot xtick labels\n",
      "ticklabels = []\n",
      "for label in expName['pSuper']:\n",
      "    ticklabels.append(label[:-7])\n",
      "ticklabels = sorted(ticklabels)"
     ],
     "language": "python",
     "metadata": {},
     "outputs": [],
     "prompt_number": 1
    },
    {
     "cell_type": "code",
     "collapsed": false,
     "input": [
      "# Calculate all means, medians, and standard errors of the means\n",
      "for name in expName.keys():\n",
      "    stats['Hela L']['Mean'][name],   stats['Hela L']['Std. Err.'][name]   = d2d.findStats(mlData, expName[name], cellType = 'L', statistic = 'mean')\n",
      "    stats['Hela L']['Median'][name], _                                    = d2d.findStats(mlData, expName[name], cellType = 'L', statistic = 'median')\n",
      "    \n",
      "    stats['Hela S']['Mean'][name],   stats['Hela S']['Std. Err.'][name]   = d2d.findStats(mlData, expName[name], cellType = 'S', statistic = 'mean')\n",
      "    stats['Hela S']['Median'][name], _                                    = d2d.findStats(mlData, expName[name], cellType = 'S', statistic = 'median')"
     ],
     "language": "python",
     "metadata": {},
     "outputs": [],
     "prompt_number": 2
    },
    {
     "cell_type": "heading",
     "level": 3,
     "metadata": {},
     "source": [
      "Find differences between knockdowns and control"
     ]
    },
    {
     "cell_type": "markdown",
     "metadata": {},
     "source": [
      "Now that the means and medians for each experiment have been calculated, we'll compute the difference between each knockdown experiment and the control (labeled pSuper)."
     ]
    },
    {
     "cell_type": "code",
     "collapsed": false,
     "input": [
      "# Filter out pSuper from names of keys\n",
      "listOfKDs = list(filter(lambda x: (x != 'pSuper') and (x != 'Diffs'), stats['Hela L']['Mean'].keys()))\n",
      "\n",
      "for knockdown in listOfKDs:\n",
      "    diffMeanL   = -d2d.sortStats(stats['Hela L']['Mean']['pSuper'])   + d2d.sortStats(stats['Hela L']['Mean'][knockdown])\n",
      "    diffMedianL = -d2d.sortStats(stats['Hela L']['Median']['pSuper']) + d2d.sortStats(stats['Hela L']['Median'][knockdown])\n",
      "    diffMeanS   = -d2d.sortStats(stats['Hela S']['Mean']['pSuper'])   + d2d.sortStats(stats['Hela S']['Mean'][knockdown])\n",
      "    diffMedianS = -d2d.sortStats(stats['Hela S']['Median']['pSuper']) + d2d.sortStats(stats['Hela S']['Median'][knockdown])\n",
      "    \n",
      "    diffErrL = sqrt(d2d.sortStats(stats['Hela L']['Std. Err.']['pSuper'])**2 + d2d.sortStats(stats['Hela L']['Std. Err.'][knockdown])**2)\n",
      "    diffErrS = sqrt(d2d.sortStats(stats['Hela S']['Std. Err.']['pSuper'])**2 + d2d.sortStats(stats['Hela S']['Std. Err.'][knockdown])**2)\n",
      "    \n",
      "    stats['Hela L']['Mean']['Diffs'][knockdown]      = diffMeanL\n",
      "    stats['Hela L']['Median']['Diffs'][knockdown]    = diffMedianL\n",
      "    stats['Hela L']['Std. Err.']['Diffs'][knockdown] = diffErrL\n",
      "    stats['Hela S']['Mean']['Diffs'][knockdown]      = diffMeanS\n",
      "    stats['Hela S']['Median']['Diffs'][knockdown]    = diffMedianS\n",
      "    stats['Hela S']['Std. Err.']['Diffs'][knockdown] = diffErrS"
     ],
     "language": "python",
     "metadata": {},
     "outputs": [],
     "prompt_number": 3
    },
    {
     "cell_type": "heading",
     "level": 3,
     "metadata": {},
     "source": [
      "Plot the differences"
     ]
    },
    {
     "cell_type": "markdown",
     "metadata": {},
     "source": [
      "Check out [this link](http://nbviewer.ipython.org/gist/fonnesbeck/5850463) for ideas on plotting the scatter."
     ]
    },
    {
     "cell_type": "code",
     "collapsed": false,
     "input": [
      "import matplotlib.font_manager as font_manager\n",
      "from matplotlib import rcParams\n",
      "\n",
      "fontpath = '/usr/share/fonts/truetype/msttcorefonts/Arial.ttf'\n",
      "prop = font_manager.FontProperties(fname = fontpath)\n",
      "rcParams['font.family'] = prop.get_name()\n",
      "rcParams.update({'font.size' : 7})\n",
      "rcParams.update({'legend.fontsize' : 7})\n",
      "rcParams.update({'axes.titlesize' : 7})"
     ],
     "language": "python",
     "metadata": {},
     "outputs": [],
     "prompt_number": 4
    },
    {
     "cell_type": "heading",
     "level": 3,
     "metadata": {},
     "source": [
      "Hela L"
     ]
    },
    {
     "cell_type": "code",
     "collapsed": false,
     "input": [
      "fig, ax1 = plt.subplots(1, 1, figsize = (3.46,2.5), dpi = 600)\n",
      "\n",
      "lineprops = dict(linewidth = 1.0, color = 'k')\n",
      "pointSpread = 0.15 # For spreading the datapoints in the x-direction\n",
      "pointSize = 4 # Data point marker size\n",
      "\n",
      "# Hela L\n",
      "dataLength = len(stats['Hela L']['Mean']['Diffs']['TRF1'])\n",
      "ax1.errorbar(1 + linspace(-pointSpread, pointSpread, dataLength),\n",
      "             stats['Hela L']['Mean']['Diffs']['TRF1'],\n",
      "             yerr  = stats['Hela L']['Std. Err.']['Diffs']['TRF1'],\n",
      "             fmt   = 'ok',\n",
      "             alpha = 0.65,\n",
      "             markersize = pointSize)\n",
      "\n",
      "dataLength = len(stats['Hela L']['Mean']['Diffs']['TRF2'])\n",
      "ax1.errorbar(2 + linspace(-pointSpread, pointSpread, dataLength),\n",
      "             stats['Hela L']['Mean']['Diffs']['TRF2'],\n",
      "             yerr  = stats['Hela L']['Std. Err.']['Diffs']['TRF2'],\n",
      "             fmt   = 'ok',\n",
      "             alpha = 0.65,\n",
      "             markersize = pointSize)\n",
      "\n",
      "dataLength = len(stats['Hela L']['Mean']['Diffs']['TRF1/2'])\n",
      "ax1.errorbar(3 + linspace(-pointSpread, pointSpread, dataLength),\n",
      "             stats['Hela L']['Mean']['Diffs']['TRF1/2'],\n",
      "             yerr  = stats['Hela L']['Std. Err.']['Diffs']['TRF1/2'],\n",
      "             fmt   = 'ok',\n",
      "             alpha = 0.65,\n",
      "             markersize = pointSize)\n",
      "\n",
      "ax1.plot([0,4], [0,0], 'k', linewidth = 1)\n",
      "\n",
      "ax1.spines['top'].set_visible(False)\n",
      "ax1.spines['right'].set_visible(False)\n",
      "ax1.xaxis.set_ticks_position('bottom')\n",
      "ax1.yaxis.set_ticks_position('left')\n",
      "\n",
      "ax1.set_xlim((0.5, 3.5))\n",
      "ax1.set_ylim((-20, 30))\n",
      "ax1.set_xticks([1,2,3])\n",
      "ax1.set_xticklabels(['TRF1', 'TRF2', 'TRF1/2'])\n",
      "ax1.set_ylabel(r'Differences in mean $R_g$, nm')\n",
      "plt.tight_layout()\n",
      "plt.savefig('knockdownResults_HelaL.pdf')"
     ],
     "language": "python",
     "metadata": {},
     "outputs": [
      {
       "metadata": {},
       "output_type": "display_data",
       "png": "[encoded data removed]",
       "text": [
        "<matplotlib.figure.Figure at 0x7f64701b3c50>"
       ]
      }
     ],
     "prompt_number": 18
    },
    {
     "cell_type": "heading",
     "level": 3,
     "metadata": {},
     "source": [
      "Hela S"
     ]
    },
    {
     "cell_type": "code",
     "collapsed": false,
     "input": [
      "fig, ax2 = plt.subplots(1, 1, figsize = (3.46,2.5), dpi = 600)\n",
      "\n",
      "lineprops = dict(linewidth = 1.0, color = 'k')\n",
      "pointSpread = 0.15 # For spreading the datapoints in the x-direction\n",
      "pointSize = 4 # Data point marker size\n",
      "\n",
      "# Hela S\n",
      "dataLength = len(stats['Hela S']['Mean']['Diffs']['TRF1'])\n",
      "ax2.errorbar(1 + linspace(-pointSpread, pointSpread, dataLength),\n",
      "             stats['Hela S']['Mean']['Diffs']['TRF1'],\n",
      "             yerr  = stats['Hela S']['Std. Err.']['Diffs']['TRF1'],\n",
      "             fmt   = 'ok',\n",
      "             alpha = 0.65,\n",
      "             markersize = pointSize)\n",
      "\n",
      "dataLength = len(stats['Hela S']['Mean']['Diffs']['TRF2'])\n",
      "ax2.errorbar(2 + linspace(-pointSpread, pointSpread, dataLength),\n",
      "             stats['Hela S']['Mean']['Diffs']['TRF2'],\n",
      "             yerr  = stats['Hela S']['Std. Err.']['Diffs']['TRF2'],\n",
      "             fmt   = 'ok',\n",
      "             alpha = 0.65,\n",
      "             markersize = pointSize)\n",
      "\n",
      "dataLength = len(stats['Hela S']['Mean']['Diffs']['TRF1/2'])\n",
      "ax2.errorbar(3 + linspace(-pointSpread, pointSpread, dataLength),\n",
      "             stats['Hela S']['Mean']['Diffs']['TRF1/2'],\n",
      "             yerr  = stats['Hela S']['Std. Err.']['Diffs']['TRF1/2'],\n",
      "             fmt   = 'ok',\n",
      "             alpha = 0.65,\n",
      "             markersize = pointSize)\n",
      "\n",
      "ax2.plot([0,4], [0,0], 'k', linewidth = 1)\n",
      "\n",
      "ax2.spines['top'].set_visible(False)\n",
      "ax2.spines['right'].set_visible(False)\n",
      "ax2.xaxis.set_ticks_position('bottom')\n",
      "ax2.yaxis.set_ticks_position('left')\n",
      "\n",
      "\n",
      "ax2.set_xlim((0.5, 3.5))\n",
      "ax2.set_ylim((-20, 30))\n",
      "ax2.set_xticks([1,2,3])\n",
      "ax2.set_xticklabels(['TRF1', 'TRF2', 'TRF1/2'])\n",
      "ax2.set_ylabel(r'Differences in mean $R_g$, nm')\n",
      "plt.tight_layout()\n",
      "plt.savefig('knockdownResults_HelaS.pdf')"
     ],
     "language": "python",
     "metadata": {},
     "outputs": [
      {
       "metadata": {},
       "output_type": "display_data",
       "png": "[encoded data removed]",
       "text": [
        "<matplotlib.figure.Figure at 0x7f646ff38be0>"
       ]
      }
     ],
     "prompt_number": 16
    },
    {
     "cell_type": "heading",
     "level": 3,
     "metadata": {},
     "source": [
      "Hela L and S, subplots"
     ]
    },
    {
     "cell_type": "code",
     "collapsed": false,
     "input": [
      "fig, (ax1, ax2) = plt.subplots(1, 2, sharey = True, figsize = (3.46,2.5), dpi = 600)\n",
      "\n",
      "lineprops = dict(linewidth = 1.0, color = 'k')\n",
      "pointSpread = 0.15 # For spreading the datapoints in the x-direction\n",
      "pointSize = 4 # Data point marker size\n",
      "\n",
      "# Hela L\n",
      "dataLength = len(stats['Hela L']['Mean']['Diffs']['TRF1'])\n",
      "ax1.errorbar(1 + linspace(-pointSpread, pointSpread, dataLength),\n",
      "             stats['Hela L']['Mean']['Diffs']['TRF1'],\n",
      "             yerr  = stats['Hela L']['Std. Err.']['Diffs']['TRF1'],\n",
      "             fmt   = 'ok',\n",
      "             alpha = 0.65,\n",
      "             markersize = pointSize)\n",
      "\n",
      "dataLength = len(stats['Hela L']['Mean']['Diffs']['TRF2'])\n",
      "ax1.errorbar(2 + linspace(-pointSpread, pointSpread, dataLength),\n",
      "             stats['Hela L']['Mean']['Diffs']['TRF2'],\n",
      "             yerr  = stats['Hela L']['Std. Err.']['Diffs']['TRF2'],\n",
      "             fmt   = 'ok',\n",
      "             alpha = 0.65,\n",
      "             markersize = pointSize)\n",
      "\n",
      "dataLength = len(stats['Hela L']['Mean']['Diffs']['TRF1/2'])\n",
      "ax1.errorbar(3 + linspace(-pointSpread, pointSpread, dataLength),\n",
      "             stats['Hela L']['Mean']['Diffs']['TRF1/2'],\n",
      "             yerr  = stats['Hela L']['Std. Err.']['Diffs']['TRF1/2'],\n",
      "             fmt   = 'ok',\n",
      "             alpha = 0.65,\n",
      "             markersize = pointSize)\n",
      "\n",
      "ax1.plot([0,4], [0,0], 'k', linewidth = 1)\n",
      "\n",
      "ax1.spines['top'].set_visible(False)\n",
      "ax1.spines['right'].set_visible(False)\n",
      "ax1.xaxis.set_ticks_position('bottom')\n",
      "ax1.yaxis.set_ticks_position('left')\n",
      "\n",
      "#plt.grid(True)\n",
      "ax1.set_xlim((0.5, 3.5))\n",
      "ax1.set_xticks([1,2,3])\n",
      "ax1.set_xticklabels(['TRF1', 'TRF2', 'TRF1/2'])\n",
      "\n",
      "# Hela S\n",
      "dataLength = len(stats['Hela S']['Mean']['Diffs']['TRF1'])\n",
      "ax2.errorbar(1 + linspace(-pointSpread, pointSpread, dataLength),\n",
      "             stats['Hela S']['Mean']['Diffs']['TRF1'],\n",
      "             yerr  = stats['Hela S']['Std. Err.']['Diffs']['TRF1'],\n",
      "             fmt   = 'ok',\n",
      "             alpha = 0.65,\n",
      "             markersize = pointSize)\n",
      "\n",
      "dataLength = len(stats['Hela S']['Mean']['Diffs']['TRF2'])\n",
      "ax2.errorbar(2 + linspace(-pointSpread, pointSpread, dataLength),\n",
      "             stats['Hela S']['Mean']['Diffs']['TRF2'],\n",
      "             yerr  = stats['Hela S']['Std. Err.']['Diffs']['TRF2'],\n",
      "             fmt   = 'ok',\n",
      "             alpha = 0.65,\n",
      "             markersize = pointSize)\n",
      "\n",
      "dataLength = len(stats['Hela S']['Mean']['Diffs']['TRF1/2'])\n",
      "ax2.errorbar(3 + linspace(-pointSpread, pointSpread, dataLength),\n",
      "             stats['Hela S']['Mean']['Diffs']['TRF1/2'],\n",
      "             yerr  = stats['Hela S']['Std. Err.']['Diffs']['TRF1/2'],\n",
      "             fmt   = 'ok',\n",
      "             alpha = 0.65,\n",
      "             markersize = pointSize)\n",
      "\n",
      "ax2.plot([0,4], [0,0], 'k', linewidth = 1)\n",
      "\n",
      "ax2.spines['top'].set_visible(False)\n",
      "ax2.spines['right'].set_visible(False)\n",
      "ax2.xaxis.set_ticks_position('bottom')\n",
      "ax2.yaxis.set_ticks_position('left')\n",
      "\n",
      "#plt.grid(True)\n",
      "ax2.set_xlim((0.5, 3.5))\n",
      "ax2.set_ylim((-20, 30))\n",
      "ax2.set_xticks([1,2,3])\n",
      "ax2.set_xticklabels(['TRF1', 'TRF2', 'TRF1/2'])\n",
      "ax1.set_ylabel(r'Differences in means, nm')\n",
      "plt.tight_layout()\n",
      "plt.savefig('knockdownResults.pdf')"
     ],
     "language": "python",
     "metadata": {},
     "outputs": [
      {
       "metadata": {},
       "output_type": "display_data",
       "png": "[encoded data removed]",
       "text": [
        "<matplotlib.figure.Figure at 0x7f646fe340b8>"
       ]
      }
     ],
     "prompt_number": 17
    },
    {
     "cell_type": "code",
     "collapsed": false,
     "input": [],
     "language": "python",
     "metadata": {},
     "outputs": [],
     "prompt_number": 23
    },
    {
     "cell_type": "code",
     "collapsed": false,
     "input": [],
     "language": "python",
     "metadata": {},
     "outputs": []
    }
   ],
   "metadata": {}
  }
 ]
}