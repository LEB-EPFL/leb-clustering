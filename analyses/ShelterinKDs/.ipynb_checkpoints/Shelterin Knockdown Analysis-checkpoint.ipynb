{
 "cells": [
  {
   "cell_type": "markdown",
   "metadata": {},
   "source": [
    "# Analysis of the Shelterin Knockdown Data #"
   ]
  },
  {
   "cell_type": "markdown",
   "metadata": {},
   "source": [
    "This workbook describes the analysis performed on the STORM data of Hela cells with various shelterin knockdowns.\n",
    "\n",
    "We started looking at the day-to-day variation in the mean and median radius of gyration ($R_g$) values because we found that some of the datasets were more strongly influencing the shape of the pooled distributions than others. My first attempts at plotting these variations was to plot the mean (or median) radius of gyration as a function of the day the experiment was run. The two time-series curves for the control (pSuper) and the knockdown were compared like this.\n",
    "\n",
    "This seemed to incur a lot of opposition from my group, partly because they saw large changes in the absolute size as troublesome. Seamus suggested instead plotting their differences; this makes sense because there's a strong correlation in relative differences when plotted day-to-day, even if the absolute values change by a lot.\n",
    "\n",
    "Now, I will try plotting the differences between control and knockdowns to see if this is more informative for assessing the dependence of telomere size on any particular Shelterin component."
   ]
  },
  {
   "cell_type": "markdown",
   "metadata": {},
   "source": [
    "## Setup the environment ##"
   ]
  },
  {
   "cell_type": "code",
   "execution_count": 1,
   "metadata": {
    "collapsed": false
   },
   "outputs": [
    {
     "name": "stdout",
     "output_type": "stream",
     "text": [
      "Using matplotlib backend: TkAgg\n",
      "Populating the interactive namespace from numpy and matplotlib\n"
     ]
    }
   ],
   "source": [
    "%pylab\n",
    "\n",
    "# Enable plotting inside this document\n",
    "%matplotlib inline\n",
    "\n",
    "import scipy.io as sio\n",
    "import day2day as d2d\n",
    "from sigTestHelpers import bootstrapDiff"
   ]
  },
  {
   "cell_type": "code",
   "execution_count": 2,
   "metadata": {
    "collapsed": false
   },
   "outputs": [],
   "source": [
    "pathToDists = '../Experiment_6_Pool_TRF1_TRF2/'\n",
    "\n",
    "# Read the Matlab data into the Python namespace\n",
    "mlData = sio.loadmat(''.join((pathToDists, 'matlab.mat')), variable_names = 'data')\n",
    "\n",
    "# List of experiment names to read\n",
    "# (Note that we're not including the pooled data anymore)\n",
    "expName = {'pSuper' : ['08-09-2014 pSuper',\n",
    "                       '09-09-2014 pSuper',\n",
    "                       '21-10-2014 pSuper',\n",
    "                       '05-11-2014 pSuper',\n",
    "                       '17-11-2014 pSuper'],\n",
    "           'TRF1' :   ['08-09-2014 TRF1',\n",
    "                       '09-09-2014 TRF1',\n",
    "                       '21-10-2014 TRF1',\n",
    "                       '05-11-2014 TRF1',\n",
    "                       '17-11-2014 TRF1'],\n",
    "           'TRF2' :   ['08-09-2014 TRF2',\n",
    "                       '09-09-2014 TRF2',\n",
    "                       '21-10-2014 TRF2',\n",
    "                       '05-11-2014 TRF2',\n",
    "                       '17-11-2014 TRF2'],\n",
    "           'TRF1/2' : ['08-09-2014 TRF1 TRF2',\n",
    "                       '09-09-2014 TRF1 TRF2',\n",
    "                       '21-10-2014 TRF1 TRF2',\n",
    "                       '05-11-2014 TRF1 TRF2',\n",
    "                       '17-11-2014 TRF1 TRF2']}\n",
    "\n",
    "stats = {'Hela L' : {'Mean' : {'Diffs' : {}}, 'Median' : {'Diffs' : {}}, 'Std. Err.' : {'Diffs' : {}}},\n",
    "         'Hela S' : {'Mean' : {'Diffs' : {}}, 'Median' : {'Diffs' : {}}, 'Std. Err.' : {'Diffs' : {}}}}\n",
    "\n",
    "# Remove pSuper from experiment names to make plot xtick labels\n",
    "ticklabels = []\n",
    "for label in expName['pSuper']:\n",
    "    ticklabels.append(label[:-7])\n",
    "ticklabels = sorted(ticklabels)\n"
   ]
  },
  {
   "cell_type": "markdown",
   "metadata": {},
   "source": [
    "## Read the distributions into memory ##"
   ]
  },
  {
   "cell_type": "code",
   "execution_count": 3,
   "metadata": {
    "collapsed": false
   },
   "outputs": [],
   "source": [
    "# Define the dictionary for holding the distribution data\n",
    "dists = {'Hela L' : {name: {} for name in expName.keys()},\n",
    "         'Hela S' : {name: {} for name in expName.keys()}}\n",
    "\n",
    "# Assign the distribution for each data to a leaf in the tree of distributions above\n",
    "for name in expName.keys():\n",
    "    dists['Hela L'][name], _ = d2d.findStats(mlData, expName[name], cellType = 'L', statistic = 'identity')\n",
    "    dists['Hela S'][name], _ = d2d.findStats(mlData, expName[name], cellType = 'S', statistic = 'identity')"
   ]
  },
  {
   "cell_type": "markdown",
   "metadata": {},
   "source": [
    "## Compute the summary statistics ##"
   ]
  },
  {
   "cell_type": "code",
   "execution_count": 4,
   "metadata": {
    "collapsed": false
   },
   "outputs": [],
   "source": [
    "# Calculate all means, medians, and standard errors of the means\n",
    "for name in expName.keys():\n",
    "    stats['Hela L']['Mean'][name],   stats['Hela L']['Std. Err.'][name]   = d2d.findStats(mlData, expName[name], cellType = 'L', statistic = 'mean')\n",
    "    stats['Hela L']['Median'][name], _                                    = d2d.findStats(mlData, expName[name], cellType = 'L', statistic = 'median')\n",
    "    \n",
    "    stats['Hela S']['Mean'][name],   stats['Hela S']['Std. Err.'][name]   = d2d.findStats(mlData, expName[name], cellType = 'S', statistic = 'mean')\n",
    "    stats['Hela S']['Median'][name], _                                    = d2d.findStats(mlData, expName[name], cellType = 'S', statistic = 'median')"
   ]
  },
  {
   "cell_type": "markdown",
   "metadata": {},
   "source": [
    "### Find differences between knockdowns and control ###"
   ]
  },
  {
   "cell_type": "markdown",
   "metadata": {},
   "source": [
    "Now that the means and medians for each experiment have been calculated, we'll compute the difference between each knockdown experiment and the control (labeled pSuper)."
   ]
  },
  {
   "cell_type": "code",
   "execution_count": 5,
   "metadata": {
    "collapsed": true
   },
   "outputs": [],
   "source": [
    "# Filter out pSuper from names of keys\n",
    "listOfKDs = list(filter(lambda x: (x != 'pSuper') and (x != 'Diffs'), stats['Hela L']['Mean'].keys()))\n",
    "\n",
    "for knockdown in listOfKDs:\n",
    "    diffMeanL   = -d2d.sortStats(stats['Hela L']['Mean']['pSuper'])   + d2d.sortStats(stats['Hela L']['Mean'][knockdown])\n",
    "    diffMedianL = -d2d.sortStats(stats['Hela L']['Median']['pSuper']) + d2d.sortStats(stats['Hela L']['Median'][knockdown])\n",
    "    diffMeanS   = -d2d.sortStats(stats['Hela S']['Mean']['pSuper'])   + d2d.sortStats(stats['Hela S']['Mean'][knockdown])\n",
    "    diffMedianS = -d2d.sortStats(stats['Hela S']['Median']['pSuper']) + d2d.sortStats(stats['Hela S']['Median'][knockdown])\n",
    "    \n",
    "    diffErrL = sqrt(d2d.sortStats(stats['Hela L']['Std. Err.']['pSuper'])**2 + d2d.sortStats(stats['Hela L']['Std. Err.'][knockdown])**2)\n",
    "    diffErrS = sqrt(d2d.sortStats(stats['Hela S']['Std. Err.']['pSuper'])**2 + d2d.sortStats(stats['Hela S']['Std. Err.'][knockdown])**2)\n",
    "    \n",
    "    stats['Hela L']['Mean']['Diffs'][knockdown]      = diffMeanL\n",
    "    stats['Hela L']['Median']['Diffs'][knockdown]    = diffMedianL\n",
    "    stats['Hela L']['Std. Err.']['Diffs'][knockdown] = diffErrL\n",
    "    stats['Hela S']['Mean']['Diffs'][knockdown]      = diffMeanS\n",
    "    stats['Hela S']['Median']['Diffs'][knockdown]    = diffMedianS\n",
    "    stats['Hela S']['Std. Err.']['Diffs'][knockdown] = diffErrS"
   ]
  },
  {
   "cell_type": "markdown",
   "metadata": {},
   "source": [
    "## Find the bootstrapped confidence intervals ##"
   ]
  },
  {
   "cell_type": "markdown",
   "metadata": {},
   "source": [
    "Originally, I was using the standard error of the mean to construct confidence intervals and assess the difference of means between the control (pSuper) and knockdown distributions. However, this requires an assumption of normality which in all likelihood is not satisfied. So, I will instead compute bootstrap estimates for the confidence intervals."
   ]
  },
  {
   "cell_type": "code",
   "execution_count": 6,
   "metadata": {
    "collapsed": false
   },
   "outputs": [
    {
     "name": "stdout",
     "output_type": "stream",
     "text": [
      "Now computing bootstrap statistics for knockdown: TRF2 and date: 09-09-2014 TRF2\n",
      "Now computing bootstrap statistics for knockdown: TRF2 and date: 21-10-2014 TRF2\n",
      "Now computing bootstrap statistics for knockdown: TRF2 and date: 08-09-2014 TRF2\n",
      "Now computing bootstrap statistics for knockdown: TRF2 and date: 05-11-2014 TRF2\n",
      "Now computing bootstrap statistics for knockdown: TRF2 and date: 17-11-2014 TRF2\n",
      "Now computing bootstrap statistics for knockdown: TRF1 and date: 05-11-2014 TRF1\n",
      "Now computing bootstrap statistics for knockdown: TRF1 and date: 08-09-2014 TRF1\n",
      "Now computing bootstrap statistics for knockdown: TRF1 and date: 09-09-2014 TRF1\n",
      "Now computing bootstrap statistics for knockdown: TRF1 and date: 21-10-2014 TRF1\n",
      "Now computing bootstrap statistics for knockdown: TRF1 and date: 17-11-2014 TRF1\n",
      "Now computing bootstrap statistics for knockdown: TRF1/2 and date: 21-10-2014 TRF1 TRF2\n",
      "Now computing bootstrap statistics for knockdown: TRF1/2 and date: 17-11-2014 TRF1 TRF2\n",
      "Now computing bootstrap statistics for knockdown: TRF1/2 and date: 08-09-2014 TRF1 TRF2\n",
      "Now computing bootstrap statistics for knockdown: TRF1/2 and date: 09-09-2014 TRF1 TRF2\n",
      "Now computing bootstrap statistics for knockdown: TRF1/2 and date: 05-11-2014 TRF1 TRF2\n"
     ]
    }
   ],
   "source": [
    "# Build the bootstrap branch of the stats dictionary\n",
    "stats['Hela L']['Bootstrap'] = {'TRF1'   : {},\n",
    "                                'TRF2'   : {},\n",
    "                                'TRF1/2' : {}}\n",
    "stats['Hela S']['Bootstrap'] = {'TRF1'   : {},\n",
    "                                'TRF2'   : {},\n",
    "                                'TRF1/2' : {}}\n",
    "\n",
    "for name in listOfKDs:\n",
    "    # Get the dates from stats['Hela L']['Mean']\n",
    "    # I could have gotten them from another branch of the stats dictionary as well.\n",
    "    for key in stats['Hela L']['Mean'][name].keys():\n",
    "        # Load the the two distributions for which to compute the bootstrap statistics\n",
    "        currDate  = key[:10]\n",
    "        \n",
    "        controlL  = dists['Hela L']['pSuper'][' '.join((currDate, 'pSuper'))]\n",
    "        controlS  = dists['Hela S']['pSuper'][' '.join((currDate, 'pSuper'))]\n",
    "        \n",
    "        currDistL = dists['Hela L'][name][key]\n",
    "        currDistS = dists['Hela S'][name][key]\n",
    "        \n",
    "        # Create two keys in the dictionary: one for the confidence intervals and one for the p-value\n",
    "        stats['Hela L']['Bootstrap'][name][key] = {'CI': [], 'pValue': []}\n",
    "        stats['Hela S']['Bootstrap'][name][key] = {'CI': [], 'pValue': []}\n",
    "        \n",
    "        print('Now computing bootstrap statistics for knockdown: {0} and date: {1}'.format(name, key))\n",
    "        \n",
    "        # Compute the bootstrapped confidence interval and p-values for the difference of means\n",
    "        stats['Hela L']['Bootstrap'][name][key]['CI'], stats['Hela L']['Bootstrap'][name][key]['pValue'] = bootstrapDiff(currDistL, controlL)\n",
    "        stats['Hela S']['Bootstrap'][name][key]['CI'], stats['Hela S']['Bootstrap'][name][key]['pValue'] = bootstrapDiff(currDistS, controlS)"
   ]
  },
  {
   "cell_type": "markdown",
   "metadata": {},
   "source": [
    "### Verify everything was computed correctly ###"
   ]
  },
  {
   "cell_type": "markdown",
   "metadata": {},
   "source": [
    "You can verify that the numbers are more-or-less the same (they'll differ slightly due to random resampling) by changing the keys in the next two lines so that you compute the bootstrap difference and compare it to the one computed in the previous section inside the **stats** dictionary."
   ]
  },
  {
   "cell_type": "code",
   "execution_count": 7,
   "metadata": {
    "collapsed": false
   },
   "outputs": [
    {
     "data": {
      "text/plain": [
       "((-2.3269386106436545, 9.8574329143271751), 0.12561)"
      ]
     },
     "execution_count": 7,
     "metadata": {},
     "output_type": "execute_result"
    }
   ],
   "source": [
    "bootstrapDiff(dists['Hela L']['TRF2']['08-09-2014 TRF2'], dists['Hela L']['pSuper']['08-09-2014 pSuper'])"
   ]
  },
  {
   "cell_type": "code",
   "execution_count": 8,
   "metadata": {
    "collapsed": false
   },
   "outputs": [
    {
     "data": {
      "text/plain": [
       "{'CI': (-2.3708472675717518, 9.8750439811922632), 'pValue': 0.12462}"
      ]
     },
     "execution_count": 8,
     "metadata": {},
     "output_type": "execute_result"
    }
   ],
   "source": [
    "stats['Hela L']['Bootstrap']['TRF2']['08-09-2014 TRF2']"
   ]
  },
  {
   "cell_type": "markdown",
   "metadata": {},
   "source": [
    "### Convert confidence intervals to error bars ###"
   ]
  },
  {
   "cell_type": "code",
   "execution_count": 26,
   "metadata": {
    "collapsed": false
   },
   "outputs": [],
   "source": [
    "for experiment in listOfKDs:\n",
    "    \n",
    "    # Initialize the array to hold the error bars\n",
    "    stats['Hela L']['Bootstrap'][experiment]['Error Bars'] = []\n",
    "    stats['Hela S']['Bootstrap'][experiment]['Error Bars'] = []\n",
    "    \n",
    "    for expDate in sorted(stats['Hela L']['Bootstrap'][experiment].keys()):\n",
    "        \n",
    "        # Skip the \"Error bar key\"\n",
    "        if expDate == 'Error Bars':\n",
    "            continue\n",
    "            \n",
    "        \"\"\"\n",
    "        Extract the confidence interval, convert it to a (one-sided) errorbar,\n",
    "        and append it to the stats dictionary.\n",
    "        \"\"\"\n",
    "        CIL    = stats['Hela L']['Bootstrap'][experiment][expDate]['CI']\n",
    "        CIS    = stats['Hela S']['Bootstrap'][experiment][expDate]['CI']\n",
    "    \n",
    "        errorL = (CIL[1] - CIL[0]) / 2\n",
    "        errorS = (CIS[1] - CIS[0]) / 2\n",
    "        \n",
    "        stats['Hela L']['Bootstrap'][experiment]['Error Bars'].append(errorL)\n",
    "        stats['Hela S']['Bootstrap'][experiment]['Error Bars'].append(errorS)"
   ]
  },
  {
   "cell_type": "code",
   "execution_count": null,
   "metadata": {
    "collapsed": false
   },
   "outputs": [],
   "source": []
  },
  {
   "cell_type": "markdown",
   "metadata": {},
   "source": [
    "-----\n",
    "# Plot the results"
   ]
  },
  {
   "cell_type": "markdown",
   "metadata": {},
   "source": [
    "Check out [this link](http://nbviewer.ipython.org/gist/fonnesbeck/5850463) for ideas on plotting the scatter."
   ]
  },
  {
   "cell_type": "code",
   "execution_count": 67,
   "metadata": {
    "collapsed": false
   },
   "outputs": [
    {
     "data": {
      "image/png": "[encoded data removed]",
      "text/plain": [
       "<matplotlib.figure.Figure at 0x7fa8c529bac8>"
      ]
     },
     "metadata": {},
     "output_type": "display_data"
    }
   ],
   "source": [
    "fig, ax1 = plt.subplots(1, 1, figsize = (8,6))\n",
    "\n",
    "lineprops = dict(linewidth = 1.0, color = 'k')\n",
    "pointSpread = 0.15 # For spreading the datapoints in the x-direction\n",
    "pointSize = 4 # Data point marker size\n",
    "\n",
    "dataLength  = len(stats['Hela L']['Mean']['Diffs']['TRF1'])\n",
    "positions   = linspace(-pointSpread, pointSpread, dataLength) # Where to place the markers\n",
    "markers     = ['ob', '^y', 'sg', 'Dr', '>k']\n",
    "\n",
    "# Build legend labels\n",
    "fullDateStrings = list(sorted(stats['Hela S']['Mean']['TRF1'].keys()))\n",
    "legendLabel     = [date[:10] for date in fullDateStrings]\n",
    "\n",
    "# Hela L\n",
    "# Use a different marker for each date an experiment was performed on\n",
    "for dateCtr in range(dataLength):\n",
    "    ax1.errorbar(1 + positions[dateCtr],\n",
    "                 stats['Hela L']['Mean']['Diffs']['TRF1'][dateCtr],\n",
    "                 #yerr  = stats['Hela L']['Std. Err.']['Diffs']['TRF1'][dateCtr],\n",
    "                 yerr  = stats['Hela L']['Bootstrap']['TRF1']['Error Bars'][dateCtr],\n",
    "                 fmt   = markers[dateCtr],\n",
    "                 alpha = 0.65,\n",
    "                 markersize = pointSize,\n",
    "                 label = legendLabel[dateCtr])\n",
    "\n",
    "    ax1.errorbar(2 + positions[dateCtr],\n",
    "                 stats['Hela L']['Mean']['Diffs']['TRF2'][dateCtr],\n",
    "                 #yerr  = stats['Hela L']['Std. Err.']['Diffs']['TRF2'][dateCtr],\n",
    "                 yerr  = stats['Hela L']['Bootstrap']['TRF2']['Error Bars'][dateCtr],\n",
    "                 fmt   = markers[dateCtr],\n",
    "                 alpha = 0.65,\n",
    "                 markersize = pointSize)\n",
    "\n",
    "    ax1.errorbar(3 + positions[dateCtr],\n",
    "                 stats['Hela L']['Mean']['Diffs']['TRF1/2'][dateCtr],\n",
    "                 #yerr  = stats['Hela L']['Std. Err.']['Diffs']['TRF1/2'][dateCtr],\n",
    "                 yerr  = stats['Hela L']['Bootstrap']['TRF1/2']['Error Bars'][dateCtr],\n",
    "                 fmt   = markers[dateCtr],\n",
    "                 alpha = 0.65,\n",
    "                 markersize = pointSize)\n",
    "\n",
    "ax1.plot([0,4], [0,0], 'k', linewidth = 1)\n",
    "\n",
    "ax1.spines['top'].set_visible(False)\n",
    "ax1.spines['right'].set_visible(False)\n",
    "ax1.xaxis.set_ticks_position('bottom')\n",
    "ax1.yaxis.set_ticks_position('left')\n",
    "\n",
    "ax1.set_xlim((0.5, 3.5))\n",
    "ax1.set_ylim((-20, 30))\n",
    "ax1.set_xticks([1,2,3])\n",
    "ax1.set_xticklabels(['TRF1', 'TRF2', 'TRF1/2'])\n",
    "ax1.set_ylabel(r'Difference between knockdown and control mean $R_g$, nm')\n",
    "plt.legend(loc = 'upper center')\n",
    "plt.tight_layout()\n",
    "plt.savefig('Hela_L_TRF_KDs.pdf')\n",
    "plt.show()"
   ]
  },
  {
   "cell_type": "markdown",
   "metadata": {},
   "source": [
    "### Hela S"
   ]
  },
  {
   "cell_type": "code",
   "execution_count": 68,
   "metadata": {
    "collapsed": false
   },
   "outputs": [
    {
     "data": {
      "image/png": "[encoded data removed]",
      "text/plain": [
       "<matplotlib.figure.Figure at 0x7fa8c5499d30>"
      ]
     },
     "metadata": {},
     "output_type": "display_data"
    }
   ],
   "source": [
    "fig, ax2 = plt.subplots(1, 1, figsize = (8,6))\n",
    "\n",
    "lineprops   = dict(linewidth = 1.0, color = 'k')\n",
    "pointSpread = 0.15 # For spreading the datapoints in the x-direction\n",
    "pointSize   = 4    # Data point marker size\n",
    "\n",
    "dataLength  = len(stats['Hela S']['Mean']['Diffs']['TRF1'])\n",
    "positions   = linspace(-pointSpread, pointSpread, dataLength) # Where to place the markers\n",
    "markers     = ['ob', '^y', 'sg', 'Dr', '>k']\n",
    "\n",
    "# Build legend labels\n",
    "fullDateStrings = list(sorted(stats['Hela S']['Mean']['TRF1'].keys()))\n",
    "legendLabel     = [date[:10] for date in fullDateStrings]\n",
    "\n",
    "# Hela S\n",
    "# Use a different marker for each date an experiment was performed on\n",
    "for dateCtr in range(dataLength):\n",
    "    ax2.errorbar(1 + positions[dateCtr],\n",
    "                 stats['Hela S']['Mean']['Diffs']['TRF1'][dateCtr],\n",
    "                 #yerr  = stats['Hela S']['Std. Err.']['Diffs']['TRF1'][dateCtr],\n",
    "                 yerr  = stats['Hela S']['Bootstrap']['TRF1']['Error Bars'][dateCtr],\n",
    "                 fmt   = markers[dateCtr],\n",
    "                 alpha = 0.65,\n",
    "                 markersize = pointSize,\n",
    "                 label = legendLabel[dateCtr])\n",
    "\n",
    "    ax2.errorbar(2 + positions[dateCtr],\n",
    "                 stats['Hela S']['Mean']['Diffs']['TRF2'][dateCtr],\n",
    "                 #yerr  = stats['Hela S']['Std. Err.']['Diffs']['TRF2'],\n",
    "                 yerr  = stats['Hela S']['Bootstrap']['TRF2']['Error Bars'][dateCtr],\n",
    "                 fmt   = markers[dateCtr],\n",
    "                 alpha = 0.65,\n",
    "                 markersize = pointSize)\n",
    "\n",
    "    ax2.errorbar(3 + positions[dateCtr],\n",
    "                 stats['Hela S']['Mean']['Diffs']['TRF1/2'][dateCtr],\n",
    "                 #yerr  = stats['Hela S']['Std. Err.']['Diffs']['TRF1/2'],\n",
    "                 yerr  = stats['Hela S']['Bootstrap']['TRF1/2']['Error Bars'][dateCtr],\n",
    "                 fmt   = markers[dateCtr],\n",
    "                 alpha = 0.65,\n",
    "                 markersize = pointSize)\n",
    "\n",
    "ax2.plot([0,4], [0,0], 'k', linewidth = 1)\n",
    "\n",
    "ax2.spines['top'].set_visible(False)\n",
    "ax2.spines['right'].set_visible(False)\n",
    "ax2.xaxis.set_ticks_position('bottom')\n",
    "ax2.yaxis.set_ticks_position('left')\n",
    "\n",
    "ax2.set_xlim((0.5, 3.5))\n",
    "ax2.set_ylim((-20, 30))\n",
    "ax2.set_xticks([1,2,3])\n",
    "ax2.set_xticklabels(['TRF1', 'TRF2', 'TRF1/2'])\n",
    "ax2.set_ylabel(r'Difference between knockdown and control mean $R_g$, nm')\n",
    "plt.legend(loc = 'lower right')\n",
    "plt.tight_layout()\n",
    "plt.savefig('Hela_S_TRF_KDs.pdf')\n",
    "plt.show()"
   ]
  },
  {
   "cell_type": "code",
   "execution_count": null,
   "metadata": {
    "collapsed": true
   },
   "outputs": [],
   "source": []
  }
 ],
 "metadata": {
  "kernelspec": {
   "display_name": "Python 3",
   "language": "python",
   "name": "python3"
  },
  "language_info": {
   "codemirror_mode": {
    "name": "ipython",
    "version": 3
   },
   "file_extension": ".py",
   "mimetype": "text/x-python",
   "name": "python",
   "nbconvert_exporter": "python",
   "pygments_lexer": "ipython3",
   "version": "3.4.3"
  }
 },
 "nbformat": 4,
 "nbformat_minor": 0
}
