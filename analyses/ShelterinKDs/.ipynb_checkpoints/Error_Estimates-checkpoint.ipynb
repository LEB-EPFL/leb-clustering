{
 "cells": [
  {
   "cell_type": "markdown",
   "metadata": {},
   "source": [
    "# Estimating the required number of telomeres"
   ]
  },
  {
   "cell_type": "markdown",
   "metadata": {},
   "source": [
    "We can naturally ask the question \"how many telomeres are required to measure the mean to a given level of uncertainty?\"\n",
    "\n",
    "We can make this estimation as follows. Let's start by assuming that the only source of error is undersampling the distribution of telomeres. We can also make the assumption that the distribution of telomere sizes is Gaussian, which is not strictly correct but also not entirely unreasonable (the distributions have a slight left-ward skew). Finally, we know from our TRF experiments that the uncertainty in the mean values is roughly +/- 5 nm.\n",
    "\n",
    "Assuming a population standard deviation of $\\sigma$, the sample standard deviation is \n",
    "\n",
    "$$ s = \\frac{\\sigma}{N} $$\n",
    "\n",
    "with $N$ representing the number of telomeres recorded in an experiment. Since $\\sigma$ is fixed, we can write\n",
    "\n",
    "$$ s_{1} \\sqrt{ N_{1} } = s_{2} \\sqrt{ N_{2} } $$\n",
    "\n",
    "Letting $N_{1} = 200$ and $s_{1} = 5 \\; nm$ (which are typicaly values from the TRF knockdown experiments, we can solve the above equation for $s_{2} = 1 \\; nm$ and find that\n",
    "\n",
    "$$ N_{2} = 5000 \\quad \\left(s_{2} = 1 \\; nm \\right) $$\n",
    "\n",
    "This means we would roughly need to measure 5000 telomeres to bring the uncertainty in the mean value down to $ \\pm 1 \\; nm$ if the only source of errors was undersampling. Since other errors will be present, **I think we should aim to measure 10,000 telomeres** in an experiment to bring down the uncertainty in the mean."
   ]
  },
  {
   "cell_type": "markdown",
   "metadata": {},
   "source": [
    "# Confidence intervals for the wild type measurements"
   ]
  },
  {
   "cell_type": "markdown",
   "metadata": {},
   "source": [
    "Let's test this estimation by computing the standard errors and confidence intervals for the wild type experiments. In these experiments, between 1000 and 1500 telomeres were measured, so their uncertainties should be between 1 and 5 $nm$."
   ]
  },
  {
   "cell_type": "code",
   "execution_count": 3,
   "metadata": {
    "collapsed": false
   },
   "outputs": [
    {
     "name": "stdout",
     "output_type": "stream",
     "text": [
      "Using matplotlib backend: TkAgg\n",
      "Populating the interactive namespace from numpy and matplotlib\n"
     ]
    }
   ],
   "source": [
    "# Read the wild type distributions into the environment\n",
    "%pylab\n",
    "\n",
    "pathToDists = '../../saved_distrs/'\n",
    "\n",
    "hl = np.loadtxt(pathToDists + 'Original_Data_L_dataset_RgTrans')\n",
    "hs = np.loadtxt(pathToDists + 'Original_Data_S_dataset_RgTrans')"
   ]
  },
  {
   "cell_type": "code",
   "execution_count": 11,
   "metadata": {
    "collapsed": false
   },
   "outputs": [
    {
     "name": "stdout",
     "output_type": "stream",
     "text": [
      "Hela L, mean: 105.1\n",
      "Hela L, std.: 29.0\n",
      "Hela L,    N: 1754.0\n",
      "--------------------\n",
      "Hela S, mean: 80.2\n",
      "Hela S, std.: 19.1\n",
      "Hela S,    N: 1041.0\n"
     ]
    }
   ],
   "source": [
    "print('Hela L, mean: {0:.1f}'.format(np.mean(hl)))\n",
    "print('Hela L, std.: {0:.1f}'.format(np.std(hl)))\n",
    "print('Hela L,    N: {0:.1f}'.format(hl.size))\n",
    "print('--------------------')\n",
    "print('Hela S, mean: {0:.1f}'.format(np.mean(hs)))\n",
    "print('Hela S, std.: {0:.1f}'.format(np.std(hs)))\n",
    "print('Hela S,    N: {0:.1f}'.format(hs.size))"
   ]
  },
  {
   "cell_type": "code",
   "execution_count": 15,
   "metadata": {
    "collapsed": false
   },
   "outputs": [
    {
     "name": "stdout",
     "output_type": "stream",
     "text": [
      "Hela L, standard error of the mean: 0.69\n",
      "Hela S, standard error of the mean: 0.59\n"
     ]
    }
   ],
   "source": [
    "stdErrL = np.std(hl) / np.sqrt(hl.size)\n",
    "print('Hela L, standard error of the mean: {0:.2f} nm'.format(stdErrL))\n",
    "\n",
    "stdErrS = np.std(hs) / np.sqrt(hs.size)\n",
    "print('Hela S, standard error of the mean: {0:.2f} nm'.format(stdErrS))"
   ]
  },
  {
   "cell_type": "markdown",
   "metadata": {},
   "source": [
    "Surprisingly, these numbers are quite small relative to the $5 \\; nm$ I quoted above. I derived this $\\pm 5 \\; nm$ value from the *confidence intervals for the difference of means* from the TRF1 experiments, so really I should ask what is the standard error for the difference of means."
   ]
  },
  {
   "cell_type": "code",
   "execution_count": 16,
   "metadata": {
    "collapsed": false
   },
   "outputs": [
    {
     "name": "stdout",
     "output_type": "stream",
     "text": [
      "Hela L, estimate of standard error for difference of means: 0.98 nm\n",
      "Hela S, estimate of standard error for difference of means: 0.84 nm\n"
     ]
    }
   ],
   "source": [
    "stdErrDiffL = np.sqrt(2) * stdErrL\n",
    "print('Hela L, estimate of standard error for difference of means: {0:.2f} nm'.format(stdErrDiffL))\n",
    "\n",
    "stdErrDiffS = np.sqrt(2) * stdErrS\n",
    "print('Hela S, estimate of standard error for difference of means: {0:.2f} nm'.format(stdErrDiffS))"
   ]
  },
  {
   "cell_type": "markdown",
   "metadata": {},
   "source": [
    "These numbers are still relatively small. Let's see what the widths of the 95% confidence intervals would be by bootstrap resampling the difference between two resampled means from each distribution."
   ]
  },
  {
   "cell_type": "markdown",
   "metadata": {},
   "source": [
    "## Confidence Intervals"
   ]
  },
  {
   "cell_type": "code",
   "execution_count": 17,
   "metadata": {
    "collapsed": true
   },
   "outputs": [],
   "source": [
    "from sigTestHelpers import bootstrapDiff"
   ]
  },
  {
   "cell_type": "code",
   "execution_count": 20,
   "metadata": {
    "collapsed": true
   },
   "outputs": [],
   "source": [
    "# bootstrapDiff creates 100,000 resamples by default\n",
    "(CIl, pValuel) = bootstrapDiff(hl, hl)\n",
    "(CIs, pValues) = bootstrapDiff(hs, hs)"
   ]
  },
  {
   "cell_type": "code",
   "execution_count": 23,
   "metadata": {
    "collapsed": false
   },
   "outputs": [
    {
     "name": "stdout",
     "output_type": "stream",
     "text": [
      "Hela L, width of 95% confidence interval: 3.83\n",
      "Hela S, width of 95% confidence interval: 3.28\n"
     ]
    }
   ],
   "source": [
    "CIWidthL = CIl[1] - CIl[0]\n",
    "print('Hela L, width of 95% confidence interval: {0:.2f}'.format(CIWidthL))\n",
    "\n",
    "CIWidthS = CIs[1] - CIs[0]\n",
    "print('Hela S, width of 95% confidence interval: {0:.2f}'.format(CIWidthS))"
   ]
  },
  {
   "cell_type": "markdown",
   "metadata": {},
   "source": [
    "These numbers are much more in line with the estimates I made above and are probably more indicative of the . For the TRF knockdowns, the 95% confidence interval was roughly $\\pm 5 \\; nm$. Each sample had roughly 200 telomeres.\n",
    "\n",
    "In the wild type experiments, which have between 5 and 7 times more telomeres per sample, the width of the confidence intervals have shrunk to $3.8 \\; nm$ and $3.3 \\; nm$, respectively.\n",
    "\n",
    "**So if we want to measure a difference in mean telomere sizes with an uncertainty (as measured by the width of the 95% confidence interval) that is about $\\pm 1 \\; nm$, between 5000 and 10,000 telomeres will be required.**\n",
    "\n",
    "We should probably aim for 10,000 due to other errors that can arise besides simple subsampling."
   ]
  },
  {
   "cell_type": "code",
   "execution_count": 26,
   "metadata": {
    "collapsed": false
   },
   "outputs": [
    {
     "data": {
      "text/plain": [
       "0.35355339059327373"
      ]
     },
     "execution_count": 26,
     "metadata": {},
     "output_type": "execute_result"
    }
   ],
   "source": [
    "5 / np.sqrt(200)"
   ]
  },
  {
   "cell_type": "code",
   "execution_count": 29,
   "metadata": {
    "collapsed": false
   },
   "outputs": [
    {
     "data": {
      "text/plain": [
       "0.11067971810589328"
      ]
     },
     "execution_count": 29,
     "metadata": {},
     "output_type": "execute_result"
    }
   ],
   "source": [
    "3.5 / np.sqrt(1000)"
   ]
  },
  {
   "cell_type": "code",
   "execution_count": null,
   "metadata": {
    "collapsed": true
   },
   "outputs": [],
   "source": []
  }
 ],
 "metadata": {
  "kernelspec": {
   "display_name": "Python 3",
   "language": "python",
   "name": "python3"
  },
  "language_info": {
   "codemirror_mode": {
    "name": "ipython",
    "version": 3
   },
   "file_extension": ".py",
   "mimetype": "text/x-python",
   "name": "python",
   "nbconvert_exporter": "python",
   "pygments_lexer": "ipython3",
   "version": "3.4.3"
  }
 },
 "nbformat": 4,
 "nbformat_minor": 0
}
