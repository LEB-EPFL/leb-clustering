{
 "cells": [
  {
   "cell_type": "markdown",
   "metadata": {},
   "source": [
    "# Analysis of the Shelterin Knockdown Data #"
   ]
  },
  {
   "cell_type": "markdown",
   "metadata": {},
   "source": [
    "This workbook describes the analysis performed on the STORM data of Hela cells with various shelterin knockdowns.\n",
    "\n",
    "We started looking at the day-to-day variation in the mean and median radius of gyration ($R_g$) values because we found that some of the datasets were more strongly influencing the shape of the pooled distributions than others. My first attempts at plotting these variations was to plot the mean (or median) radius of gyration as a function of the day the experiment was run. The two time-series curves for the control (pSuper) and the knockdown were compared like this.\n",
    "\n",
    "This seemed to incur a lot of opposition from my group, partly because they saw large changes in the absolute size as troublesome. Seamus suggested instead plotting their differences; this makes sense because there's a strong correlation in relative differences when plotted day-to-day, even if the absolute values change by a lot.\n",
    "\n",
    "Now, I will try plotting the differences between control and knockdowns to see if this is more informative for assessing the dependence of telomere size on any particular Shelterin component."
   ]
  },
  {
   "cell_type": "markdown",
   "metadata": {},
   "source": [
    "## Setup the environment ##"
   ]
  },
  {
   "cell_type": "code",
   "execution_count": 1,
   "metadata": {
    "collapsed": false
   },
   "outputs": [
    {
     "name": "stdout",
     "output_type": "stream",
     "text": [
      "Using matplotlib backend: TkAgg\n",
      "Populating the interactive namespace from numpy and matplotlib\n"
     ]
    }
   ],
   "source": [
    "%pylab\n",
    "\n",
    "# Enable plotting inside this document\n",
    "%matplotlib inline\n",
    "\n",
    "import scipy.io as sio\n",
    "import day2day as d2d\n",
    "from sigTestHelpers import bootstrapDiff"
   ]
  },
  {
   "cell_type": "code",
   "execution_count": 2,
   "metadata": {
    "collapsed": false
   },
   "outputs": [],
   "source": [
    "pathToDists = '../Experiment_6_Pool_TRF1_TRF2/'\n",
    "\n",
    "# Read the Matlab data into the Python namespace\n",
    "mlData = sio.loadmat(''.join((pathToDists, 'matlab.mat')), variable_names = 'data')\n",
    "\n",
    "# List of experiment names to read\n",
    "# (Note that we're not including the pooled data anymore)\n",
    "expName = {'pSuper' : ['08-09-2014 pSuper',\n",
    "                       '09-09-2014 pSuper',\n",
    "                       '21-10-2014 pSuper',\n",
    "                       '05-11-2014 pSuper',\n",
    "                       '17-11-2014 pSuper'],\n",
    "           'TRF1' :   ['08-09-2014 TRF1',\n",
    "                       '09-09-2014 TRF1',\n",
    "                       '21-10-2014 TRF1',\n",
    "                       '05-11-2014 TRF1',\n",
    "                       '17-11-2014 TRF1'],\n",
    "           'TRF2' :   ['08-09-2014 TRF2',\n",
    "                       '09-09-2014 TRF2',\n",
    "                       '21-10-2014 TRF2',\n",
    "                       '05-11-2014 TRF2',\n",
    "                       '17-11-2014 TRF2'],\n",
    "           'TRF1/2' : ['08-09-2014 TRF1 TRF2',\n",
    "                       '09-09-2014 TRF1 TRF2',\n",
    "                       '21-10-2014 TRF1 TRF2',\n",
    "                       '05-11-2014 TRF1 TRF2',\n",
    "                       '17-11-2014 TRF1 TRF2']}\n",
    "\n",
    "stats = {'Hela L' : {'Mean' : {'Diffs' : {}}, 'Median' : {'Diffs' : {}}, 'Std. Err.' : {'Diffs' : {}}},\n",
    "         'Hela S' : {'Mean' : {'Diffs' : {}}, 'Median' : {'Diffs' : {}}, 'Std. Err.' : {'Diffs' : {}}}}\n",
    "\n",
    "# Remove pSuper from experiment names to make plot xtick labels\n",
    "ticklabels = []\n",
    "for label in expName['pSuper']:\n",
    "    ticklabels.append(label[:-7])\n",
    "ticklabels = sorted(ticklabels)\n"
   ]
  },
  {
   "cell_type": "markdown",
   "metadata": {},
   "source": [
    "## Read the distributions into memory ##"
   ]
  },
  {
   "cell_type": "code",
   "execution_count": 3,
   "metadata": {
    "collapsed": false
   },
   "outputs": [],
   "source": [
    "# Define the dictionary for holding the distribution data\n",
    "dists = {'Hela L' : {name: {} for name in expName.keys()},\n",
    "         'Hela S' : {name: {} for name in expName.keys()}}\n",
    "\n",
    "# Assign the distribution for each data to a leaf in the tree of distributions above\n",
    "for name in expName.keys():\n",
    "    dists['Hela L'][name], _ = d2d.findStats(mlData, expName[name], cellType = 'L', statistic = 'identity')\n",
    "    dists['Hela S'][name], _ = d2d.findStats(mlData, expName[name], cellType = 'S', statistic = 'identity')"
   ]
  },
  {
   "cell_type": "markdown",
   "metadata": {},
   "source": [
    "## Compute the summary statistics ##"
   ]
  },
  {
   "cell_type": "code",
   "execution_count": 4,
   "metadata": {
    "collapsed": false
   },
   "outputs": [],
   "source": [
    "# Calculate all means, medians, and standard errors of the means\n",
    "for name in expName.keys():\n",
    "    stats['Hela L']['Mean'][name],   stats['Hela L']['Std. Err.'][name]   = d2d.findStats(mlData, expName[name], cellType = 'L', statistic = 'mean')\n",
    "    stats['Hela L']['Median'][name], _                                    = d2d.findStats(mlData, expName[name], cellType = 'L', statistic = 'median')\n",
    "    \n",
    "    stats['Hela S']['Mean'][name],   stats['Hela S']['Std. Err.'][name]   = d2d.findStats(mlData, expName[name], cellType = 'S', statistic = 'mean')\n",
    "    stats['Hela S']['Median'][name], _                                    = d2d.findStats(mlData, expName[name], cellType = 'S', statistic = 'median')"
   ]
  },
  {
   "cell_type": "markdown",
   "metadata": {},
   "source": [
    "### Find differences between knockdowns and control ###"
   ]
  },
  {
   "cell_type": "markdown",
   "metadata": {},
   "source": [
    "Now that the means and medians for each experiment have been calculated, we'll compute the difference between each knockdown experiment and the control (labeled pSuper)."
   ]
  },
  {
   "cell_type": "code",
   "execution_count": 5,
   "metadata": {
    "collapsed": true
   },
   "outputs": [],
   "source": [
    "# Filter out pSuper from names of keys\n",
    "listOfKDs = list(filter(lambda x: (x != 'pSuper') and (x != 'Diffs'), stats['Hela L']['Mean'].keys()))\n",
    "\n",
    "for knockdown in listOfKDs:\n",
    "    diffMeanL   = -d2d.sortStats(stats['Hela L']['Mean']['pSuper'])   + d2d.sortStats(stats['Hela L']['Mean'][knockdown])\n",
    "    diffMedianL = -d2d.sortStats(stats['Hela L']['Median']['pSuper']) + d2d.sortStats(stats['Hela L']['Median'][knockdown])\n",
    "    diffMeanS   = -d2d.sortStats(stats['Hela S']['Mean']['pSuper'])   + d2d.sortStats(stats['Hela S']['Mean'][knockdown])\n",
    "    diffMedianS = -d2d.sortStats(stats['Hela S']['Median']['pSuper']) + d2d.sortStats(stats['Hela S']['Median'][knockdown])\n",
    "    \n",
    "    diffErrL = sqrt(d2d.sortStats(stats['Hela L']['Std. Err.']['pSuper'])**2 + d2d.sortStats(stats['Hela L']['Std. Err.'][knockdown])**2)\n",
    "    diffErrS = sqrt(d2d.sortStats(stats['Hela S']['Std. Err.']['pSuper'])**2 + d2d.sortStats(stats['Hela S']['Std. Err.'][knockdown])**2)\n",
    "    \n",
    "    stats['Hela L']['Mean']['Diffs'][knockdown]      = diffMeanL\n",
    "    stats['Hela L']['Median']['Diffs'][knockdown]    = diffMedianL\n",
    "    stats['Hela L']['Std. Err.']['Diffs'][knockdown] = diffErrL\n",
    "    stats['Hela S']['Mean']['Diffs'][knockdown]      = diffMeanS\n",
    "    stats['Hela S']['Median']['Diffs'][knockdown]    = diffMedianS\n",
    "    stats['Hela S']['Std. Err.']['Diffs'][knockdown] = diffErrS"
   ]
  },
  {
   "cell_type": "markdown",
   "metadata": {},
   "source": [
    "## Find the bootstrapped confidence intervals ##"
   ]
  },
  {
   "cell_type": "markdown",
   "metadata": {},
   "source": [
    "Originally, I was using the standard error of the mean to construct confidence intervals and assess the difference of means between the control (pSuper) and knockdown distributions. However, this requires an assumption of normality which in all likelihood is not satisfied. So, I will instead compute bootstrap estimates for the confidence intervals."
   ]
  },
  {
   "cell_type": "code",
   "execution_count": 6,
   "metadata": {
    "collapsed": false
   },
   "outputs": [
    {
     "name": "stdout",
     "output_type": "stream",
     "text": [
      "Now computing bootstrap statistics for knockdown: TRF2 and date: 08-09-2014 TRF2\n",
      "Now computing bootstrap statistics for knockdown: TRF2 and date: 21-10-2014 TRF2\n",
      "Now computing bootstrap statistics for knockdown: TRF2 and date: 09-09-2014 TRF2\n",
      "Now computing bootstrap statistics for knockdown: TRF2 and date: 05-11-2014 TRF2\n",
      "Now computing bootstrap statistics for knockdown: TRF2 and date: 17-11-2014 TRF2\n",
      "Now computing bootstrap statistics for knockdown: TRF1/2 and date: 05-11-2014 TRF1 TRF2\n",
      "Now computing bootstrap statistics for knockdown: TRF1/2 and date: 17-11-2014 TRF1 TRF2\n",
      "Now computing bootstrap statistics for knockdown: TRF1/2 and date: 08-09-2014 TRF1 TRF2\n",
      "Now computing bootstrap statistics for knockdown: TRF1/2 and date: 21-10-2014 TRF1 TRF2\n",
      "Now computing bootstrap statistics for knockdown: TRF1/2 and date: 09-09-2014 TRF1 TRF2\n",
      "Now computing bootstrap statistics for knockdown: TRF1 and date: 05-11-2014 TRF1\n",
      "Now computing bootstrap statistics for knockdown: TRF1 and date: 21-10-2014 TRF1\n",
      "Now computing bootstrap statistics for knockdown: TRF1 and date: 09-09-2014 TRF1\n",
      "Now computing bootstrap statistics for knockdown: TRF1 and date: 08-09-2014 TRF1\n",
      "Now computing bootstrap statistics for knockdown: TRF1 and date: 17-11-2014 TRF1\n"
     ]
    }
   ],
   "source": [
    "# Build the bootstrap branch of the stats dictionary\n",
    "stats['Hela L']['Bootstrap'] = {'TRF1'   : {},\n",
    "                                'TRF2'   : {},\n",
    "                                'TRF1/2' : {}}\n",
    "stats['Hela S']['Bootstrap'] = {'TRF1'   : {},\n",
    "                                'TRF2'   : {},\n",
    "                                'TRF1/2' : {}}\n",
    "\n",
    "for name in listOfKDs:\n",
    "    # Get the dates from stats['Hela L']['Mean']\n",
    "    # I could have gotten them from another branch of the stats dictionary as well.\n",
    "    for key in stats['Hela L']['Mean'][name].keys():\n",
    "        # Load the the two distributions for which to compute the bootstrap statistics\n",
    "        currDate  = key[:10]\n",
    "        \n",
    "        controlL  = dists['Hela L']['pSuper'][' '.join((currDate, 'pSuper'))]\n",
    "        controlS  = dists['Hela S']['pSuper'][' '.join((currDate, 'pSuper'))]\n",
    "        \n",
    "        currDistL = dists['Hela L'][name][key]\n",
    "        currDistS = dists['Hela S'][name][key]\n",
    "        \n",
    "        # Create two keys in the dictionary: one for the confidence intervals and one for the p-value\n",
    "        stats['Hela L']['Bootstrap'][name][key] = {'CI': [], 'pValue': []}\n",
    "        stats['Hela S']['Bootstrap'][name][key] = {'CI': [], 'pValue': []}\n",
    "        \n",
    "        print('Now computing bootstrap statistics for knockdown: {0} and date: {1}'.format(name, key))\n",
    "        \n",
    "        # Compute the bootstrapped confidence interval and p-values for the difference of means\n",
    "        stats['Hela L']['Bootstrap'][name][key]['CI'], stats['Hela L']['Bootstrap'][name][key]['pValue'] = bootstrapDiff(currDistL, controlL)\n",
    "        stats['Hela S']['Bootstrap'][name][key]['CI'], stats['Hela S']['Bootstrap'][name][key]['pValue'] = bootstrapDiff(currDistS, controlS)"
   ]
  },
  {
   "cell_type": "markdown",
   "metadata": {},
   "source": [
    "### Verify everything was computed correctly ###"
   ]
  },
  {
   "cell_type": "markdown",
   "metadata": {},
   "source": [
    "You can verify that the numbers are more-or-less the same (they'll differ slightly due to random resampling) by changing the keys in the next two lines so that you compute the bootstrap difference and compare it to the one computed in the previous section inside the **stats** dictionary."
   ]
  },
  {
   "cell_type": "code",
   "execution_count": 7,
   "metadata": {
    "collapsed": false
   },
   "outputs": [
    {
     "data": {
      "text/plain": [
       "((-2.3861401175583929, 9.8391722766962548), 0.12498)"
      ]
     },
     "execution_count": 7,
     "metadata": {},
     "output_type": "execute_result"
    }
   ],
   "source": [
    "bootstrapDiff(dists['Hela L']['TRF2']['08-09-2014 TRF2'], dists['Hela L']['pSuper']['08-09-2014 pSuper'])"
   ]
  },
  {
   "cell_type": "code",
   "execution_count": 8,
   "metadata": {
    "collapsed": false
   },
   "outputs": [
    {
     "data": {
      "text/plain": [
       "{'CI': (-2.3479111416757799, 9.8117761593272661), 'pValue': 0.12377}"
      ]
     },
     "execution_count": 8,
     "metadata": {},
     "output_type": "execute_result"
    }
   ],
   "source": [
    "stats['Hela L']['Bootstrap']['TRF2']['08-09-2014 TRF2']"
   ]
  },
  {
   "cell_type": "code",
   "execution_count": 10,
   "metadata": {
    "collapsed": false
   },
   "outputs": [
    {
     "data": {
      "text/plain": [
       "{'TRF1': {'05-11-2014 TRF1': {'CI': (10.185566410467555, 19.664110255897764),\n",
       "   'pValue': 0.0},\n",
       "  '08-09-2014 TRF1': {'CI': (1.3970330734637342, 16.369136375453675),\n",
       "   'pValue': 0.01158},\n",
       "  '09-09-2014 TRF1': {'CI': (7.7833383188716265, 20.479813327511501),\n",
       "   'pValue': 1e-05},\n",
       "  '17-11-2014 TRF1': {'CI': (4.9297716067027162, 18.619892928573865),\n",
       "   'pValue': 0.00049},\n",
       "  '21-10-2014 TRF1': {'CI': (11.147509205472844, 23.453260898142766),\n",
       "   'pValue': 0.0}},\n",
       " 'TRF1/2': {'05-11-2014 TRF1 TRF2': {'CI': (20.107218616665605,\n",
       "    29.145255959791999),\n",
       "   'pValue': 0.0},\n",
       "  '08-09-2014 TRF1 TRF2': {'CI': (1.8779169292261024, 18.271559814165709),\n",
       "   'pValue': 0.01015},\n",
       "  '09-09-2014 TRF1 TRF2': {'CI': (9.3965703537910521, 23.589957505531856),\n",
       "   'pValue': 1e-05},\n",
       "  '17-11-2014 TRF1 TRF2': {'CI': (-4.9520895419082676, 11.281707499264092),\n",
       "   'pValue': 0.22719},\n",
       "  '21-10-2014 TRF1 TRF2': {'CI': (3.2366631659170753, 12.047832008902372),\n",
       "   'pValue': 0.00025}},\n",
       " 'TRF2': {'05-11-2014 TRF2': {'CI': (6.6004544647273633, 13.741091079443878),\n",
       "   'pValue': 0.0},\n",
       "  '08-09-2014 TRF2': {'CI': (-4.6198624765478877, 6.828326672751416),\n",
       "   'pValue': 0.34759},\n",
       "  '09-09-2014 TRF2': {'CI': (-9.1124493728920477, -0.74581596344400958),\n",
       "   'pValue': 0.01086},\n",
       "  '17-11-2014 TRF2': {'CI': (-14.08332516809366, -2.1684379067016533),\n",
       "   'pValue': 0.00296},\n",
       "  '21-10-2014 TRF2': {'CI': (-12.39869539039055, -4.482049778927788),\n",
       "   'pValue': 4e-05}}}"
      ]
     },
     "execution_count": 10,
     "metadata": {},
     "output_type": "execute_result"
    }
   ],
   "source": [
    "stats['Hela S']['Bootstrap']"
   ]
  },
  {
   "cell_type": "markdown",
   "metadata": {},
   "source": [
    "-----\n",
    "# Plot the results"
   ]
  },
  {
   "cell_type": "markdown",
   "metadata": {},
   "source": [
    "Check out [this link](http://nbviewer.ipython.org/gist/fonnesbeck/5850463) for ideas on plotting the scatter."
   ]
  },
  {
   "cell_type": "code",
   "execution_count": 5,
   "metadata": {
    "collapsed": false
   },
   "outputs": [
    {
     "data": {
      "image/png": "[encoded data removed]",
      "text/plain": [
       "<matplotlib.figure.Figure at 0x7f2967d47d68>"
      ]
     },
     "metadata": {},
     "output_type": "display_data"
    }
   ],
   "source": [
    "fig, ax1 = plt.subplots(1, 1, figsize = (8,6))\n",
    "\n",
    "lineprops = dict(linewidth = 1.0, color = 'k')\n",
    "pointSpread = 0.15 # For spreading the datapoints in the x-direction\n",
    "pointSize = 4 # Data point marker size\n",
    "\n",
    "# Hela L\n",
    "dataLength = len(stats['Hela L']['Mean']['Diffs']['TRF1'])\n",
    "ax1.errorbar(1 + linspace(-pointSpread, pointSpread, dataLength),\n",
    "             stats['Hela L']['Mean']['Diffs']['TRF1'],\n",
    "             yerr  = stats['Hela L']['Std. Err.']['Diffs']['TRF1'],\n",
    "             fmt   = 'ok',\n",
    "             alpha = 0.65,\n",
    "             markersize = pointSize)\n",
    "\n",
    "dataLength = len(stats['Hela L']['Mean']['Diffs']['TRF2'])\n",
    "ax1.errorbar(2 + linspace(-pointSpread, pointSpread, dataLength),\n",
    "             stats['Hela L']['Mean']['Diffs']['TRF2'],\n",
    "             yerr  = stats['Hela L']['Std. Err.']['Diffs']['TRF2'],\n",
    "             fmt   = 'ok',\n",
    "             alpha = 0.65,\n",
    "             markersize = pointSize)\n",
    "\n",
    "dataLength = len(stats['Hela L']['Mean']['Diffs']['TRF1/2'])\n",
    "ax1.errorbar(3 + linspace(-pointSpread, pointSpread, dataLength),\n",
    "             stats['Hela L']['Mean']['Diffs']['TRF1/2'],\n",
    "             yerr  = stats['Hela L']['Std. Err.']['Diffs']['TRF1/2'],\n",
    "             fmt   = 'ok',\n",
    "             alpha = 0.65,\n",
    "             markersize = pointSize)\n",
    "\n",
    "ax1.plot([0,4], [0,0], 'k', linewidth = 1)\n",
    "\n",
    "ax1.spines['top'].set_visible(False)\n",
    "ax1.spines['right'].set_visible(False)\n",
    "ax1.xaxis.set_ticks_position('bottom')\n",
    "ax1.yaxis.set_ticks_position('left')\n",
    "\n",
    "ax1.set_xlim((0.5, 3.5))\n",
    "ax1.set_ylim((-20, 30))\n",
    "ax1.set_xticks([1,2,3])\n",
    "ax1.set_xticklabels(['TRF1', 'TRF2', 'TRF1/2'])\n",
    "ax1.set_ylabel(r'Differences in mean $R_g$, nm')\n",
    "plt.tight_layout()\n",
    "plt.show()"
   ]
  },
  {
   "cell_type": "markdown",
   "metadata": {},
   "source": [
    "### Hela S"
   ]
  },
  {
   "cell_type": "code",
   "execution_count": 7,
   "metadata": {
    "collapsed": false
   },
   "outputs": [
    {
     "data": {
      "image/png": "[encoded data removed]",
      "text/plain": [
       "<matplotlib.figure.Figure at 0x7f29677ae208>"
      ]
     },
     "metadata": {},
     "output_type": "display_data"
    }
   ],
   "source": [
    "fig, ax2 = plt.subplots(1, 1, figsize = (8,6))\n",
    "\n",
    "lineprops = dict(linewidth = 1.0, color = 'k')\n",
    "pointSpread = 0.15 # For spreading the datapoints in the x-direction\n",
    "pointSize = 4 # Data point marker size\n",
    "\n",
    "# Hela S\n",
    "dataLength = len(stats['Hela S']['Mean']['Diffs']['TRF1'])\n",
    "ax2.errorbar(1 + linspace(-pointSpread, pointSpread, dataLength),\n",
    "             stats['Hela S']['Mean']['Diffs']['TRF1'],\n",
    "             yerr  = stats['Hela S']['Std. Err.']['Diffs']['TRF1'],\n",
    "             fmt   = 'ok',\n",
    "             alpha = 0.65,\n",
    "             markersize = pointSize)\n",
    "\n",
    "dataLength = len(stats['Hela S']['Mean']['Diffs']['TRF2'])\n",
    "ax2.errorbar(2 + linspace(-pointSpread, pointSpread, dataLength),\n",
    "             stats['Hela S']['Mean']['Diffs']['TRF2'],\n",
    "             yerr  = stats['Hela S']['Std. Err.']['Diffs']['TRF2'],\n",
    "             fmt   = 'ok',\n",
    "             alpha = 0.65,\n",
    "             markersize = pointSize)\n",
    "\n",
    "dataLength = len(stats['Hela S']['Mean']['Diffs']['TRF1/2'])\n",
    "ax2.errorbar(3 + linspace(-pointSpread, pointSpread, dataLength),\n",
    "             stats['Hela S']['Mean']['Diffs']['TRF1/2'],\n",
    "             yerr  = stats['Hela S']['Std. Err.']['Diffs']['TRF1/2'],\n",
    "             fmt   = 'ok',\n",
    "             alpha = 0.65,\n",
    "             markersize = pointSize)\n",
    "\n",
    "ax2.plot([0,4], [0,0], 'k', linewidth = 1)\n",
    "\n",
    "ax2.spines['top'].set_visible(False)\n",
    "ax2.spines['right'].set_visible(False)\n",
    "ax2.xaxis.set_ticks_position('bottom')\n",
    "ax2.yaxis.set_ticks_position('left')\n",
    "\n",
    "\n",
    "ax2.set_xlim((0.5, 3.5))\n",
    "ax2.set_ylim((-20, 30))\n",
    "ax2.set_xticks([1,2,3])\n",
    "ax2.set_xticklabels(['TRF1', 'TRF2', 'TRF1/2'])\n",
    "ax2.set_ylabel(r'Differences in mean $R_g$, nm')\n",
    "plt.tight_layout()\n",
    "plt.show()"
   ]
  },
  {
   "cell_type": "code",
   "execution_count": 38,
   "metadata": {
    "collapsed": false
   },
   "outputs": [
    {
     "data": {
      "text/plain": [
       "{'05-11-2014 pSuper': 104.48501451769501,\n",
       " '08-09-2014 pSuper': 92.761869442628822,\n",
       " '09-09-2014 pSuper': 104.86097856561541,\n",
       " '17-11-2014 pSuper': 104.17189384266248,\n",
       " '21-10-2014 pSuper': 104.52121031237121}"
      ]
     },
     "execution_count": 38,
     "metadata": {},
     "output_type": "execute_result"
    }
   ],
   "source": []
  },
  {
   "cell_type": "code",
   "execution_count": 39,
   "metadata": {
    "collapsed": false
   },
   "outputs": [
    {
     "data": {
      "text/plain": [
       "array([ 104.48501452,   92.76186944,  104.86097857,  104.17189384,\n",
       "        104.52121031])"
      ]
     },
     "execution_count": 39,
     "metadata": {},
     "output_type": "execute_result"
    }
   ],
   "source": []
  },
  {
   "cell_type": "code",
   "execution_count": null,
   "metadata": {
    "collapsed": true
   },
   "outputs": [],
   "source": []
  }
 ],
 "metadata": {
  "kernelspec": {
   "display_name": "Python 3",
   "language": "python",
   "name": "python3"
  },
  "language_info": {
   "codemirror_mode": {
    "name": "ipython",
    "version": 3
   },
   "file_extension": ".py",
   "mimetype": "text/x-python",
   "name": "python",
   "nbconvert_exporter": "python",
   "pygments_lexer": "ipython3",
   "version": "3.4.3"
  }
 },
 "nbformat": 4,
 "nbformat_minor": 0
}
